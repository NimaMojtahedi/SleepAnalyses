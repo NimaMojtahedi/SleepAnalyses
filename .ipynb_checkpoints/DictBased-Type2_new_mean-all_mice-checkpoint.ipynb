{
 "cells": [
  {
   "cell_type": "code",
   "execution_count": 1,
   "id": "2caca142",
   "metadata": {},
   "outputs": [],
   "source": [
    "import pandas as pd\n",
    "import numpy as np\n",
    "import matplotlib.pyplot as plt\n",
    "import seaborn as sns\n",
    "import os\n",
    "from tqdm import tqdm\n",
    "import json\n",
    "\n",
    "from utils import create_dict, create_list, get_data, find_type2_locations, find_type3_locations, find_type4_locations\n",
    "from utils import applyArtifacts, removeCells, avg_firing, NumpyEncoder, avg_amplitude, nrActiveCells, div_avg_firing, div_avg_amplitude, top_least\n",
    "from utils import cellID, spindle_locs, search_spindle, spi_inOut_diff, zscore_calculator\n",
    "from Analyses_ import slo_spi\n",
    "%config Completer.use_jedi = False"
   ]
  },
  {
   "cell_type": "markdown",
   "id": "5238a7d3",
   "metadata": {},
   "source": [
    "### Input informations"
   ]
  },
  {
   "cell_type": "code",
   "execution_count": 2,
   "id": "42bd0411",
   "metadata": {
    "scrolled": true
   },
   "outputs": [],
   "source": [
    "all_address =['L:/analysis_nima/250520_m18a/Batch_4', 'L:/analysis_nima/290520_m17a/Batch/extracells/Batch_2',\n",
    "                'L:/analysis_nima/110620_m18b/new/Batch_3', 'L:/analysis_nima/050820_m21a/Batch_4',\n",
    "                'L:/analysis_nima/030720_m20a/Batch_3', 'L:/analysis_nima/291020_m23a/Batch_2', \n",
    "               'L:/analysis_nima/210121_m24a/Batch_1']\n",
    "\n",
    "# sampling rate for different mice\n",
    "sfs = [30.995, 30.995, 30.955, 30.995, 30.995, 30.9576, 30.995]\n",
    "\n",
    "# defining artifacts\n",
    "custom_artifacts_1 = [[11007,11008,4]]\n",
    "custom_artifacts_2 = [[11630,11947,0],[12000,12700,0],[4533,5154,14]]\n",
    "custom_artifacts_3 = []\n",
    "custom_artifacts_4 = [[1595,1845,0],[4609,4907,0],[7740,7983,0],[13795,14101,0],[16706,16973,0],\n",
    "             [7266,7501,1],[11912,12219,1],[12703,13203,1],[13730,13909,1],[15097,15559,1],[17277,17519,1],\n",
    "             [1416,1793,2],[3816,4123,2],[13254,13593,2],[15224,15703,2],[17668,18067,2],\n",
    "             [7358,7521,3],[10240,10253,3],[13672,13748,3],[17306,17593,3],\n",
    "             [5505,5939,4],[6222,6231,4],[16760,16820,4],[18450,18573,4],                           \n",
    "             [1132,1357,7],[8653,8776,7],[9946,10391,7],\n",
    "             [9068,9323,7],[13589,13623,7],[17394,17547,7],\n",
    "             [1,140,8],[908,965,8],[7638,7665,8],[8014,8027,8],[14726,14922,8],[18022,18187,8],\n",
    "             [1912,2381,9],[2920,2923,9],[7767,7819,9],[7864,7997,9],[9876,10197,9],[15206,15545,9],\n",
    "             [6734,7220,10],[9668,9939,10],\n",
    "             [8914,9290,11],[9562,9571,11],[12216,12339,11],\n",
    "             [11492,11553,12],[13898,13919,12],\n",
    "             [6298,6619,13],[12282,12795,13],[14406,14507,13],[14798,14875,13],\n",
    "             [1,220,14],[1878,2108,14],[9872,9961,14],\n",
    "             [4764,4813,15],[5564,5571,15],[15419,15595,15],[16003,16089,15],[16420,16482,15],\n",
    "             [4240,4403,16],[9975,10077,16],[10274,10275,16],[13228,13451,16],[13805,13939,16],[14620,14664,16],[15764,15857,16],[18430,18537,16],\n",
    "             [10425,10591,17],[11058,11709,17],[12232,12311,17],[12784,12804,17],[17000,17115,17],\n",
    "             [10655,10825,18],[11993,12075,18],[12648,12685,18],[16013,16134,18],\n",
    "             [14466,15015,19],[16876,17009,19],[18398,18573,19],\n",
    "            [628,958,23],[7822,7976,23],[10298,10435,23],[13899,14241,23],[14466,14537,23],[15773,15848,23],[17664,17925,23],[18291,18426,23],\n",
    "            [4309,4512,24],[5271,5467,24],[6450,6700,24],[7186,7593,24],\n",
    "            [460,700,25],[1714,1725,25],[4045,4153,25],[13600,13699,25],\n",
    "            [4434,4568,26],[5984,6167,26],\n",
    "            [1770,1831,27],[4060,4064,27],\n",
    "            [2000,2193,28],[11098,11334,28],\n",
    "            [5921,5997,30],[8200,8210,30],[9189,9191,30],\n",
    "            [686,852,31],[13375,13543,31],[14059,14334,31],[15808,15883,31],\n",
    "            [10760,10800,33],[13942,14061,33],[17672,17738,33],\n",
    "            [10576,10604,41]]\n",
    "custom_artifacts_5 = [[3928,3971,0],[4584,4656,0],[7001,7119,0],[14144,14230,0],[14466,14501,0],[15591,15593,0],\n",
    "            [559,603,1],[2187,2214,1],[3999,4054,1],[11749,11790,1],[17785,17839,1],\n",
    "            [3403,3491,2],[11936,11980,2],\n",
    "            [1397,1465,3],[13881,13889,3],[14510,14526,3],[18377,18441,3],                                                                                           \n",
    "            [2585,2635,4], [6722,6771,4],[10867,10897,4],[16543,16615,4],\n",
    "            [740,825,5],[2026,2113,5],[13025,13051,5],\n",
    "            [798,863,6],[1795,1857,6],[3949,3980,6],[5190,5244,6],[10480,10547,6],[11219,11301,6],[12144,12191,6],[12690,12747,6],\n",
    "            [1343,1441,7],[2618,2684,7],[2709,2713,7],[3427,3496,7],[4138,4185,7],[4532,4567,7],[5694,8768,7],[9513,9562,7],[12510,12644,7],[15000,15073,7],\n",
    "            [96,140,8],[4175,4258,8],\n",
    "            [409,564,9],[13291,13497,9],[16520,18573,9],\n",
    "            [9968,10026,10],[14269,14335,10],[16569,16616,10],\n",
    "            [404,557,11],[12553,12649,11],\n",
    "            [503,598,13],[2832,2889,13],[13151,13218,13],[18276,18343,13],\n",
    "            [769,954,14],[980,1001,14],[2324,2389,14],[4286,4297,14],\n",
    "            [3349,3447,15],[6128,6221,15],\n",
    "            [8475,8543,16],\n",
    "            [9792,9840,17],\n",
    "            [2984,3007,20],[4131,4183,20],[5025,5042,20],[6330,6355,20],[11818,11893,20],\n",
    "            [6760,6875,21],\n",
    "            [12871,12895,28],[13645,13667,28],[14232,14319,28],[14837,14849,28],[15521,15542,28],[16421,16445,28],[17032,17040,28]]\n",
    "custom_artifacts_6 = [[8863,9191,4],\n",
    "           [5389,5393,7],[5575,5607,7],[5754,5755,7],[5798,6000,7],\n",
    "            [11050,11070,10],[12260,12280,10],\n",
    "            [15125,15290,12],[16420,18160,10],\n",
    "            [13280,13340,13],\n",
    "            [8,23,15],[92,94,15],[481,505,15],\n",
    "            [10035,10500,20],[11024,11044,20],\n",
    "            [5794,5800,21],\n",
    "            [3501,3507,22]]\n",
    "custom_artifacts_7 = [[0,3418,0],[13116,13507,0],[14502,14872,0],\n",
    "              [8000,9000,2],\n",
    "              [1828,2638,3],[8631,12630,3],\n",
    "              [1497,1988,4],[16470,17270,4],\n",
    "              [5113,8239,5],                                                                                         \n",
    "              [2322,2978,6],\n",
    "              [12460,14890,7],\n",
    "              [15600,16060,10],\n",
    "              [4231,4848,11],[6434,6909,11],[9110,11550,11],\n",
    "              [11890,12380,12],\n",
    "              [8410,8820,13],\n",
    "              [3026,3515,14],[13810,14170,14],\n",
    "              [10910,12010,15]]  \n",
    "artifacts = [custom_artifacts_1, custom_artifacts_2, custom_artifacts_3,\n",
    "                custom_artifacts_4, custom_artifacts_5, custom_artifacts_6, custom_artifacts_7]\n",
    "\n",
    "# cell removal \n",
    "remove_cell_1 = []\n",
    "remove_cell_2 = []\n",
    "remove_cell_3 = [62,63,64,65,66,67,68,69,70,80,81,160,161,162,163,164,167,194,195,202,203,204]\n",
    "remove_cell_4 = [13,53,55,57,79,84,85,86,95,99,112,141,144,147,153,177,178,183,184,188,189,191,196,197,198,199,202,219,226,234,235]\n",
    "remove_cell_5 = []\n",
    "remove_cell_6 = [66,84,85,86]\n",
    "remove_cell_7 = []\n",
    "remove_cells = [remove_cell_1, remove_cell_2, remove_cell_3,\n",
    "              remove_cell_4, remove_cell_5, remove_cell_6, remove_cell_7]\n",
    "# mouse name\n",
    "miceName = ['250520_m18a', '290520_m17a', '110620_m18b', '050820_m21a', '030720_m20a', '291020_m23a', '210121_m24a']\n",
    "\n",
    "\n",
    "# saving figure \n",
    "save_fig = True # or False\n",
    "fig_save_add = ''\n",
    "\n",
    "\n",
    "# saving dataframes\n",
    "save_file = True # or False\n",
    "file_save_add = ''"
   ]
  },
  {
   "cell_type": "markdown",
   "id": "ea41e89f",
   "metadata": {},
   "source": [
    "### Creating base data structure and loading data and hypno to it\n",
    "####    If ncessary first apply artifact on data or remove cells then create data structure"
   ]
  },
  {
   "cell_type": "code",
   "execution_count": 3,
   "id": "27111cad",
   "metadata": {
    "scrolled": true
   },
   "outputs": [
    {
     "name": "stdout",
     "output_type": "stream",
     "text": [
      "Your entered path is L:/analysis_nima/250520_m18a/Batch_4\n",
      "All files in the given path \n",
      "\n",
      "['unit01.mat', 'unit02.mat', 'unit03.mat', 'unit04.mat', 'unit05.mat', 'unit06.mat', 'unit07.mat', 'unit08.mat', 'unit09.mat', 'unit10.mat', 'unit11.mat', 'unit12.mat', 'unit13.mat', 'unit14.mat', 'unit15.mat', 'unit16.mat', 'unit17.mat', 'unit18.mat', 'unit19.mat', 'unit20.mat', 'unit21.mat', 'unit22.mat', 'unit23.mat', 'unit24.mat', 'unit25.mat', 'unit26.mat', 'unit27.mat', 'unit28.mat', 'unit29.mat', 'unit30.mat', 'unit31.mat', 'unit32.mat', 'unit33.mat', 'unit34.mat', 'unit35.mat', 'unit36.mat', 'unit37.mat', 'unit38.mat', 'unit39.mat', 'unit40.mat', 'unit41.mat', 'unit42.mat', 'unit43.mat', 'unit44.mat', 'unit45.mat']  Number of all files 45\n",
      "Data are loaded \n",
      "\n",
      "Start reading units \n",
      "\n",
      "unit length is 600 sec, data length is 18597 samples, number of cells are 236 \n",
      "\n",
      "Finished reading units \n",
      "\n",
      "Start reading hypno files \n",
      "\n",
      "Finished reading hypno \n",
      "\n",
      "Location-Time information\n",
      "data and hypno shapes in file L:/analysis_nima/250520_m18a/Batch_4 are: (18597, 236, 45), (18597, 45)\n",
      "Your entered path is L:/analysis_nima/290520_m17a/Batch/extracells/Batch_2\n",
      "All files in the given path \n",
      "\n",
      "['unit01.mat', 'unit02.mat', 'unit03.mat', 'unit04.mat', 'unit05.mat', 'unit06.mat', 'unit07.mat', 'unit08.mat', 'unit09.mat', 'unit10.mat', 'unit11.mat', 'unit12.mat', 'unit13.mat', 'unit14.mat', 'unit15.mat', 'unit16.mat', 'unit17.mat', 'unit18.mat', 'unit19.mat', 'unit20.mat', 'unit21.mat', 'unit22.mat', 'unit23.mat', 'unit24.mat', 'unit25.mat', 'unit26.mat', 'unit27.mat', 'unit28.mat', 'unit29.mat', 'unit30.mat', 'unit31.mat']  Number of all files 31\n",
      "Data are loaded \n",
      "\n",
      "Start reading units \n",
      "\n",
      "unit length is 600 sec, data length is 18597 samples, number of cells are 294 \n",
      "\n",
      "Finished reading units \n",
      "\n",
      "Start reading hypno files \n",
      "\n",
      "Finished reading hypno \n",
      "\n",
      "Location-Time information\n",
      "data and hypno shapes in file L:/analysis_nima/290520_m17a/Batch/extracells/Batch_2 are: (18597, 294, 31), (18597, 31)\n",
      "Your entered path is L:/analysis_nima/110620_m18b/new/Batch_3\n",
      "All files in the given path \n",
      "\n",
      "['unit01.mat', 'unit02.mat', 'unit03.mat', 'unit04.mat', 'unit05.mat', 'unit06.mat', 'unit07.mat', 'unit08.mat', 'unit09.mat', 'unit10.mat', 'unit11.mat', 'unit12.mat', 'unit13.mat', 'unit14.mat', 'unit15.mat', 'unit16.mat', 'unit17.mat', 'unit18.mat', 'unit19.mat', 'unit20.mat', 'unit21.mat', 'unit22.mat', 'unit23.mat', 'unit24.mat', 'unit25.mat', 'unit26.mat']  Number of all files 26\n",
      "Data are loaded \n",
      "\n",
      "Start reading units \n",
      "\n",
      "unit length is 600 sec, data length is 18573 samples, number of cells are 218 \n",
      "\n",
      "Finished reading units \n",
      "\n",
      "Start reading hypno files \n",
      "\n",
      "Finished reading hypno \n",
      "\n",
      "Location-Time information\n",
      "data and hypno shapes in file L:/analysis_nima/110620_m18b/new/Batch_3 are: (18573, 218, 26), (18573, 26)\n",
      "Your entered path is L:/analysis_nima/050820_m21a/Batch_4\n",
      "All files in the given path \n",
      "\n",
      "['unit01.mat', 'unit02.mat', 'unit03.mat', 'unit04.mat', 'unit05.mat', 'unit06.mat', 'unit07.mat', 'unit08.mat', 'unit09.mat', 'unit10.mat', 'unit11.mat', 'unit12.mat', 'unit13.mat', 'unit14.mat', 'unit15.mat', 'unit16.mat', 'unit17.mat', 'unit18.mat', 'unit19.mat', 'unit20.mat', 'unit21.mat', 'unit22.mat', 'unit23.mat', 'unit24.mat', 'unit25.mat', 'unit26.mat', 'unit27.mat', 'unit28.mat', 'unit29.mat', 'unit30.mat', 'unit31.mat', 'unit32.mat', 'unit33.mat', 'unit34.mat', 'unit35.mat', 'unit36.mat', 'unit37.mat', 'unit38.mat', 'unit39.mat', 'unit40.mat', 'unit41.mat', 'unit42.mat', 'unit43.mat', 'unit44.mat', 'unit45.mat', 'unit46.mat']  Number of all files 46\n",
      "Data are loaded \n",
      "\n",
      "Start reading units \n",
      "\n",
      "unit length is 600 sec, data length is 18597 samples, number of cells are 236 \n",
      "\n",
      "Finished reading units \n",
      "\n",
      "Start reading hypno files \n",
      "\n",
      "Finished reading hypno \n",
      "\n",
      "Location-Time information\n",
      "data and hypno shapes in file L:/analysis_nima/050820_m21a/Batch_4 are: (18597, 236, 46), (18597, 46)\n",
      "Your entered path is L:/analysis_nima/030720_m20a/Batch_3\n",
      "All files in the given path \n",
      "\n",
      "['unit01.mat', 'unit02.mat', 'unit03.mat', 'unit04.mat', 'unit05.mat', 'unit06.mat', 'unit07.mat', 'unit08.mat', 'unit09.mat', 'unit10.mat', 'unit11.mat', 'unit12.mat', 'unit13.mat', 'unit14.mat', 'unit15.mat', 'unit16.mat', 'unit17.mat', 'unit18.mat', 'unit19.mat', 'unit20.mat', 'unit21.mat', 'unit22.mat', 'unit23.mat', 'unit24.mat', 'unit25.mat', 'unit26.mat', 'unit27.mat', 'unit28.mat', 'unit29.mat']  Number of all files 29\n",
      "Data are loaded \n",
      "\n",
      "Start reading units \n",
      "\n",
      "unit length is 600 sec, data length is 18597 samples, number of cells are 185 \n",
      "\n",
      "Finished reading units \n",
      "\n",
      "Start reading hypno files \n",
      "\n",
      "Finished reading hypno \n",
      "\n",
      "Location-Time information\n",
      "data and hypno shapes in file L:/analysis_nima/030720_m20a/Batch_3 are: (18597, 185, 29), (18597, 29)\n",
      "Your entered path is L:/analysis_nima/291020_m23a/Batch_2\n",
      "All files in the given path \n",
      "\n",
      "['unit01.mat', 'unit02.mat', 'unit03.mat', 'unit04.mat', 'unit05.mat', 'unit06.mat', 'unit07.mat', 'unit08.mat', 'unit09.mat', 'unit10.mat', 'unit11.mat', 'unit12.mat', 'unit13.mat', 'unit14.mat', 'unit15.mat', 'unit16.mat', 'unit17.mat', 'unit18.mat', 'unit19.mat', 'unit20.mat', 'unit21.mat', 'unit22.mat', 'unit23.mat']  Number of all files 23\n",
      "Data are loaded \n",
      "\n",
      "Start reading units \n",
      "\n",
      "unit length is 600 sec, data length is 18574 samples, number of cells are 87 \n",
      "\n",
      "Finished reading units \n",
      "\n",
      "Start reading hypno files \n",
      "\n",
      "Finished reading hypno \n",
      "\n",
      "Location-Time information\n",
      "data and hypno shapes in file L:/analysis_nima/291020_m23a/Batch_2 are: (18574, 87, 23), (18574, 23)\n",
      "Your entered path is L:/analysis_nima/210121_m24a/Batch_1\n",
      "All files in the given path \n",
      "\n",
      "['unit01.mat', 'unit02.mat', 'unit03.mat', 'unit04.mat', 'unit05.mat', 'unit06.mat', 'unit07.mat', 'unit08.mat', 'unit09.mat', 'unit10.mat', 'unit11.mat', 'unit12.mat', 'unit13.mat', 'unit14.mat', 'unit15.mat', 'unit16.mat', 'unit17.mat', 'unit18.mat', 'unit19.mat', 'unit20.mat', 'unit21.mat', 'unit22.mat', 'unit23.mat', 'unit24.mat', 'unit25.mat', 'unit26.mat', 'unit27.mat']  Number of all files 27\n",
      "Data are loaded \n",
      "\n",
      "Start reading units \n",
      "\n",
      "unit length is 600 sec, data length is 18597 samples, number of cells are 143 \n",
      "\n",
      "Finished reading units \n",
      "\n",
      "Start reading hypno files \n",
      "\n",
      "Finished reading hypno \n",
      "\n",
      "Location-Time information\n",
      "data and hypno shapes in file L:/analysis_nima/210121_m24a/Batch_1 are: (18597, 143, 27), (18597, 27)\n"
     ]
    }
   ],
   "source": [
    "apply_artifact = True\n",
    "rmCell = True\n",
    "\n",
    "data_list = []\n",
    "for address, sf, mouse_name, artifact, remove_cell in zip(all_address, sfs, miceName, artifacts, remove_cells):\n",
    "    \n",
    "    #clear and read data\n",
    "    data = []; hypno = []\n",
    "    data, hypno = get_data(address = address, sf = sf)\n",
    "    \n",
    "    if apply_artifact:\n",
    "        data = applyArtifacts(data=data, artifacts=artifact)\n",
    "    \n",
    "    if rmCell:\n",
    "        data = removeCells(data=data, cells = remove_cell)\n",
    "    \n",
    "    # creat per mouse list\n",
    "    data_list.extend(create_list(data = data, hypno = hypno, mouseName = mouse_name, \n",
    "                                 sf = sf, apply_artifact=apply_artifact, removeCell=rmCell))"
   ]
  },
  {
   "cell_type": "markdown",
   "id": "b8e37c9e",
   "metadata": {},
   "source": [
    "### Adding analyses as dictionary key, value pairs"
   ]
  },
  {
   "cell_type": "code",
   "execution_count": 4,
   "id": "eaf39b2d",
   "metadata": {},
   "outputs": [],
   "source": [
    "# add average firing rate to the dictionary\n",
    "[data_dict.update({'avg_firing_perSecond':avg_firing(data = data_dict['data'], \n",
    "                                                            sf=data_dict['samplingRate'])}) for data_dict in data_list];"
   ]
  },
  {
   "cell_type": "code",
   "execution_count": null,
   "id": "91b92a6e",
   "metadata": {
    "scrolled": true
   },
   "outputs": [
    {
     "name": "stderr",
     "output_type": "stream",
     "text": [
      "C:\\Users\\admin\\Sleep_Pipeline_Notebooks\\Analysis_all_mice\\SleepAnalyses\\utils.py:229: RuntimeWarning: Mean of empty slice\n",
      "  return np.nanmean(np.where(data>0 , data, np.nan), axis = 0)\n"
     ]
    }
   ],
   "source": [
    "# add average amplitude to the dictionary\n",
    "[data_dict.update({'avg_amplitude':avg_amplitude(data = data_dict['data'])}) for data_dict in data_list];"
   ]
  },
  {
   "cell_type": "code",
   "execution_count": null,
   "id": "47cb349f",
   "metadata": {},
   "outputs": [],
   "source": [
    "# zscore normalization of avg firing rate. Normalization is applied per cell for each individual mouse separately\n",
    "data_list = zscore_calculator(dataBase = data_list, mouse_name_list=miceName, variable = \"frequency\")\n",
    "\n",
    "# zscore normalization of avg amplitude. Normalization is applied per cell for each individual mouse separately\n",
    "data_list = zscore_calculator(dataBase = data_list, mouse_name_list=miceName, variable = \"amplitude\")\n"
   ]
  },
  {
   "cell_type": "code",
   "execution_count": null,
   "id": "121950d9",
   "metadata": {},
   "outputs": [],
   "source": [
    "# add top and least firing rate \n",
    "fraction = 20\n",
    "\n",
    "#top\n",
    "[data_dict.update({'top' + str(fraction) + '_avg_firing':top_least(data=data_dict['avg_firing_perSecond'], \n",
    "                                                                   prc = fraction, top = True)}) for data_dict in data_list];\n",
    "\n",
    "#least\n",
    "[data_dict.update({'least' + str(fraction) + '_avg_firing':top_least(data=data_dict['avg_firing_perSecond'], \n",
    "                                                                   prc = fraction, top = False)}) for data_dict in data_list];\n",
    "\n",
    "\n",
    "#top-zscore\n",
    "[data_dict.update({'top' + str(fraction) + '_avg_firing_zscore':top_least(data=data_dict['avg_firing_perSecond_zscore'], \n",
    "                                                                   prc = fraction, top = True)}) for data_dict in data_list];\n",
    "\n",
    "#least-zscore\n",
    "[data_dict.update({'least' + str(fraction) + '_avg_firing_zscore':top_least(data=data_dict['avg_firing_perSecond_zscore'], \n",
    "                                                                   prc = fraction, top = False)}) for data_dict in data_list];"
   ]
  },
  {
   "cell_type": "code",
   "execution_count": null,
   "id": "e5f5788c",
   "metadata": {},
   "outputs": [],
   "source": [
    "# add top and least amplitude \n",
    "fraction = 20\n",
    "\n",
    "#top\n",
    "[data_dict.update({'top' + str(fraction) + '_amplitude':top_least(data=data_dict['avg_amplitude'], \n",
    "                                                                   prc = fraction, top = True)}) for data_dict in data_list];\n",
    "\n",
    "#least\n",
    "[data_dict.update({'least' + str(fraction) + '_amplitude':top_least(data=data_dict['avg_amplitude'], \n",
    "                                                                   prc = fraction, top = False)}) for data_dict in data_list];\n",
    "\n",
    "\n",
    "#top-zscore\n",
    "[data_dict.update({'top' + str(fraction) + '_amplitude_zscore':top_least(data=data_dict['avg_amplitude_zscore'], \n",
    "                                                                   prc = fraction, top = True)}) for data_dict in data_list];\n",
    "\n",
    "#least-zscore\n",
    "[data_dict.update({'least' + str(fraction) + '_amplitude_zscore':top_least(data=data_dict['avg_amplitude_zscore'], \n",
    "                                                                   prc = fraction, top = False)}) for data_dict in data_list];"
   ]
  },
  {
   "cell_type": "code",
   "execution_count": null,
   "id": "3795e1b6",
   "metadata": {},
   "outputs": [],
   "source": [
    "# add divided average firing rate to the dictionary\n",
    "[data_dict.update({'div_avg_firing_perSecond':div_avg_firing(data = data_dict['data'], \n",
    "                                                             sf=data_dict['samplingRate'], \n",
    "                                                             n = 3)}) for data_dict in data_list];\n",
    "\n",
    "# zscore normalization of avg firing rate. Normalization is applied per cell for each individual mouse separately\n",
    "data_list = zscore_calculator(dataBase = data_list, mouse_name_list=miceName, variable = \"frequency\", divided_data=True)"
   ]
  },
  {
   "cell_type": "code",
   "execution_count": null,
   "id": "476af675",
   "metadata": {},
   "outputs": [],
   "source": [
    "# add divided average firing rate to the dictionary (n subdata)\n",
    "[data_dict.update({'div_avg_amplitude':div_avg_amplitude(data = data_dict['data'], n=3)}) for data_dict in data_list];\n",
    "\n",
    "# zscore normalization of avg amplitude. Normalization is applied per cell for each individual mouse separately\n",
    "data_list = zscore_calculator(dataBase = data_list, mouse_name_list=miceName, variable = \"amplitude\", divided_data= True)"
   ]
  },
  {
   "cell_type": "code",
   "execution_count": null,
   "id": "ae5d4e50",
   "metadata": {
    "scrolled": false
   },
   "outputs": [],
   "source": [
    "# add epoch duration in sample\n",
    "[data_dict.update({'epochDuration': data_dict['data'].shape[0]}) for data_dict in data_list];"
   ]
  },
  {
   "cell_type": "code",
   "execution_count": null,
   "id": "6d3d1971",
   "metadata": {},
   "outputs": [],
   "source": [
    "# add nr of active cell per epoch\n",
    "[data_dict.update({'nrActiveCells': nrActiveCells(data = data_dict['avg_amplitude'])}) for data_dict in data_list];"
   ]
  },
  {
   "cell_type": "code",
   "execution_count": null,
   "id": "38758cd9",
   "metadata": {},
   "outputs": [],
   "source": [
    "# add nr of total cells per epoch\n",
    "[data_dict.update({'nrTotalCells': data_dict['data'].shape[1]}) for data_dict in data_list];"
   ]
  },
  {
   "cell_type": "code",
   "execution_count": null,
   "id": "597bbebd",
   "metadata": {},
   "outputs": [],
   "source": [
    "# adding location of type2 pattern to the dictionaries\n",
    "\n",
    "\n",
    "# type2: 1 epoch is first element of the pattern\n",
    "#        2 epoch is second element of the pattern\n",
    "#        0 epoch is not involved in the pattern\n",
    "\n",
    "\n",
    "# finding locations (each location is the location of first element of the pattern)\n",
    "type2_locations = find_type2_locations(dictLists=data_list, pattern=[-2, -3], \n",
    "                                       cond1_min= 900, cond1_max=10000, \n",
    "                                       cond2_min=900, cond2_max=10000)\n",
    "\n",
    "\n",
    "\n",
    "[data_dict.update({'type2': 0}) for data_dict in data_list]\n",
    "\n",
    "for i, data_dict in enumerate(data_list):\n",
    "    if i in type2_locations:\n",
    "        data_dict.update({'type2':1})\n",
    "        data_list[i+1].update({'type2':2})"
   ]
  },
  {
   "cell_type": "code",
   "execution_count": null,
   "id": "ee23a634",
   "metadata": {
    "scrolled": true
   },
   "outputs": [],
   "source": [
    "# adding location of type3 pattern to the dictionaries\n",
    "\n",
    "\n",
    "# type2: 1 epoch is first element of the pattern\n",
    "#        2 epoch is second element of the pattern\n",
    "#        3 epoch is third element of the pattern\n",
    "#        0 epoch is not involved in the pattern\n",
    "\n",
    "\n",
    "# finding locations (each location is the location of first element of the pattern)\n",
    "type3_locations = find_type3_locations(dictLists=data_list, pattern=[-2, -3, -2], \n",
    "                                       cond1_min= 900, cond1_max=10000, \n",
    "                                       cond2_min=900, cond2_max=10000, \n",
    "                                       cond3_min=900, cond3_max=10000)\n",
    "\n",
    "\n",
    "\n",
    "[data_dict.update({'type3': 0}) for data_dict in data_list]\n",
    "\n",
    "for i in range(type3_locations.shape[0]):\n",
    "    \n",
    "    data_list[type3_locations[i,0]].update({'type3':1})\n",
    "    data_list[type3_locations[i,1]].update({'type3':2})\n",
    "    data_list[type3_locations[i,2]].update({'type3':3})"
   ]
  },
  {
   "cell_type": "markdown",
   "id": "1268d7da",
   "metadata": {},
   "source": [
    "# Plotting of analyses"
   ]
  },
  {
   "cell_type": "markdown",
   "id": "7caef70f",
   "metadata": {},
   "source": [
    "### Type2"
   ]
  },
  {
   "cell_type": "markdown",
   "id": "4739dc8c",
   "metadata": {},
   "source": [
    "#### Frequency"
   ]
  },
  {
   "cell_type": "code",
   "execution_count": null,
   "id": "786dd24d",
   "metadata": {},
   "outputs": [],
   "source": [
    "# plotting average firing rate \n",
    "\n",
    "df_typ2_firing = pd.DataFrame()\n",
    "\n",
    "\n",
    "for i, indDict in enumerate(data_list):\n",
    "    df_typ2_firing = df_typ2_firing.append(pd.DataFrame({'FiringRate':[np.nanmean(indDict['avg_firing_perSecond'])], \n",
    "                                                         'name':indDict['mouseName'], \n",
    "                                                         'Pattern': indDict['type2'], \n",
    "                                                         'epochID': i}), ignore_index = True)\n",
    "    \n",
    "df_typ2_firing = df_typ2_firing[df_typ2_firing.Pattern != 0]"
   ]
  },
  {
   "cell_type": "code",
   "execution_count": null,
   "id": "e8bbfd70",
   "metadata": {
    "scrolled": false
   },
   "outputs": [
    {
     "name": "stderr",
     "output_type": "stream",
     "text": [
      "C:\\Users\\admin\\Anaconda3\\lib\\site-packages\\ipykernel_launcher.py:2: FutureWarning: This dataframe has a column name that matches the 'value_name' column name of the resulting Dataframe. In the future this will raise an error, please set the 'value_name' parameter of DataFrame.melt to a unique name.\n",
      "  \n"
     ]
    },
    {
     "data": {
      "text/plain": [
       "(0.0, 0.2)"
      ]
     },
     "execution_count": 113,
     "metadata": {},
     "output_type": "execute_result"
    },
    {
     "data": {
      "image/png": "[encoded data removed]",
      "text/plain": [
       "<Figure size 316.8x595.44 with 1 Axes>"
      ]
     },
     "metadata": {},
     "output_type": "display_data"
    }
   ],
   "source": [
    "#df_temp = pd.DataFrame()\n",
    "df_temp = df_typ2_firing.melt(id_vars=['name', 'Pattern', 'epochID'], var_name='epochID', value_name='FiringRate')\n",
    "x = df_temp\n",
    "sns.set(rc={'figure.figsize':(4.4,8.27)})\n",
    "sns.set_style(\"ticks\")\n",
    "#g=sns.boxplot(x=\"Pattern\", y=\"FiringRate\",dodge=False,fliersize=3, palette=['darkorange','royalblue'],linewidth=4,data=x )\n",
    "g=sns.boxplot(x=\"Pattern\", y=\"FiringRate\",dodge=False,fliersize=3, palette=['limegreen','darkorange'],linewidth=4,data=df_typ2_firing )\n",
    "\n",
    "#g.set_xticklabels(['SWSn','Awake','SWSn.1'])\n",
    "plt.ylim(0,0.2)\n",
    "#if save_file:\n",
    "  #  df_typ2_firing.to_csv(path_or_buf=file_save_add + 'L:/analysis_nima/statistics_epoch_based/Triplet_type2_fr/sws_rem/Type2_fr_all_cells.csv')\n",
    "#if save_fig:\n",
    "  #  plt.savefig(fig_save_add + 'L:/analysis_nima/epoch_based_analysis/Triplet_type2_fr/sws_rem/Type2_fr_all_cells_sws_rem_boxplot.pdf', dpi=600, format='pdf')"
   ]
  },
  {
   "cell_type": "markdown",
   "id": "fddeba89",
   "metadata": {},
   "source": [
    "##### Correlation per epoch"
   ]
  },
  {
   "cell_type": "code",
   "execution_count": null,
   "id": "be3afcfe",
   "metadata": {},
   "outputs": [
    {
     "data": {
      "text/html": [
       "<div>\n",
       "<style scoped>\n",
       "    .dataframe tbody tr th:only-of-type {\n",
       "        vertical-align: middle;\n",
       "    }\n",
       "\n",
       "    .dataframe tbody tr th {\n",
       "        vertical-align: top;\n",
       "    }\n",
       "\n",
       "    .dataframe thead th {\n",
       "        text-align: right;\n",
       "    }\n",
       "</style>\n",
       "<table border=\"1\" class=\"dataframe\">\n",
       "  <thead>\n",
       "    <tr style=\"text-align: right;\">\n",
       "      <th></th>\n",
       "      <th>x</th>\n",
       "      <th>y</th>\n",
       "    </tr>\n",
       "  </thead>\n",
       "  <tbody>\n",
       "    <tr>\n",
       "      <th>0</th>\n",
       "      <td>0.019315</td>\n",
       "      <td>0.039684</td>\n",
       "    </tr>\n",
       "    <tr>\n",
       "      <th>1</th>\n",
       "      <td>0.020414</td>\n",
       "      <td>0.045247</td>\n",
       "    </tr>\n",
       "    <tr>\n",
       "      <th>2</th>\n",
       "      <td>0.025354</td>\n",
       "      <td>0.032966</td>\n",
       "    </tr>\n",
       "  </tbody>\n",
       "</table>\n",
       "</div>"
      ],
      "text/plain": [
       "          x         y\n",
       "0  0.019315  0.039684\n",
       "1  0.020414  0.045247\n",
       "2  0.025354  0.032966"
      ]
     },
     "execution_count": 42,
     "metadata": {},
     "output_type": "execute_result"
    }
   ],
   "source": [
    "x = df_typ2_firing[df_typ2_firing.Pattern==1][\"FiringRate\"].values\n",
    "y = df_typ2_firing[df_typ2_firing.Pattern==2][\"FiringRate\"].values\n",
    "\n",
    "df_correlation_type2 = pd.DataFrame({\"x\":x, \"y\":y})\n",
    "df_correlation_type2.head(3)"
   ]
  },
  {
   "cell_type": "code",
   "execution_count": null,
   "id": "af8b6b1c",
   "metadata": {},
   "outputs": [
    {
     "data": {
      "text/plain": [
       "<AxesSubplot:>"
      ]
     },
     "execution_count": 38,
     "metadata": {},
     "output_type": "execute_result"
    },
    {
     "data": {
      "image/png": "[encoded data removed]",
      "text/plain": [
       "<Figure size 432x288 with 1 Axes>"
      ]
     },
     "metadata": {
      "needs_background": "light"
     },
     "output_type": "display_data"
    }
   ],
   "source": [
    "sns.regplot(x=x, y=y)"
   ]
  },
  {
   "cell_type": "markdown",
   "id": "78219bfd",
   "metadata": {},
   "source": [
    "##### correlation per cell"
   ]
  },
  {
   "cell_type": "code",
   "execution_count": null,
   "id": "06b2158f",
   "metadata": {},
   "outputs": [
    {
     "data": {
      "text/html": [
       "<div>\n",
       "<style scoped>\n",
       "    .dataframe tbody tr th:only-of-type {\n",
       "        vertical-align: middle;\n",
       "    }\n",
       "\n",
       "    .dataframe tbody tr th {\n",
       "        vertical-align: top;\n",
       "    }\n",
       "\n",
       "    .dataframe thead th {\n",
       "        text-align: right;\n",
       "    }\n",
       "</style>\n",
       "<table border=\"1\" class=\"dataframe\">\n",
       "  <thead>\n",
       "    <tr style=\"text-align: right;\">\n",
       "      <th></th>\n",
       "      <th>x</th>\n",
       "      <th>y</th>\n",
       "    </tr>\n",
       "  </thead>\n",
       "  <tbody>\n",
       "    <tr>\n",
       "      <th>0</th>\n",
       "      <td>NaN</td>\n",
       "      <td>NaN</td>\n",
       "    </tr>\n",
       "    <tr>\n",
       "      <th>1</th>\n",
       "      <td>0.063263</td>\n",
       "      <td>NaN</td>\n",
       "    </tr>\n",
       "    <tr>\n",
       "      <th>2</th>\n",
       "      <td>0.031632</td>\n",
       "      <td>0.039916</td>\n",
       "    </tr>\n",
       "  </tbody>\n",
       "</table>\n",
       "</div>"
      ],
      "text/plain": [
       "          x         y\n",
       "0       NaN       NaN\n",
       "1  0.063263       NaN\n",
       "2  0.031632  0.039916"
      ]
     },
     "execution_count": 43,
     "metadata": {},
     "output_type": "execute_result"
    }
   ],
   "source": [
    "# plotting average firing rate \n",
    "\n",
    "df_typ2_firing = pd.DataFrame()\n",
    "\n",
    "\n",
    "for i, indDict in enumerate(data_list):\n",
    "    df_typ2_firing = df_typ2_firing.append(pd.DataFrame({'FiringRate':(indDict['avg_firing_perSecond']), \n",
    "                                                         'name':indDict['mouseName'], \n",
    "                                                         'Pattern': indDict['type2'], \n",
    "                                                         'epochID': i}), ignore_index = True)\n",
    "    \n",
    "df_typ2_firing = df_typ2_firing[df_typ2_firing.Pattern != 0]\n",
    "\n",
    "x = df_typ2_firing[df_typ2_firing.Pattern==1][\"FiringRate\"].values\n",
    "y = df_typ2_firing[df_typ2_firing.Pattern==2][\"FiringRate\"].values\n",
    "\n",
    "df_correlation_type2 = pd.DataFrame({\"x\":x, \"y\":y})\n",
    "df_correlation_type2.head(3)"
   ]
  },
  {
   "cell_type": "code",
   "execution_count": null,
   "id": "be306afe",
   "metadata": {},
   "outputs": [
    {
     "data": {
      "text/plain": [
       "<AxesSubplot:>"
      ]
     },
     "execution_count": 45,
     "metadata": {},
     "output_type": "execute_result"
    },
    {
     "data": {
      "image/png": "[encoded data removed]",
      "text/plain": [
       "<Figure size 432x288 with 1 Axes>"
      ]
     },
     "metadata": {
      "needs_background": "light"
     },
     "output_type": "display_data"
    }
   ],
   "source": [
    "sns.regplot(x=x, y=y, marker='.')"
   ]
  },
  {
   "cell_type": "markdown",
   "id": "908967d0",
   "metadata": {},
   "source": [
    "#### Frequency based on top x%"
   ]
  },
  {
   "cell_type": "code",
   "execution_count": null,
   "id": "9bcaf040",
   "metadata": {},
   "outputs": [
    {
     "name": "stderr",
     "output_type": "stream",
     "text": [
      "C:\\Users\\admin\\Anaconda3\\lib\\site-packages\\ipykernel_launcher.py:7: RuntimeWarning: Mean of empty slice\n",
      "  import sys\n"
     ]
    }
   ],
   "source": [
    "# plotting average firing rate \n",
    "\n",
    "df_typ2_firing = pd.DataFrame()\n",
    "\n",
    "\n",
    "for i, indDict in enumerate(data_list):\n",
    "    df_typ2_firing = df_typ2_firing.append(pd.DataFrame({'FiringRate':[np.nanmean(indDict['avg_firing_perSecond'][indDict['top20_avg_firing'][0]])], \n",
    "                                                         'name':indDict['mouseName'], \n",
    "                                                         'Pattern': indDict['type2'], \n",
    "                                                         'epochID': i}), ignore_index = True)\n",
    "    \n",
    "df_typ2_firing = df_typ2_firing[df_typ2_firing.Pattern != 0]"
   ]
  },
  {
   "cell_type": "code",
   "execution_count": null,
   "id": "85b4bc70",
   "metadata": {},
   "outputs": [],
   "source": [
    "#df_temp = pd.DataFrame()\n",
    "df_temp = df_typ2_firing.melt(id_vars=['name', 'Pattern', 'epochID'], var_name='epochID', value_name='FiringRate')\n",
    "x = df_temp\n",
    "sns.set(rc={'figure.figsize':(4.4,8.27)})\n",
    "sns.set_style(\"ticks\")\n",
    "#g=sns.boxplot(x=\"Pattern\", y=\"FiringRate\",dodge=False,fliersize=3, palette=['darkorange','royalblue'],linewidth=4,data=x )\n",
    "g=sns.boxplot(x=\"Pattern\", y=\"FiringRate\",dodge=False,fliersize=3, palette=['limegreen','darkorange'],linewidth=4,data=df_typ2_firing )\n",
    "\n",
    "#g.set_xticklabels(['SWSn','Awake','SWSn.1'])\n",
    "plt.ylim(0,0.2)\n",
    "### change address\n",
    "#if save_file:\n",
    "  #  df_typ2_firing.to_csv(path_or_buf=file_save_add + 'L:/analysis_nima/statistics_epoch_based/Triplet_type2_fr/sws_rem/Type2_fr_all_cells.csv')\n",
    "#if save_fig:\n",
    "  #  plt.savefig(fig_save_add + 'L:/analysis_nima/epoch_based_analysis/Triplet_type2_fr/sws_rem/Type2_fr_all_cells_sws_rem_boxplot.pdf', dpi=600, format='pdf')"
   ]
  },
  {
   "cell_type": "markdown",
   "id": "c5429410",
   "metadata": {},
   "source": [
    "#### Frequency based on least x%\n"
   ]
  },
  {
   "cell_type": "code",
   "execution_count": null,
   "id": "3a9529dd",
   "metadata": {},
   "outputs": [
    {
     "name": "stderr",
     "output_type": "stream",
     "text": [
      "C:\\Users\\admin\\Anaconda3\\lib\\site-packages\\ipykernel_launcher.py:7: RuntimeWarning: Mean of empty slice\n",
      "  import sys\n"
     ]
    }
   ],
   "source": [
    "# plotting average firing rate \n",
    "\n",
    "df_typ2_firing = pd.DataFrame()\n",
    "\n",
    "\n",
    "for i, indDict in enumerate(data_list):\n",
    "    df_typ2_firing = df_typ2_firing.append(pd.DataFrame({'FiringRate':[np.nanmean(indDict['avg_firing_perSecond'][indDict['least20_avg_firing'][0]])], \n",
    "                                                         'name':indDict['mouseName'], \n",
    "                                                         'Pattern': indDict['type2'], \n",
    "                                                         'epochID': i}), ignore_index = True)\n",
    "    \n",
    "df_typ2_firing = df_typ2_firing[df_typ2_firing.Pattern != 0]"
   ]
  },
  {
   "cell_type": "code",
   "execution_count": null,
   "id": "15846830",
   "metadata": {},
   "outputs": [],
   "source": [
    "#df_temp = pd.DataFrame()\n",
    "df_temp = df_typ2_firing.melt(id_vars=['name', 'Pattern', 'epochID'], var_name='epochID', value_name='FiringRate')\n",
    "x = df_temp\n",
    "sns.set(rc={'figure.figsize':(4.4,8.27)})\n",
    "sns.set_style(\"ticks\")\n",
    "#g=sns.boxplot(x=\"Pattern\", y=\"FiringRate\",dodge=False,fliersize=3, palette=['darkorange','royalblue'],linewidth=4,data=x )\n",
    "g=sns.boxplot(x=\"Pattern\", y=\"FiringRate\",dodge=False,fliersize=3, palette=['limegreen','darkorange'],linewidth=4,data=df_typ2_firing )\n",
    "\n",
    "#g.set_xticklabels(['SWSn','Awake','SWSn.1'])\n",
    "plt.ylim(0,0.2)\n",
    "### change address\n",
    "#if save_file:\n",
    "  #  df_typ2_firing.to_csv(path_or_buf=file_save_add + 'L:/analysis_nima/statistics_epoch_based/Triplet_type2_fr/sws_rem/Type2_fr_all_cells.csv')\n",
    "#if save_fig:\n",
    "  #  plt.savefig(fig_save_add + 'L:/analysis_nima/epoch_based_analysis/Triplet_type2_fr/sws_rem/Type2_fr_all_cells_sws_rem_boxplot.pdf', dpi=600, format='pdf')"
   ]
  },
  {
   "cell_type": "markdown",
   "id": "16d8355b",
   "metadata": {},
   "source": [
    "#### Frequency based on top x% of first element of pattern"
   ]
  },
  {
   "cell_type": "code",
   "execution_count": null,
   "id": "bf020584",
   "metadata": {},
   "outputs": [
    {
     "name": "stderr",
     "output_type": "stream",
     "text": [
      "C:\\Users\\admin\\Anaconda3\\lib\\site-packages\\ipykernel_launcher.py:9: RuntimeWarning: Mean of empty slice\n",
      "  if __name__ == '__main__':\n"
     ]
    }
   ],
   "source": [
    "# plotting average firing rate \n",
    "\n",
    "df_typ2_firing = pd.DataFrame()\n",
    "\n",
    "\n",
    "for i, indDict in enumerate(data_list):\n",
    "    if indDict['type2'] == 1:\n",
    "        df_typ2_firing = df_typ2_firing.append(pd.DataFrame({'First':[np.nanmean(indDict['avg_firing_perSecond'][indDict['top20_avg_firing'][0]])],\n",
    "                                                             'Second':[np.nanmean(data_list[i+1]['avg_firing_perSecond'][indDict['top20_avg_firing'][0]])],\n",
    "                                                             'name':indDict['mouseName'], \n",
    "                                                             'epochID': i}), ignore_index = True)\n",
    "    \n"
   ]
  },
  {
   "cell_type": "code",
   "execution_count": null,
   "id": "98e05d14",
   "metadata": {},
   "outputs": [
    {
     "data": {
      "image/png": "[encoded data removed]",
      "text/plain": [
       "<Figure size 316.8x595.44 with 1 Axes>"
      ]
     },
     "metadata": {},
     "output_type": "display_data"
    }
   ],
   "source": [
    "#df_temp = pd.DataFrame()\n",
    "df_temp = df_typ2_firing.melt(id_vars=['name', 'epochID'], var_name='Pattern', value_name='FiringRate')\n",
    "\n",
    "sns.set(rc={'figure.figsize':(4.4,8.27)})\n",
    "sns.set_style(\"ticks\")\n",
    "#g=sns.boxplot(x=\"Pattern\", y=\"FiringRate\",dodge=False,fliersize=3, palette=['darkorange','royalblue'],linewidth=4,data=x )\n",
    "g=sns.boxplot(x=\"Pattern\", y=\"FiringRate\",dodge=False,fliersize=3, palette=['limegreen','darkorange'],linewidth=4,data=df_temp )\n",
    "\n",
    "#g.set_xticklabels(['SWSn','Awake','SWSn.1'])\n",
    "plt.ylim(0,0.2)\n",
    "if save_file:\n",
    "    df_typ2_firing.to_csv(path_or_buf=file_save_add + 'L:/analysis_nima/statistics_epoch_based/Triplet_type2_fr/awake_sws/Type2_fr_all_cells_top20%_awake.csv')\n",
    "if save_fig:\n",
    "    plt.savefig(fig_save_add + 'L:/analysis_nima/epoch_based_analysis/Triplet_type2_fr/awake_sws/Type2_fr_all_cells_top20%_awake_boxplot.pdf', dpi=600, format='pdf')"
   ]
  },
  {
   "cell_type": "markdown",
   "id": "0879646e",
   "metadata": {},
   "source": [
    "### correlation"
   ]
  },
  {
   "cell_type": "code",
   "execution_count": null,
   "id": "c586883d",
   "metadata": {},
   "outputs": [
    {
     "data": {
      "image/png": "[encoded data removed]",
      "text/plain": [
       "<Figure size 316.8x307.44 with 1 Axes>"
      ]
     },
     "metadata": {},
     "output_type": "display_data"
    }
   ],
   "source": [
    "sns.set(rc={'figure.figsize':(4.4,4.27)})\n",
    "sns.set_style(\"ticks\")\n",
    "g=sns.regplot(x=\"First\",\n",
    "           y=\"Second\", robust=True,\n",
    "           data=df_typ2_firing)\n",
    "plt.xlim(0,0.1)\n",
    "#plt.ylim(0,0.14)\n",
    "if save_file:\n",
    "    plt.savefig(fig_save_add + 'L:/analysis_nima/epoch_based_analysis/Triplet_type2_fr_correlation_analysis/awake_sws/Type2_fr_awake_sws_top20%_awake.pdf', dpi=600, format='pdf')"
   ]
  },
  {
   "cell_type": "code",
   "execution_count": null,
   "id": "6d261d4e",
   "metadata": {},
   "outputs": [
    {
     "data": {
      "text/plain": [
       "(94, 4)"
      ]
     },
     "execution_count": 33,
     "metadata": {},
     "output_type": "execute_result"
    }
   ],
   "source": [
    "df_typ2_firing.shape"
   ]
  },
  {
   "cell_type": "markdown",
   "id": "6fed6c89",
   "metadata": {},
   "source": [
    "#### Frequency based on least x% of first element of pattern"
   ]
  },
  {
   "cell_type": "code",
   "execution_count": null,
   "id": "90235458",
   "metadata": {},
   "outputs": [
    {
     "name": "stderr",
     "output_type": "stream",
     "text": [
      "C:\\Users\\admin\\Anaconda3\\lib\\site-packages\\ipykernel_launcher.py:9: RuntimeWarning: Mean of empty slice\n",
      "  if __name__ == '__main__':\n"
     ]
    }
   ],
   "source": [
    "# plotting average firing rate \n",
    "\n",
    "df_typ2_firing = pd.DataFrame()\n",
    "\n",
    "\n",
    "for i, indDict in enumerate(data_list):\n",
    "    if indDict['type2'] == 1:\n",
    "        df_typ2_firing = df_typ2_firing.append(pd.DataFrame({'First':[np.nanmean(indDict['avg_firing_perSecond'][indDict['least20_avg_firing'][0]])],\n",
    "                                                             'Second':[np.nanmean(data_list[i+1]['avg_firing_perSecond'][indDict['least20_avg_firing'][0]])],\n",
    "                                                             'name':indDict['mouseName'], \n",
    "                                                             'epochID': i}), ignore_index = True)\n",
    "    \n"
   ]
  },
  {
   "cell_type": "code",
   "execution_count": null,
   "id": "920c106a",
   "metadata": {},
   "outputs": [
    {
     "data": {
      "image/png": "[encoded data removed]",
      "text/plain": [
       "<Figure size 316.8x595.44 with 1 Axes>"
      ]
     },
     "metadata": {},
     "output_type": "display_data"
    }
   ],
   "source": [
    "#df_temp = pd.DataFrame()\n",
    "df_temp = df_typ2_firing.melt(id_vars=['name', 'epochID'], var_name='Pattern', value_name='FiringRate')\n",
    "\n",
    "sns.set(rc={'figure.figsize':(4.4,8.27)})\n",
    "sns.set_style(\"ticks\")\n",
    "#g=sns.boxplot(x=\"Pattern\", y=\"FiringRate\",dodge=False,fliersize=3, palette=['darkorange','royalblue'],linewidth=4,data=x )\n",
    "g=sns.boxplot(x=\"Pattern\", y=\"FiringRate\",dodge=False,fliersize=3, palette=['limegreen','darkorange'],linewidth=4,data=df_temp )\n",
    "\n",
    "#g.set_xticklabels(['SWSn','Awake','SWSn.1'])\n",
    "plt.ylim(0,0.2)\n",
    "if save_file:\n",
    "    df_typ2_firing.to_csv(path_or_buf=file_save_add + 'L:/analysis_nima/statistics_epoch_based/Triplet_type2_fr/awake_sws/Type2_fr_all_cells_least20%_awake.csv')\n",
    "if save_fig:\n",
    "    plt.savefig(fig_save_add + 'L:/analysis_nima/epoch_based_analysis/Triplet_type2_fr/awake_sws/Type2_fr_all_cells_least20%_awake_boxplot.pdf', dpi=600, format='pdf')"
   ]
  },
  {
   "cell_type": "code",
   "execution_count": null,
   "id": "739df233",
   "metadata": {},
   "outputs": [
    {
     "data": {
      "image/png": "[encoded data removed]",
      "text/plain": [
       "<Figure size 316.8x307.44 with 1 Axes>"
      ]
     },
     "metadata": {},
     "output_type": "display_data"
    }
   ],
   "source": [
    "sns.set(rc={'figure.figsize':(4.4,4.27)})\n",
    "sns.set_style(\"ticks\")\n",
    "g=sns.regplot(x=\"First\",\n",
    "           y=\"Second\", robust=True,\n",
    "           data=df_typ2_firing)\n",
    "plt.xlim(0,0.1)\n",
    "#plt.ylim(0,0.14)\n",
    "if save_file:\n",
    "    plt.savefig(fig_save_add + 'L:/analysis_nima/epoch_based_analysis/Triplet_type2_fr_correlation_analysis/awake_sws/Type2_fr_awake_sws_least20%_awake.pdf', dpi=600, format='pdf')"
   ]
  },
  {
   "cell_type": "markdown",
   "id": "44f10c42",
   "metadata": {},
   "source": [
    "#### Frequency divided to n"
   ]
  },
  {
   "cell_type": "code",
   "execution_count": null,
   "id": "ebc180c0",
   "metadata": {},
   "outputs": [
    {
     "name": "stderr",
     "output_type": "stream",
     "text": [
      "C:\\Users\\admin\\Anaconda3\\lib\\site-packages\\ipykernel_launcher.py:7: RuntimeWarning: Mean of empty slice\n",
      "  import sys\n",
      "C:\\Users\\admin\\Anaconda3\\lib\\site-packages\\ipykernel_launcher.py:8: RuntimeWarning: Mean of empty slice\n",
      "  \n",
      "C:\\Users\\admin\\Anaconda3\\lib\\site-packages\\ipykernel_launcher.py:9: RuntimeWarning: Mean of empty slice\n",
      "  if __name__ == '__main__':\n"
     ]
    }
   ],
   "source": [
    "# plotting average firing rate \n",
    "\n",
    "df_typ2_firing = pd.DataFrame()\n",
    "\n",
    "\n",
    "for i, indDict in enumerate (data_list):\n",
    "    df_typ2_firing = df_typ2_firing.append(pd.DataFrame({'1th':[np.nanmean(indDict['div_avg_firing_perSecond'][0])], \n",
    "                                                         '2th':[np.nanmean(indDict['div_avg_firing_perSecond'][1])], \n",
    "                                                         '3th':[np.nanmean(indDict['div_avg_firing_perSecond'][2])], \n",
    "                                                         'name':indDict['mouseName'], \n",
    "                                                         'Pattern': indDict['type2'], \n",
    "                                                         'epochID': i}), ignore_index = True)\n",
    "    \n",
    "df_typ2_firing = df_typ2_firing[df_typ2_firing.Pattern != 0]"
   ]
  },
  {
   "cell_type": "code",
   "execution_count": null,
   "id": "998a0489",
   "metadata": {},
   "outputs": [
    {
     "data": {
      "text/plain": [
       "[Text(0.5, 0, 'subEpoch'), Text(0, 0.5, 'Mean Frequency Rate')]"
      ]
     },
     "execution_count": 80,
     "metadata": {},
     "output_type": "execute_result"
    },
    {
     "data": {
      "image/png": "[encoded data removed]",
      "text/plain": [
       "<Figure size 316.8x595.44 with 1 Axes>"
      ]
     },
     "metadata": {},
     "output_type": "display_data"
    }
   ],
   "source": [
    "###choose pattern to plot####\n",
    "df_temp = pd.DataFrame()\n",
    "df_temp = df_typ2_firing.melt(id_vars=['name', 'Pattern', 'epochID'], var_name='subEpoch', value_name='firing_rate')\n",
    "x = df_temp[df_temp.Pattern == 2]\n",
    "#ax.set_facecolor('xkcd:salmon')\n",
    "#ax.set_facecolor((1, 0.47, 0.42)) ####REM####\n",
    "#ax.set_facecolor((0.4,0.6,0.7)) ####SWS####\n",
    "#sns.set(rc={'figure.figsize':(11.7,8.27)})\n",
    "#sns.set()\n",
    "sns.set(rc={'figure.figsize':(4.4,8.27)})\n",
    "sns.set_style(\"ticks\")\n",
    "\n",
    "g=sns.boxplot(x=\"subEpoch\", y=\"firing_rate\",color='blue', data=x)\n",
    "g.set_xticklabels(['1st','2nd','3rd'])\n",
    "g.set_title('REM')\n",
    "g.set(xlabel='subEpoch', ylabel='Mean Frequency Rate')\n",
    "#g.sns.set_style(\"whitegrid\", {'axes.grid' : False})\n",
    "#plt.ylim(0.05,0.07)\n",
    "#plt.ylim(0.011,0.12)\n",
    "\n",
    "#if save_fig:\n",
    " #   plt.savefig(fig_save_add + 'L:/analysis_nima/epoch_based_analysis/Triplet_type2_fr/Type2_fr_divided_thirds_rem_all_cells.pdf', dpi=300, format='pdf')"
   ]
  },
  {
   "cell_type": "code",
   "execution_count": null,
   "id": "110a65f8",
   "metadata": {
    "scrolled": true
   },
   "outputs": [],
   "source": [
    "df_temp = pd.DataFrame()\n",
    "df_temp = df_typ2_firing.melt(id_vars=['name', 'Pattern', 'epochID'], var_name='subEpoch', value_name='firing_rate')\n",
    "\n",
    "myGrid = sns.FacetGrid(data=df_temp, col='name', col_wrap=2, aspect=2, ylim=[-.05, 0.6])\n",
    "myplot = myGrid.map(sns.violinplot, 'Pattern', 'firing_rate', 'subEpoch')\n",
    "myplot.add_legend()\n",
    "plt.ylim([-.025, 0.3])\n",
    "if save_file:\n",
    "    df_temp.to_csv(path_or_buf=file_save_add + 'L:/analysis_nima/statistics_epoch_based/Triplet_type2/Type2_fr_divided_thirds.csv')\n",
    "if save_fig:\n",
    "    plt.savefig(fig_save_add + 'L:/analysis_nima/epoch_based_analysis/Triplet_type2_fr/Type2_fr_divided_thirds.pdf', dpi=300, format='pdf')"
   ]
  },
  {
   "cell_type": "code",
   "execution_count": null,
   "id": "75264bbf",
   "metadata": {},
   "outputs": [],
   "source": [
    "df_temp.shape"
   ]
  },
  {
   "cell_type": "markdown",
   "id": "d2645217",
   "metadata": {},
   "source": [
    "#### Frequency based on top x% divided to n"
   ]
  },
  {
   "cell_type": "code",
   "execution_count": null,
   "id": "fbb263d6",
   "metadata": {},
   "outputs": [],
   "source": [
    "# plotting average firing rate \n",
    "\n",
    "df_typ2_firing = pd.DataFrame()\n",
    "\n",
    "\n",
    "for i, indDict in enumerate(data_list):\n",
    "    df_typ2_firing = df_typ2_firing.append(pd.DataFrame({'1th':[np.nanmean(indDict['div_avg_firing_perSecond'][0][indDict['top20_avg_firing'][0]])], \n",
    "                                                         '2th':[np.nanmean(indDict['div_avg_firing_perSecond'][1][indDict['top20_avg_firing'][0]])], \n",
    "                                                         '3th':[np.nanmean(indDict['div_avg_firing_perSecond'][2][indDict['top20_avg_firing'][0]])], \n",
    "                                                         'name':indDict['mouseName'], \n",
    "                                                         'Pattern': indDict['type2'], \n",
    "                                                         'epochID': i}), ignore_index = True)\n",
    "    \n",
    "df_typ2_firing = df_typ2_firing[df_typ2_firing.Pattern != 0]"
   ]
  },
  {
   "cell_type": "code",
   "execution_count": null,
   "id": "ccf61c98",
   "metadata": {
    "scrolled": true
   },
   "outputs": [],
   "source": [
    "df_temp = pd.DataFrame()\n",
    "df_temp = df_typ2_firing.melt(id_vars=['name', 'Pattern', 'epochID'], var_name='subEpoch', value_name='firing_rate')\n",
    "\n",
    "myGrid = sns.FacetGrid(data=df_temp, col='name', col_wrap=2, aspect=2, ylim=[-.05, 0.6])\n",
    "myplot = myGrid.map(sns.violinplot, 'Pattern', 'firing_rate', 'subEpoch')\n",
    "myplot.add_legend()\n",
    "plt.ylim([-.025, 0.3])\n",
    "if save_file:\n",
    "    df_temp.to_csv(path_or_buf=file_save_add + 'L:/analysis_nima/statistics_epoch_based/Triplet_type2/Type2_fr_divided_thirds_top20%.csv')\n",
    "if save_fig:\n",
    "    plt.savefig(fig_save_add + 'L:/analysis_nima/epoch_based_analysis/Triplet_type2_fr/Type2_fr_divided_thirds_top20%.pdf', dpi=300, format='pdf')\n"
   ]
  },
  {
   "cell_type": "code",
   "execution_count": null,
   "id": "7f50d15c",
   "metadata": {},
   "outputs": [],
   "source": [
    "df_temp.shape"
   ]
  },
  {
   "cell_type": "markdown",
   "id": "7cd5cce2",
   "metadata": {},
   "source": [
    "#### Frequency based on least x% divided to n"
   ]
  },
  {
   "cell_type": "code",
   "execution_count": null,
   "id": "1897a0bd",
   "metadata": {},
   "outputs": [],
   "source": [
    "# plotting average firing rate \n",
    "\n",
    "df_typ2_firing = pd.DataFrame()\n",
    "\n",
    "\n",
    "for i, indDict in enumerate(data_list):\n",
    "    df_typ2_firing = df_typ2_firing.append(pd.DataFrame({'1th':[np.nanmean(indDict['div_avg_firing_perSecond'][0][indDict['least20_avg_firing'][0]])], \n",
    "                                                         '2th':[np.nanmean(indDict['div_avg_firing_perSecond'][1][indDict['least20_avg_firing'][0]])], \n",
    "                                                         '3th':[np.nanmean(indDict['div_avg_firing_perSecond'][2][indDict['least20_avg_firing'][0]])], \n",
    "                                                         'name':indDict['mouseName'], \n",
    "                                                         'Pattern': indDict['type2'],\n",
    "                                                         'epochID': i}), ignore_index = True)\n",
    "    \n",
    "df_typ2_firing = df_typ2_firing[df_typ2_firing.Pattern != 0]"
   ]
  },
  {
   "cell_type": "code",
   "execution_count": null,
   "id": "8e905c8d",
   "metadata": {
    "scrolled": true
   },
   "outputs": [],
   "source": [
    "df_temp = pd.DataFrame()\n",
    "df_temp = df_typ2_firing.melt(id_vars=['name', 'Pattern', 'epochID'], var_name='subEpoch', value_name='firing_rate')\n",
    "\n",
    "myGrid = sns.FacetGrid(data=df_temp, col='name', col_wrap=2, aspect=2, ylim=[-.05, 0.6])\n",
    "myplot = myGrid.map(sns.violinplot, 'Pattern', 'firing_rate', 'subEpoch')\n",
    "myplot.add_legend()\n",
    "plt.ylim([-.025, 0.3])\n",
    "if save_file:\n",
    "    df_temp.to_csv(path_or_buf=file_save_add + 'L:/analysis_nima/statistics_epoch_based/Triplet_type2/Type2_fr_divided_thirds_least20%.csv')\n",
    "if save_fig:\n",
    "    plt.savefig(fig_save_add + 'L:/analysis_nima/epoch_based_analysis/Triplet_type2_fr/Type2_fr_divided_thirds_least20%.pdf', dpi=300, format='pdf')"
   ]
  },
  {
   "cell_type": "markdown",
   "id": "432b3681",
   "metadata": {},
   "source": [
    "#### Frequency based on top x% of first element divided to n"
   ]
  },
  {
   "cell_type": "code",
   "execution_count": null,
   "id": "12955d28",
   "metadata": {},
   "outputs": [
    {
     "name": "stderr",
     "output_type": "stream",
     "text": [
      "C:\\Users\\admin\\Anaconda3\\lib\\site-packages\\ipykernel_launcher.py:12: RuntimeWarning: Mean of empty slice\n",
      "  if sys.path[0] == '':\n",
      "C:\\Users\\admin\\Anaconda3\\lib\\site-packages\\ipykernel_launcher.py:16: RuntimeWarning: Mean of empty slice\n",
      "  app.launch_new_instance()\n",
      "C:\\Users\\admin\\Anaconda3\\lib\\site-packages\\ipykernel_launcher.py:17: RuntimeWarning: Mean of empty slice\n",
      "C:\\Users\\admin\\Anaconda3\\lib\\site-packages\\ipykernel_launcher.py:18: RuntimeWarning: Mean of empty slice\n"
     ]
    }
   ],
   "source": [
    "# plotting average firing rate \n",
    "\n",
    "df_typ2_firing = pd.DataFrame()\n",
    "df_typ2_firing1 = pd.DataFrame()\n",
    "df_typ2_firing2 = pd.DataFrame()\n",
    "\n",
    "\n",
    "for i, indDict in enumerate(data_list):\n",
    "    if indDict['type2'] == 1:\n",
    "        df_typ2_firing1 = df_typ2_firing1.append(pd.DataFrame({'1th':[np.nanmean(indDict['div_avg_firing_perSecond'][0][indDict['top20_avg_firing'][0]])], \n",
    "                                                               '2th':[np.nanmean(indDict['div_avg_firing_perSecond'][1][indDict['top20_avg_firing'][0]])], \n",
    "                                                               '3th':[np.nanmean(indDict['div_avg_firing_perSecond'][2][indDict['top20_avg_firing'][0]])],\n",
    "                                                               'name':indDict['mouseName'], \n",
    "                                                               'epochID': i}), ignore_index = True)\n",
    "        \n",
    "        df_typ2_firing2 = df_typ2_firing2.append(pd.DataFrame({'1th':[np.nanmean(data_list[i+1]['div_avg_firing_perSecond'][0][indDict['top20_avg_firing'][0]])], \n",
    "                                                               '2th':[np.nanmean(data_list[i+1]['div_avg_firing_perSecond'][1][indDict['top20_avg_firing'][0]])], \n",
    "                                                               '3th':[np.nanmean(data_list[i+1]['div_avg_firing_perSecond'][2][indDict['top20_avg_firing'][0]])], \n",
    "                                                               'name':indDict['mouseName'], \n",
    "                                                               'epochID': i}), ignore_index = True)\n",
    "\n",
    "\n",
    "df_typ2_firing1 = df_typ2_firing1.melt(id_vars=['name', 'epochID'], var_name='levels', value_name='First')\n",
    "df_typ2_firing2 = df_typ2_firing2.melt(id_vars=['name', 'epochID'], var_name='levels', value_name='Second')\n",
    "\n",
    "df_typ2_firing = df_typ2_firing1.merge(df_typ2_firing2, on=['name', 'levels', 'epochID'])"
   ]
  },
  {
   "cell_type": "code",
   "execution_count": null,
   "id": "bc0b3a0f",
   "metadata": {},
   "outputs": [
    {
     "name": "stderr",
     "output_type": "stream",
     "text": [
      "C:\\Users\\admin\\Anaconda3\\lib\\site-packages\\ipykernel_launcher.py:15: UserWarning: FixedFormatter should only be used together with FixedLocator\n",
      "  from ipykernel import kernelapp as app\n"
     ]
    },
    {
     "data": {
      "image/png": "[encoded data removed]",
      "text/plain": [
       "<Figure size 316.8x595.44 with 1 Axes>"
      ]
     },
     "metadata": {},
     "output_type": "display_data"
    }
   ],
   "source": [
    "###choose pattern to plot####\n",
    "df_temp = pd.DataFrame()\n",
    "df_temp = df_typ2_firing.melt(id_vars=['name', 'levels', 'epochID'], var_name='Pattern', value_name='firing_rate')\n",
    "x = df_temp[df_temp.Pattern == 'First'].groupby(by = [\"levels\", \"Pattern\"], as_index=False).agg(np.median)\n",
    "ax = plt.gca()\n",
    "#ax.set_facecolor('xkcd:salmon')\n",
    "#ax.set_facecolor((1, 0.47, 0.42)) ####REM####\n",
    "#ax.set_facecolor((0.4,0.6,0.7)) ####SWS####\n",
    "#sns.set(rc={'figure.figsize':(11.7,8.27)})\n",
    "#sns.set()\n",
    "sns.set(rc={'figure.figsize':(4.4,8.27)})\n",
    "sns.set_style(\"ticks\")\n",
    "\n",
    "g=sns.lineplot(x=\"levels\", y=\"firing_rate\", style=\"Pattern\",color='blue',markers=True,err_style='band',legend = False, data=x)\n",
    "g.set_xticklabels(['1st','2nd','3rd'])\n",
    "g.set_title('SWS')\n",
    "g.set(xlabel='subEpoch', ylabel='Mean Frequency Rate')\n",
    "#g.sns.set_style(\"whitegrid\", {'axes.grid' : False})\n",
    "#plt.ylim(0.05,0.07)\n",
    "#plt.ylim(0.011,0.12)\n",
    "\n",
    "if save_fig:\n",
    "    plt.savefig(fig_save_add + 'L:/analysis_nima/epoch_based_analysis/Triplet_type2_fr/Type2_fr_divided_thirds_sws_top20_basedSWS_all_cells.pdf', dpi=300, format='pdf')"
   ]
  },
  {
   "cell_type": "code",
   "execution_count": null,
   "id": "fc1a9548",
   "metadata": {
    "scrolled": true
   },
   "outputs": [],
   "source": [
    "df_temp = pd.DataFrame()\n",
    "df_temp = df_typ2_firing.melt(id_vars=['name', 'levels', 'epochID'], var_name='Pattern', value_name='firing_rate')\n",
    "\n",
    "myGrid = sns.FacetGrid(data=df_temp, col='name', col_wrap=2, aspect=2, ylim=[-.05, 0.6])\n",
    "myplot = myGrid.map(sns.violinplot, 'Pattern', 'firing_rate', 'levels')\n",
    "myplot.add_legend()\n",
    "plt.ylim([-.025, 0.3])\n",
    "if save_file:\n",
    "    df_temp.to_csv(path_or_buf=file_save_add + 'L:/analysis_nima/statistics_epoch_based/Triplet_type2/Type2_fr_divided_thirds_based_on_top_20%_first_element.csv')\n",
    "if save_fig:\n",
    "    plt.savefig(fig_save_add + 'L:/analysis_nima/epoch_based_analysis/Triplet_type2_fr/Type2_fr_divided_thirds_based_on_top_20%_first_element.pdf', dpi=300, format='pdf')"
   ]
  },
  {
   "cell_type": "code",
   "execution_count": null,
   "id": "f650252e",
   "metadata": {},
   "outputs": [],
   "source": [
    "df_temp.shape"
   ]
  },
  {
   "cell_type": "markdown",
   "id": "d7610186",
   "metadata": {},
   "source": [
    "#### Frequency based on least x% of first element divided to n"
   ]
  },
  {
   "cell_type": "code",
   "execution_count": null,
   "id": "5c60edfe",
   "metadata": {},
   "outputs": [
    {
     "name": "stderr",
     "output_type": "stream",
     "text": [
      "C:\\Users\\admin\\Anaconda3\\lib\\site-packages\\ipykernel_launcher.py:10: RuntimeWarning: Mean of empty slice\n",
      "  # Remove the CWD from sys.path while we load stuff.\n",
      "C:\\Users\\admin\\Anaconda3\\lib\\site-packages\\ipykernel_launcher.py:12: RuntimeWarning: Mean of empty slice\n",
      "  if sys.path[0] == '':\n",
      "C:\\Users\\admin\\Anaconda3\\lib\\site-packages\\ipykernel_launcher.py:16: RuntimeWarning: Mean of empty slice\n",
      "  app.launch_new_instance()\n",
      "C:\\Users\\admin\\Anaconda3\\lib\\site-packages\\ipykernel_launcher.py:17: RuntimeWarning: Mean of empty slice\n",
      "C:\\Users\\admin\\Anaconda3\\lib\\site-packages\\ipykernel_launcher.py:18: RuntimeWarning: Mean of empty slice\n"
     ]
    }
   ],
   "source": [
    "# plotting average firing rate \n",
    "\n",
    "df_typ2_firing = pd.DataFrame()\n",
    "df_typ2_firing1 = pd.DataFrame()\n",
    "df_typ2_firing2 = pd.DataFrame()\n",
    "\n",
    "\n",
    "for i, indDict in enumerate(data_list):\n",
    "    if indDict['type2'] == 1:\n",
    "        df_typ2_firing1 = df_typ2_firing1.append(pd.DataFrame({'1th':[np.nanmean(indDict['div_avg_firing_perSecond'][0][indDict['least20_avg_firing'][0]])], \n",
    "                                                               '2th':[np.nanmean(indDict['div_avg_firing_perSecond'][1][indDict['least20_avg_firing'][0]])], \n",
    "                                                               '3th':[np.nanmean(indDict['div_avg_firing_perSecond'][2][indDict['least20_avg_firing'][0]])],\n",
    "                                                               'name':indDict['mouseName'], \n",
    "                                                               'epochID': i}), ignore_index = True)\n",
    "        \n",
    "        df_typ2_firing2 = df_typ2_firing2.append(pd.DataFrame({'1th':[np.nanmean(data_list[i+1]['div_avg_firing_perSecond'][0][indDict['least20_avg_firing'][0]])], \n",
    "                                                               '2th':[np.nanmean(data_list[i+1]['div_avg_firing_perSecond'][1][indDict['least20_avg_firing'][0]])], \n",
    "                                                               '3th':[np.nanmean(data_list[i+1]['div_avg_firing_perSecond'][2][indDict['least20_avg_firing'][0]])], \n",
    "                                                               'name':indDict['mouseName'], \n",
    "                                                               'epochID': i}), ignore_index = True)\n",
    "\n",
    "\n",
    "df_typ2_firing1 = df_typ2_firing1.melt(id_vars=['name', 'epochID'], var_name='levels', value_name='First')\n",
    "df_typ2_firing2 = df_typ2_firing2.melt(id_vars=['name', 'epochID'], var_name='levels', value_name='Second')\n",
    "\n",
    "df_typ2_firing = df_typ2_firing1.merge(df_typ2_firing2, on=['name', 'levels', 'epochID'])"
   ]
  },
  {
   "cell_type": "code",
   "execution_count": null,
   "id": "d4e66ccd",
   "metadata": {},
   "outputs": [
    {
     "name": "stderr",
     "output_type": "stream",
     "text": [
      "C:\\Users\\admin\\Anaconda3\\lib\\site-packages\\ipykernel_launcher.py:15: UserWarning: FixedFormatter should only be used together with FixedLocator\n",
      "  from ipykernel import kernelapp as app\n"
     ]
    },
    {
     "data": {
      "image/png": "[encoded data removed]",
      "text/plain": [
       "<Figure size 316.8x595.44 with 1 Axes>"
      ]
     },
     "metadata": {},
     "output_type": "display_data"
    }
   ],
   "source": [
    "###choose pattern to plot####\n",
    "df_temp = pd.DataFrame()\n",
    "df_temp = df_typ2_firing.melt(id_vars=['name', 'levels', 'epochID'], var_name='Pattern', value_name='firing_rate')\n",
    "x = df_temp[df_temp.Pattern == 'Second'].groupby(by = [\"levels\", \"Pattern\"], as_index=False).agg(np.median)\n",
    "ax = plt.gca()\n",
    "#ax.set_facecolor('xkcd:salmon')\n",
    "#ax.set_facecolor((1, 0.47, 0.42)) ####REM####\n",
    "#ax.set_facecolor((0.4,0.6,0.7)) ####SWS####\n",
    "#sns.set(rc={'figure.figsize':(11.7,8.27)})\n",
    "#sns.set()\n",
    "sns.set(rc={'figure.figsize':(4.4,8.27)})\n",
    "sns.set_style(\"ticks\")\n",
    "\n",
    "g=sns.lineplot(x=\"levels\", y=\"firing_rate\", style=\"Pattern\",color='blue',markers=True,err_style='band',legend = False, data=x)\n",
    "g.set_xticklabels(['1st','2nd','3rd'])\n",
    "g.set_title('REM')\n",
    "g.set(xlabel='subEpoch', ylabel='Mean Frequency Rate')\n",
    "#g.sns.set_style(\"whitegrid\", {'axes.grid' : False})\n",
    "#plt.ylim(0.05,0.07)\n",
    "#plt.ylim(0.011,0.12)\n",
    "\n",
    "if save_fig:\n",
    "    plt.savefig(fig_save_add + 'L:/analysis_nima/epoch_based_analysis/Triplet_type2_fr/Type2_fr_divided_thirds_rem_least20_basedSWS_all_cells.pdf', dpi=300, format='pdf')"
   ]
  },
  {
   "cell_type": "code",
   "execution_count": null,
   "id": "cf90220b",
   "metadata": {
    "scrolled": true
   },
   "outputs": [],
   "source": [
    "df_temp = pd.DataFrame()\n",
    "df_temp = df_typ2_firing.melt(id_vars=['name', 'levels', 'epochID'], var_name='Pattern', value_name='firing_rate')\n",
    "\n",
    "myGrid = sns.FacetGrid(data=df_temp, col='name', col_wrap=2, aspect=2, ylim=[-.05, 0.6])\n",
    "myplot = myGrid.map(sns.violinplot, 'Pattern', 'firing_rate', 'levels')\n",
    "myplot.add_legend()\n",
    "plt.ylim([-.025, 0.3])\n",
    "if save_file:\n",
    "    df_temp.to_csv(path_or_buf=file_save_add + 'L:/analysis_nima/statistics_epoch_based/Triplet_type2/Type2_fr_divided_thirds_based_on_least_20%_first_element.csv')\n",
    "if save_fig:\n",
    "    plt.savefig(fig_save_add + 'L:/analysis_nima/epoch_based_analysis/Triplet_type2_fr/Type2_fr_divided_thirds_based_on_least_20%_first_element.pdf', dpi=300, format='pdf')"
   ]
  },
  {
   "cell_type": "code",
   "execution_count": null,
   "id": "eac55c4d",
   "metadata": {},
   "outputs": [],
   "source": []
  },
  {
   "cell_type": "code",
   "execution_count": null,
   "id": "463f543e",
   "metadata": {},
   "outputs": [],
   "source": []
  },
  {
   "cell_type": "code",
   "execution_count": null,
   "id": "4fe579f2",
   "metadata": {},
   "outputs": [],
   "source": []
  },
  {
   "cell_type": "code",
   "execution_count": null,
   "id": "5b005947",
   "metadata": {},
   "outputs": [],
   "source": []
  },
  {
   "cell_type": "code",
   "execution_count": null,
   "id": "e13602fc",
   "metadata": {},
   "outputs": [],
   "source": []
  },
  {
   "cell_type": "code",
   "execution_count": null,
   "id": "36df21f3",
   "metadata": {},
   "outputs": [],
   "source": []
  },
  {
   "cell_type": "code",
   "execution_count": null,
   "id": "7d148582",
   "metadata": {},
   "outputs": [],
   "source": []
  },
  {
   "cell_type": "code",
   "execution_count": null,
   "id": "32610778",
   "metadata": {},
   "outputs": [],
   "source": [
    "# THIPLLET WITH n DIVISION \n",
    "# SWS REM SWSn+1\n",
    "# SWS AWAKE SWSn+1\n",
    "# AWAKE SWS REM SWSn+1\n"
   ]
  },
  {
   "cell_type": "code",
   "execution_count": null,
   "id": "40c83c47",
   "metadata": {},
   "outputs": [],
   "source": []
  },
  {
   "cell_type": "markdown",
   "id": "a873cb6f",
   "metadata": {},
   "source": [
    "### Read and write data as JSON file"
   ]
  },
  {
   "cell_type": "code",
   "execution_count": null,
   "id": "e91ae1ba",
   "metadata": {},
   "outputs": [],
   "source": [
    "with open('I:/Marco/analysis_nima/allData_JSON/fullData_with_analyses.json', 'w') as wr:\n",
    "    json.dump(data_list , wr, cls=NumpyEncoder)"
   ]
  },
  {
   "cell_type": "code",
   "execution_count": null,
   "id": "207e4d28",
   "metadata": {},
   "outputs": [],
   "source": [
    "with open(r\"I:/Marco/analysis_nima/allData_JSON/fullData_with_analyses.json\", \"r\") as read_file:\n",
    "    data_list = json.load(read_file)"
   ]
  },
  {
   "cell_type": "code",
   "execution_count": null,
   "id": "fad70180",
   "metadata": {},
   "outputs": [],
   "source": [
    "# change lists to array\n",
    "[data_dict.update({key: np.asarray(data_dict[key])}) for data_dict in data_list for key in data_dict.keys() if isinstance(data_dict[key], list)];"
   ]
  },
  {
   "cell_type": "code",
   "execution_count": null,
   "id": "4e3422c2",
   "metadata": {},
   "outputs": [],
   "source": []
  },
  {
   "cell_type": "code",
   "execution_count": null,
   "id": "8a3ba1f0",
   "metadata": {},
   "outputs": [],
   "source": []
  },
  {
   "cell_type": "markdown",
   "id": "41269315",
   "metadata": {},
   "source": [
    "### Correlation analysis Frequency 3rd-1st"
   ]
  },
  {
   "cell_type": "markdown",
   "id": "6723d2c6",
   "metadata": {},
   "source": [
    "#### Per epoch"
   ]
  },
  {
   "cell_type": "code",
   "execution_count": null,
   "id": "bffbeb62",
   "metadata": {},
   "outputs": [],
   "source": [
    "# plotting average firing rate \n",
    "\n",
    "df_typ2_firing = pd.DataFrame()\n",
    "\n",
    "\n",
    "for i, indDict in enumerate(data_list):\n",
    "    df_typ2_firing = df_typ2_firing.append(pd.DataFrame({'FiringRate':[np.nanmean(np.where(np.isnan(indDict['div_avg_firing_perSecond'][2]), 0, indDict['div_avg_firing_perSecond'][2]) - np.where(np.isnan(indDict['div_avg_firing_perSecond'][0]), 0, indDict['div_avg_firing_perSecond'][0]))], \n",
    "                                                         'name':indDict['mouseName'], \n",
    "                                                         'Pattern': indDict['type2'], \n",
    "                                                         'epochID': i}), ignore_index = True)\n",
    "    \n",
    "df_typ2_firing = df_typ2_firing[df_typ2_firing.Pattern != 0]"
   ]
  },
  {
   "cell_type": "code",
   "execution_count": null,
   "id": "c6f98b3d",
   "metadata": {},
   "outputs": [
    {
     "data": {
      "text/html": [
       "<div>\n",
       "<style scoped>\n",
       "    .dataframe tbody tr th:only-of-type {\n",
       "        vertical-align: middle;\n",
       "    }\n",
       "\n",
       "    .dataframe tbody tr th {\n",
       "        vertical-align: top;\n",
       "    }\n",
       "\n",
       "    .dataframe thead th {\n",
       "        text-align: right;\n",
       "    }\n",
       "</style>\n",
       "<table border=\"1\" class=\"dataframe\">\n",
       "  <thead>\n",
       "    <tr style=\"text-align: right;\">\n",
       "      <th></th>\n",
       "      <th>x</th>\n",
       "      <th>y</th>\n",
       "    </tr>\n",
       "  </thead>\n",
       "  <tbody>\n",
       "    <tr>\n",
       "      <th>0</th>\n",
       "      <td>0.005680</td>\n",
       "      <td>0.002508</td>\n",
       "    </tr>\n",
       "    <tr>\n",
       "      <th>1</th>\n",
       "      <td>0.002472</td>\n",
       "      <td>0.005710</td>\n",
       "    </tr>\n",
       "    <tr>\n",
       "      <th>2</th>\n",
       "      <td>0.006880</td>\n",
       "      <td>0.003366</td>\n",
       "    </tr>\n",
       "  </tbody>\n",
       "</table>\n",
       "</div>"
      ],
      "text/plain": [
       "          x         y\n",
       "0  0.005680  0.002508\n",
       "1  0.002472  0.005710\n",
       "2  0.006880  0.003366"
      ]
     },
     "execution_count": 48,
     "metadata": {},
     "output_type": "execute_result"
    }
   ],
   "source": [
    "x = df_typ2_firing[df_typ2_firing.Pattern==1][\"FiringRate\"].values\n",
    "y = df_typ2_firing[df_typ2_firing.Pattern==2][\"FiringRate\"].values\n",
    "\n",
    "df_correlation_type2 = pd.DataFrame({\"x\":x, \"y\":y})\n",
    "df_correlation_type2.head(3)"
   ]
  },
  {
   "cell_type": "code",
   "execution_count": null,
   "id": "efcfd386",
   "metadata": {},
   "outputs": [
    {
     "data": {
      "text/plain": [
       "<AxesSubplot:>"
      ]
     },
     "execution_count": 49,
     "metadata": {},
     "output_type": "execute_result"
    },
    {
     "data": {
      "image/png": "[encoded data removed]",
      "text/plain": [
       "<Figure size 432x288 with 1 Axes>"
      ]
     },
     "metadata": {
      "needs_background": "light"
     },
     "output_type": "display_data"
    }
   ],
   "source": [
    "sns.regplot(x=x, y=y)"
   ]
  },
  {
   "cell_type": "markdown",
   "id": "47d2b088",
   "metadata": {},
   "source": [
    "#### per cell"
   ]
  },
  {
   "cell_type": "code",
   "execution_count": null,
   "id": "02dcaaf5",
   "metadata": {},
   "outputs": [],
   "source": [
    "# plotting average firing rate \n",
    "\n",
    "df_typ2_firing = pd.DataFrame()\n",
    "\n",
    "\n",
    "for i, indDict in enumerate(data_list):\n",
    "    df_typ2_firing = df_typ2_firing.append(pd.DataFrame({'FiringRate':np.where(np.isnan(indDict['div_avg_firing_perSecond'][2]), 0, indDict['div_avg_firing_perSecond'][2]) - np.where(np.isnan(indDict['div_avg_firing_perSecond'][0]), 0, indDict['div_avg_firing_perSecond'][0]), \n",
    "                                                         'name':indDict['mouseName'], \n",
    "                                                         'Pattern': indDict['type2'], \n",
    "                                                         'epochID': i}), ignore_index = True)\n",
    "    \n",
    "df_typ2_firing = df_typ2_firing[df_typ2_firing.Pattern != 0]"
   ]
  },
  {
   "cell_type": "code",
   "execution_count": null,
   "id": "ff3e3c9e",
   "metadata": {},
   "outputs": [
    {
     "data": {
      "text/html": [
       "<div>\n",
       "<style scoped>\n",
       "    .dataframe tbody tr th:only-of-type {\n",
       "        vertical-align: middle;\n",
       "    }\n",
       "\n",
       "    .dataframe tbody tr th {\n",
       "        vertical-align: top;\n",
       "    }\n",
       "\n",
       "    .dataframe thead th {\n",
       "        text-align: right;\n",
       "    }\n",
       "</style>\n",
       "<table border=\"1\" class=\"dataframe\">\n",
       "  <thead>\n",
       "    <tr style=\"text-align: right;\">\n",
       "      <th></th>\n",
       "      <th>x</th>\n",
       "      <th>y</th>\n",
       "    </tr>\n",
       "  </thead>\n",
       "  <tbody>\n",
       "    <tr>\n",
       "      <th>0</th>\n",
       "      <td>0.000000</td>\n",
       "      <td>0.000000</td>\n",
       "    </tr>\n",
       "    <tr>\n",
       "      <th>1</th>\n",
       "      <td>0.011862</td>\n",
       "      <td>0.000000</td>\n",
       "    </tr>\n",
       "    <tr>\n",
       "      <th>2</th>\n",
       "      <td>0.000000</td>\n",
       "      <td>0.119672</td>\n",
       "    </tr>\n",
       "  </tbody>\n",
       "</table>\n",
       "</div>"
      ],
      "text/plain": [
       "          x         y\n",
       "0  0.000000  0.000000\n",
       "1  0.011862  0.000000\n",
       "2  0.000000  0.119672"
      ]
     },
     "execution_count": 51,
     "metadata": {},
     "output_type": "execute_result"
    }
   ],
   "source": [
    "x = df_typ2_firing[df_typ2_firing.Pattern==1][\"FiringRate\"].values\n",
    "y = df_typ2_firing[df_typ2_firing.Pattern==2][\"FiringRate\"].values\n",
    "\n",
    "df_correlation_type2 = pd.DataFrame({\"x\":x, \"y\":y})\n",
    "df_correlation_type2.head(3)"
   ]
  },
  {
   "cell_type": "code",
   "execution_count": null,
   "id": "485a0eaf",
   "metadata": {},
   "outputs": [
    {
     "data": {
      "text/plain": [
       "<AxesSubplot:>"
      ]
     },
     "execution_count": 53,
     "metadata": {},
     "output_type": "execute_result"
    },
    {
     "data": {
      "image/png": "[encoded data removed]",
      "text/plain": [
       "<Figure size 432x288 with 1 Axes>"
      ]
     },
     "metadata": {
      "needs_background": "light"
     },
     "output_type": "display_data"
    }
   ],
   "source": [
    "sns.regplot(x=x, y=y, marker = '.')"
   ]
  },
  {
   "cell_type": "markdown",
   "id": "543396b2",
   "metadata": {},
   "source": [
    "### Correlation analysis Amplitude 3rd-1st"
   ]
  },
  {
   "cell_type": "markdown",
   "id": "b50876b2",
   "metadata": {},
   "source": [
    "### Per epoch"
   ]
  },
  {
   "cell_type": "code",
   "execution_count": null,
   "id": "b609a056",
   "metadata": {},
   "outputs": [],
   "source": [
    "# plotting average firing rate \n",
    "\n",
    "df_typ2_firing = pd.DataFrame()\n",
    "\n",
    "\n",
    "for i, indDict in enumerate(data_list):\n",
    "    df_typ2_firing = df_typ2_firing.append(pd.DataFrame({'FiringRate':[np.nanmean(np.where(np.isnan(indDict['avg_amplitude'][2]), 0, indDict['avg_amplitude'][2]) - np.where(np.isnan(indDict['avg_amplitude'][0]), 0, indDict['avg_amplitude'][0]))], \n",
    "                                                         'name':indDict['mouseName'], \n",
    "                                                         'Pattern': indDict['type2'], \n",
    "                                                         'epochID': i}), ignore_index = True)\n",
    "    \n",
    "df_typ2_firing = df_typ2_firing[df_typ2_firing.Pattern != 0]\n"
   ]
  },
  {
   "cell_type": "code",
   "execution_count": null,
   "id": "fc594ae3",
   "metadata": {},
   "outputs": [],
   "source": [
    "x = df_typ2_firing[df_typ2_firing.Pattern==1][\"FiringRate\"].values\n",
    "y = df_typ2_firing[df_typ2_firing.Pattern==2][\"FiringRate\"].values\n",
    "\n",
    "df_correlation_type2 = pd.DataFrame({\"x\":x, \"y\":y})\n",
    "df_correlation_type2.head(3)"
   ]
  },
  {
   "cell_type": "code",
   "execution_count": null,
   "id": "6bd5175e",
   "metadata": {},
   "outputs": [],
   "source": [
    "sns.regplot(x=x, y=y)"
   ]
  },
  {
   "cell_type": "markdown",
   "id": "708f7eb9",
   "metadata": {},
   "source": [
    "### Per cell"
   ]
  },
  {
   "cell_type": "code",
   "execution_count": null,
   "id": "63d301aa",
   "metadata": {},
   "outputs": [],
   "source": [
    "# plotting average firing rate \n",
    "\n",
    "df_typ2_firing = pd.DataFrame()\n",
    "\n",
    "\n",
    "for i, indDict in enumerate(data_list):\n",
    "    df_typ2_firing = df_typ2_firing.append(pd.DataFrame({'FiringRate':(np.where(np.isnan(indDict['avg_amplitude'][2]), 0, indDict['avg_amplitude'][2]) - np.where(np.isnan(indDict['avg_amplitude'][0]), 0, indDict['avg_amplitude'][0])), \n",
    "                                                         'name':indDict['mouseName'], \n",
    "                                                         'Pattern': indDict['type2'], \n",
    "                                                         'epochID': i}), ignore_index = True)\n",
    "    \n",
    "df_typ2_firing = df_typ2_firing[df_typ2_firing.Pattern != 0]\n"
   ]
  },
  {
   "cell_type": "code",
   "execution_count": null,
   "id": "e3041dae",
   "metadata": {},
   "outputs": [],
   "source": [
    "x = df_typ2_firing[df_typ2_firing.Pattern==1][\"FiringRate\"].values\n",
    "y = df_typ2_firing[df_typ2_firing.Pattern==2][\"FiringRate\"].values\n",
    "\n",
    "df_correlation_type2 = pd.DataFrame({\"x\":x, \"y\":y})\n",
    "df_correlation_type2.head(3)"
   ]
  },
  {
   "cell_type": "code",
   "execution_count": null,
   "id": "2b0f1009",
   "metadata": {},
   "outputs": [],
   "source": [
    "sns.regplot(x=x, y=y)"
   ]
  },
  {
   "cell_type": "code",
   "execution_count": null,
   "id": "e0702134",
   "metadata": {},
   "outputs": [],
   "source": []
  },
  {
   "cell_type": "markdown",
   "id": "85ebeff5",
   "metadata": {},
   "source": [
    "## Regression to Mean"
   ]
  },
  {
   "cell_type": "code",
   "execution_count": null,
   "id": "30f08c8b",
   "metadata": {},
   "outputs": [],
   "source": [
    "# all cells\n",
    "test = []\n",
    "import numpy as np\n",
    "import numpy.ma as ma\n",
    "\n",
    "\n",
    "for i, indDict in enumerate(data_list):\n",
    "    if (indDict[\"type2\"]) and (indDict[\"mouseName\"] == data_list[i+1][\"mouseName\"]):\n",
    "        test.append(1- np.abs(ma.corrcoef(ma.masked_invalid(indDict[\"avg_firing_perSecond\"]), ma.masked_invalid(data_list[i+1][\"avg_firing_perSecond\"]))[1,0]))\n"
   ]
  },
  {
   "cell_type": "code",
   "execution_count": null,
   "id": "8c0cb2ca",
   "metadata": {
    "scrolled": false
   },
   "outputs": [
    {
     "name": "stderr",
     "output_type": "stream",
     "text": [
      "C:\\Users\\admin\\Anaconda3\\lib\\site-packages\\ipykernel_launcher.py:1: UserWarning: Warning: converting a masked element to nan.\n",
      "  \"\"\"Entry point for launching an IPython kernel.\n"
     ]
    },
    {
     "data": {
      "image/png": "[encoded data removed]",
      "text/plain": [
       "<Figure size 432x288 with 1 Axes>"
      ]
     },
     "metadata": {
      "needs_background": "light"
     },
     "output_type": "display_data"
    }
   ],
   "source": [
    "plt.hist(np.array(test)*100, bins=50);"
   ]
  },
  {
   "cell_type": "code",
   "execution_count": null,
   "id": "8e0df015",
   "metadata": {},
   "outputs": [],
   "source": [
    "# To 20\n",
    "test = []\n",
    "import numpy as np\n",
    "import numpy.ma as ma\n",
    "\n",
    "\n",
    "for i, indDict in enumerate(data_list):\n",
    "    if (indDict[\"type2\"]) and (indDict[\"mouseName\"] == data_list[i+1][\"mouseName\"]):\n",
    "        test.append(1- np.abs(ma.corrcoef(ma.masked_invalid(indDict[\"top20_avg_firing\"][1]), ma.masked_invalid(data_list[i+1][\"avg_firing_perSecond\"][indDict[\"top20_avg_firing\"][0]]))[1,0]))\n"
   ]
  },
  {
   "cell_type": "code",
   "execution_count": null,
   "id": "6a42b667",
   "metadata": {
    "scrolled": true
   },
   "outputs": [
    {
     "name": "stderr",
     "output_type": "stream",
     "text": [
      "C:\\Users\\admin\\Anaconda3\\lib\\site-packages\\ipykernel_launcher.py:1: UserWarning: Warning: converting a masked element to nan.\n",
      "  \"\"\"Entry point for launching an IPython kernel.\n"
     ]
    },
    {
     "data": {
      "image/png": "[encoded data removed]",
      "text/plain": [
       "<Figure size 432x288 with 1 Axes>"
      ]
     },
     "metadata": {
      "needs_background": "light"
     },
     "output_type": "display_data"
    }
   ],
   "source": [
    "plt.hist(np.array(test)*100, bins=50);"
   ]
  },
  {
   "cell_type": "code",
   "execution_count": null,
   "id": "fdcef1fa",
   "metadata": {},
   "outputs": [],
   "source": [
    "# To 20\n",
    "test = []\n",
    "import numpy as np\n",
    "import numpy.ma as ma\n",
    "\n",
    "\n",
    "for i, indDict in enumerate(data_list):\n",
    "    if (indDict[\"type2\"]) and (indDict[\"mouseName\"] == data_list[i+1][\"mouseName\"]):\n",
    "        test.append(1- np.abs(ma.corrcoef(ma.masked_invalid(indDict[\"least20_avg_firing\"][1]), ma.masked_invalid(data_list[i+1][\"avg_firing_perSecond\"][indDict[\"least20_avg_firing\"][0]]))[1,0]))\n"
   ]
  },
  {
   "cell_type": "code",
   "execution_count": null,
   "id": "d1e22d2b",
   "metadata": {},
   "outputs": [
    {
     "name": "stderr",
     "output_type": "stream",
     "text": [
      "C:\\Users\\admin\\Anaconda3\\lib\\site-packages\\ipykernel_launcher.py:1: UserWarning: Warning: converting a masked element to nan.\n",
      "  \"\"\"Entry point for launching an IPython kernel.\n"
     ]
    },
    {
     "data": {
      "image/png": "[encoded data removed]",
      "text/plain": [
       "<Figure size 432x288 with 1 Axes>"
      ]
     },
     "metadata": {
      "needs_background": "light"
     },
     "output_type": "display_data"
    }
   ],
   "source": [
    "plt.hist(np.array(test)*100, bins=50);"
   ]
  },
  {
   "cell_type": "code",
   "execution_count": null,
   "id": "e80ffa56",
   "metadata": {},
   "outputs": [
    {
     "data": {
      "text/plain": [
       "[0.8383447984716091,\n",
       " 0.6131332570012894,\n",
       " 0.8772121912650153,\n",
       " 0.9830233782799787,\n",
       " 0.9056308194006006,\n",
       " 0.9555005840510016,\n",
       " 0.9452573419714003,\n",
       " 0.9143034990678953,\n",
       " 0.9428747794016727,\n",
       " 0.0,\n",
       " 0.6487137677113683,\n",
       " 0.9254855186422712,\n",
       " 0.6487137677113683,\n",
       " 0.9254855186422712,\n",
       " 0.9264112786747909,\n",
       " 0.8961821352590343,\n",
       " 0.9002032354961175,\n",
       " 0.832926412890865,\n",
       " 0.883535643720952,\n",
       " 0.9554788139850544,\n",
       " 0.9652507559813447,\n",
       " 0.7694381287117102,\n",
       " 0.8246207708542769,\n",
       " 0.9815391966146404,\n",
       " 0.7387880961897315,\n",
       " 0.6515465592498858,\n",
       " 0.8246207708542769,\n",
       " 0.9815391966146404,\n",
       " 0.7156215711188908,\n",
       " 0.2094305849579049,\n",
       " 0.7239541509179366,\n",
       " masked,\n",
       " 0.6898533073246513,\n",
       " 0.8777225261884354,\n",
       " 0.7554908597359534,\n",
       " 0.8169645899975713,\n",
       " 0.4807164252902354,\n",
       " masked,\n",
       " 0.9026317567166644,\n",
       " 0.8448865088690136,\n",
       " 0.7807324868175667,\n",
       " 0.906984611677405,\n",
       " 0.9818174843050023,\n",
       " 0.8289262359651242,\n",
       " masked,\n",
       " 0.9408745026919136,\n",
       " 0.8155156186132185,\n",
       " 0.9771810159105039,\n",
       " 0.6016626967924827,\n",
       " 0.6683759792717778,\n",
       " 0.6974476577887383,\n",
       " 0.9649500181383609,\n",
       " 0.8978870179561274,\n",
       " 0.6980095313653543,\n",
       " 0.6763902962888861,\n",
       " 0.7061667710626072,\n",
       " 0.6380727141573991,\n",
       " 0.8170852539252487,\n",
       " 0.9443539777576596,\n",
       " 0.9777782256800276,\n",
       " 0.902235717874001,\n",
       " 0.8875267164048468,\n",
       " 0.9654864486135785,\n",
       " 0.8575952802909498,\n",
       " 0.9745653087444737,\n",
       " 0.6715768201519939,\n",
       " 0.8636631506323805,\n",
       " 0.33390106241122974,\n",
       " 0.4209410679515788,\n",
       " 0.9897895374923308,\n",
       " 0.8852303880257429,\n",
       " 0.8110805665057851,\n",
       " 0.8074356757810921,\n",
       " 0.8094197658866072,\n",
       " 0.892870225582371,\n",
       " 0.6453909086677242,\n",
       " 0.8456218679314176,\n",
       " 0.87208612347998,\n",
       " 0.7334800257998672,\n",
       " 0.27648900713506364,\n",
       " 0.9489270017119616,\n",
       " 0.9139010883248277,\n",
       " 0.9064039482231135,\n",
       " 0.7704150377983916,\n",
       " 0.5194973915501884,\n",
       " 0.6180856302014994,\n",
       " 0.9246221638555591,\n",
       " 0.455056629697949,\n",
       " 0.9738608305289097,\n",
       " 0.9072981441385007,\n",
       " 0.30556340041515595,\n",
       " 0.7173596571961431,\n",
       " 0.9059904599561348,\n",
       " 0.4655890423979354,\n",
       " 0.8430756862987083,\n",
       " 0.5403166098527474,\n",
       " 0.6900964841675792,\n",
       " 0.7974298265960217,\n",
       " 0.9344635957716749,\n",
       " 0.5541329294849073,\n",
       " 0.850928801500014,\n",
       " 0.8337794796844737,\n",
       " 0.5566238571494537,\n",
       " 0.6275969921632395,\n",
       " 0.7031874181044846,\n",
       " 0.862227475580043,\n",
       " masked,\n",
       " 0.9490780152141073,\n",
       " 0.9631899584260721,\n",
       " 0.8436776631565459,\n",
       " masked,\n",
       " 0.7617232446261334,\n",
       " 0.9661246239764096,\n",
       " 0.7897116679270386,\n",
       " 0.5295578787207886,\n",
       " 0.9443142286659805,\n",
       " 0.42949998336267825,\n",
       " 0.8624371078168143,\n",
       " masked,\n",
       " 0.8960422877288554,\n",
       " masked,\n",
       " 0.710656170660243,\n",
       " 0.7052468276267183,\n",
       " 0.7302292078014188,\n",
       " masked,\n",
       " 0.5265819571430925,\n",
       " 0.873749231112194,\n",
       " 0.9669707887532938,\n",
       " 0.7750002197262407,\n",
       " 0.4148473001882166,\n",
       " 0.694355992986359,\n",
       " 0.6998610605635264,\n",
       " 0.8648963808227081,\n",
       " 0.9719857579805828,\n",
       " 0.7220976861129493,\n",
       " 0.8428735651200872,\n",
       " 0.42264973081037427,\n",
       " 0.9905433962817786,\n",
       " 0.6943439751349041,\n",
       " 0.7830093665601863,\n",
       " 0.8522351013668537,\n",
       " 0.322079383093572,\n",
       " 0.42949435784363965,\n",
       " 0.5805632737498456,\n",
       " 0.8797385767697914,\n",
       " 0.7591035739515806,\n",
       " 0.9855952031028642,\n",
       " 0.1730038942518779,\n",
       " 0.5755626561864173,\n",
       " 0.7934647086615324,\n",
       " 0.3383212246154681,\n",
       " 0.6224211679862736,\n",
       " 0.23441732365268864,\n",
       " masked,\n",
       " masked,\n",
       " 0.7401428821330398,\n",
       " 1.0,\n",
       " 0.16869405496703893,\n",
       " 0.6955070498109508,\n",
       " 0.7448448184600857,\n",
       " 0.9327327206003687,\n",
       " 0.7600127136918988,\n",
       " 0.8369788847035268,\n",
       " 0.8789101300758794,\n",
       " 0.7336022861669343,\n",
       " 0.3467824851604776,\n",
       " 0.6343616455430312,\n",
       " 0.9600043170611732,\n",
       " 0.772335137450436,\n",
       " 0.5941774487193177,\n",
       " 0.9935536172108825,\n",
       " masked,\n",
       " masked,\n",
       " 0.6030568993783458,\n",
       " 0.395292102093048,\n",
       " 0.75,\n",
       " 0.4999999999999999,\n",
       " masked,\n",
       " masked,\n",
       " 0.9303866601139137,\n",
       " 0.3692812141146524,\n",
       " 0.4654775161751513,\n",
       " 0.7229541807481796,\n",
       " 0.22503639721389979,\n",
       " masked,\n",
       " masked,\n",
       " masked]"
      ]
     },
     "execution_count": 24,
     "metadata": {},
     "output_type": "execute_result"
    }
   ],
   "source": [
    "test"
   ]
  },
  {
   "cell_type": "code",
   "execution_count": null,
   "id": "08aa9ed2",
   "metadata": {},
   "outputs": [],
   "source": []
  }
 ],
 "metadata": {
  "kernelspec": {
   "display_name": "Python 3 (ipykernel)",
   "language": "python",
   "name": "python3"
  },
  "language_info": {
   "codemirror_mode": {
    "name": "ipython",
    "version": 3
   },
   "file_extension": ".py",
   "mimetype": "text/x-python",
   "name": "python",
   "nbconvert_exporter": "python",
   "pygments_lexer": "ipython3",
   "version": "3.8.12"
  }
 },
 "nbformat": 4,
 "nbformat_minor": 5
}

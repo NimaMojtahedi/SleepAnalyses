{
 "cells": [
  {
   "cell_type": "code",
   "execution_count": 1,
   "id": "ed3f4169",
   "metadata": {},
   "outputs": [],
   "source": [
    "import pandas as pd\n",
    "import numpy as np\n",
    "import matplotlib.pyplot as plt\n",
    "import seaborn as sns\n",
    "import os\n",
    "from tqdm import tqdm\n",
    "import json\n",
    "import pdb\n",
    "\n",
    "from utils import create_dict, create_list, get_data, find_type2_locations, find_type3_locations, find_type4_locations\n",
    "from utils import applyArtifacts, removeCells, avg_firing, NumpyEncoder, avg_amplitude, nrActiveCells, div_avg_firing, div_avg_amplitude, top_least\n",
    "from utils import cellID, spindle_locs, search_spindle, spi_inOut_diff, zscore_calculator\n",
    "from Analyses_ import slo_spi\n",
    "%config Completer.use_jedi = False"
   ]
  },
  {
   "cell_type": "markdown",
   "id": "b6870c45",
   "metadata": {},
   "source": [
    "### Input informations"
   ]
  },
  {
   "cell_type": "code",
   "execution_count": 2,
   "id": "c316c612",
   "metadata": {
    "scrolled": true
   },
   "outputs": [],
   "source": [
    "all_address = ['L:/analysis_nima/250520_m18a/Batch_4', 'L:/analysis_nima/290520_m17a/Batch/extracells/Batch_2',\n",
    "                'L:/analysis_nima/110620_m18b/new/Batch_3', 'L:/analysis_nima/050820_m21a/Batch_4',\n",
    "                'L:/analysis_nima/030720_m20a/Batch_3', 'L:/analysis_nima/291020_m23a/Batch_2', \n",
    "               'L:/analysis_nima/210121_m24a/Batch_1']\n",
    "\n",
    "\n",
    "# sampling rate for different mice\n",
    "sfs = [30.995, 30.995, 30.955, 30.995, 30.995, 30.9576, 30.995]\n",
    "\n",
    "# defining artifacts\n",
    "custom_artifacts_1 = [[11007,11008,4]]\n",
    "custom_artifacts_2 = [[11630,11947,0],[12000,12700,0],[4533,5154,14]]\n",
    "custom_artifacts_3 = []\n",
    "custom_artifacts_4 = [[1595,1845,0],[4609,4907,0],[7740,7983,0],[13795,14101,0],[16706,16973,0],\n",
    "             [7266,7501,1],[11912,12219,1],[12703,13203,1],[13730,13909,1],[15097,15559,1],[17277,17519,1],\n",
    "             [1416,1793,2],[3816,4123,2],[13254,13593,2],[15224,15703,2],[17668,18067,2],\n",
    "             [7358,7521,3],[10240,10253,3],[13672,13748,3],[17306,17593,3],\n",
    "             [5505,5939,4],[6222,6231,4],[16760,16820,4],[18450,18573,4],                           \n",
    "             [1132,1357,7],[8653,8776,7],[9946,10391,7],\n",
    "             [9068,9323,7],[13589,13623,7],[17394,17547,7],\n",
    "             [1,140,8],[908,965,8],[7638,7665,8],[8014,8027,8],[14726,14922,8],[18022,18187,8],\n",
    "             [1912,2381,9],[2920,2923,9],[7767,7819,9],[7864,7997,9],[9876,10197,9],[15206,15545,9],\n",
    "             [6734,7220,10],[9668,9939,10],\n",
    "             [8914,9290,11],[9562,9571,11],[12216,12339,11],\n",
    "             [11492,11553,12],[13898,13919,12],\n",
    "             [6298,6619,13],[12282,12795,13],[14406,14507,13],[14798,14875,13],\n",
    "             [1,220,14],[1878,2108,14],[9872,9961,14],\n",
    "             [4764,4813,15],[5564,5571,15],[15419,15595,15],[16003,16089,15],[16420,16482,15],\n",
    "             [4240,4403,16],[9975,10077,16],[10274,10275,16],[13228,13451,16],[13805,13939,16],[14620,14664,16],[15764,15857,16],[18430,18537,16],\n",
    "             [10425,10591,17],[11058,11709,17],[12232,12311,17],[12784,12804,17],[17000,17115,17],\n",
    "             [10655,10825,18],[11993,12075,18],[12648,12685,18],[16013,16134,18],\n",
    "             [14466,15015,19],[16876,17009,19],[18398,18573,19],\n",
    "            [628,958,23],[7822,7976,23],[10298,10435,23],[13899,14241,23],[14466,14537,23],[15773,15848,23],[17664,17925,23],[18291,18426,23],\n",
    "            [4309,4512,24],[5271,5467,24],[6450,6700,24],[7186,7593,24],\n",
    "            [460,700,25],[1714,1725,25],[4045,4153,25],[13600,13699,25],\n",
    "            [4434,4568,26],[5984,6167,26],\n",
    "            [1770,1831,27],[4060,4064,27],\n",
    "            [2000,2193,28],[11098,11334,28],\n",
    "            [5921,5997,30],[8200,8210,30],[9189,9191,30],\n",
    "            [686,852,31],[13375,13543,31],[14059,14334,31],[15808,15883,31],\n",
    "            [10760,10800,33],[13942,14061,33],[17672,17738,33],\n",
    "            [10576,10604,41]]\n",
    "custom_artifacts_5 = [[3928,3971,0],[4584,4656,0],[7001,7119,0],[14144,14230,0],[14466,14501,0],[15591,15593,0],\n",
    "            [559,603,1],[2187,2214,1],[3999,4054,1],[11749,11790,1],[17785,17839,1],\n",
    "            [3403,3491,2],[11936,11980,2],\n",
    "            [1397,1465,3],[13881,13889,3],[14510,14526,3],[18377,18441,3],                                                                                           \n",
    "            [2585,2635,4], [6722,6771,4],[10867,10897,4],[16543,16615,4],\n",
    "            [740,825,5],[2026,2113,5],[13025,13051,5],\n",
    "            [798,863,6],[1795,1857,6],[3949,3980,6],[5190,5244,6],[10480,10547,6],[11219,11301,6],[12144,12191,6],[12690,12747,6],\n",
    "            [1343,1441,7],[2618,2684,7],[2709,2713,7],[3427,3496,7],[4138,4185,7],[4532,4567,7],[5694,8768,7],[9513,9562,7],[12510,12644,7],[15000,15073,7],\n",
    "            [96,140,8],[4175,4258,8],\n",
    "            [409,564,9],[13291,13497,9],[16520,18573,9],\n",
    "            [9968,10026,10],[14269,14335,10],[16569,16616,10],\n",
    "            [404,557,11],[12553,12649,11],\n",
    "            [503,598,13],[2832,2889,13],[13151,13218,13],[18276,18343,13],\n",
    "            [769,954,14],[980,1001,14],[2324,2389,14],[4286,4297,14],\n",
    "            [3349,3447,15],[6128,6221,15],\n",
    "            [8475,8543,16],\n",
    "            [9792,9840,17],\n",
    "            [2984,3007,20],[4131,4183,20],[5025,5042,20],[6330,6355,20],[11818,11893,20],\n",
    "            [6760,6875,21],\n",
    "            [12871,12895,28],[13645,13667,28],[14232,14319,28],[14837,14849,28],[15521,15542,28],[16421,16445,28],[17032,17040,28]]\n",
    "custom_artifacts_6 = [[8863,9191,4],\n",
    "           [5389,5393,7],[5575,5607,7],[5754,5755,7],[5798,6000,7],\n",
    "            [11050,11070,10],[12260,12280,10],\n",
    "            [15125,15290,12],[16420,18160,10],\n",
    "            [13280,13340,13],\n",
    "            [8,23,15],[92,94,15],[481,505,15],\n",
    "            [10035,10500,20],[11024,11044,20],\n",
    "            [5794,5800,21],\n",
    "            [3501,3507,22]]\n",
    "custom_artifacts_7 = [[0,3418,0],[13116,13507,0],[14502,14872,0],\n",
    "              [8000,9000,2],\n",
    "              [1828,2638,3],[8631,12630,3],\n",
    "              [1497,1988,4],[16470,17270,4],\n",
    "              [5113,8239,5],                                                                                         \n",
    "              [2322,2978,6],\n",
    "              [12460,14890,7],\n",
    "              [15600,16060,10],\n",
    "              [4231,4848,11],[6434,6909,11],[9110,11550,11],\n",
    "              [11890,12380,12],\n",
    "              [8410,8820,13],\n",
    "              [3026,3515,14],[13810,14170,14],\n",
    "              [10910,12010,15]]  \n",
    "artifacts = [custom_artifacts_1, custom_artifacts_2, custom_artifacts_3,\n",
    "                custom_artifacts_4, custom_artifacts_5, custom_artifacts_6, custom_artifacts_7]\n",
    "\n",
    "# cell removal \n",
    "remove_cell_1 = []\n",
    "remove_cell_2 = []\n",
    "remove_cell_3 = [62,63,64,65,66,67,68,69,70,80,81,160,161,162,163,164,167,194,195,202,203,204]\n",
    "remove_cell_4 = [13,53,55,57,79,84,85,86,95,99,112,141,144,147,153,177,178,183,184,188,189,191,196,197,198,199,202,219,226,234,235]\n",
    "remove_cell_5 = []\n",
    "remove_cell_6 = [66,84,85,86]\n",
    "remove_cell_7 = []\n",
    "remove_cells = [remove_cell_1, remove_cell_2, remove_cell_3,\n",
    "              remove_cell_4, remove_cell_5, remove_cell_6, remove_cell_7]\n",
    "# mouse name\n",
    "miceName = ['250520_m18a', '290520_m17a', '110620_m18b', '050820_m21a', '030720_m20a', '291020_m23a', '210121_m24a']\n",
    "\n",
    "\n",
    "# saving figure \n",
    "save_fig = True # or False\n",
    "fig_save_add = ''\n",
    "\n",
    "\n",
    "# saving dataframes\n",
    "save_file = True # or False\n",
    "file_save_add = ''"
   ]
  },
  {
   "cell_type": "markdown",
   "id": "bcf66890",
   "metadata": {},
   "source": [
    "### Creating base data structure and loading data and hypno to it\n",
    "####    If ncessary first apply artifact on data or remove cells then create data structure"
   ]
  },
  {
   "cell_type": "code",
   "execution_count": 3,
   "id": "1315c5f9",
   "metadata": {
    "scrolled": true
   },
   "outputs": [
    {
     "name": "stdout",
     "output_type": "stream",
     "text": [
      "Your entered path is L:/analysis_nima/250520_m18a/Batch_4\n",
      "All files in the given path \n",
      "\n",
      "['unit01.mat', 'unit02.mat', 'unit03.mat', 'unit04.mat', 'unit05.mat', 'unit06.mat', 'unit07.mat', 'unit08.mat', 'unit09.mat', 'unit10.mat', 'unit11.mat', 'unit12.mat', 'unit13.mat', 'unit14.mat', 'unit15.mat', 'unit16.mat', 'unit17.mat', 'unit18.mat', 'unit19.mat', 'unit20.mat', 'unit21.mat', 'unit22.mat', 'unit23.mat', 'unit24.mat', 'unit25.mat', 'unit26.mat', 'unit27.mat', 'unit28.mat', 'unit29.mat', 'unit30.mat', 'unit31.mat', 'unit32.mat', 'unit33.mat', 'unit34.mat', 'unit35.mat', 'unit36.mat', 'unit37.mat', 'unit38.mat', 'unit39.mat', 'unit40.mat', 'unit41.mat', 'unit42.mat', 'unit43.mat', 'unit44.mat', 'unit45.mat']  Number of all files 45\n",
      "Data are loaded \n",
      "\n",
      "Start reading units \n",
      "\n",
      "unit length is 600 sec, data length is 18597 samples, number of cells are 236 \n",
      "\n",
      "Finished reading units \n",
      "\n",
      "Start reading hypno files \n",
      "\n",
      "Finished reading hypno \n",
      "\n",
      "Location-Time information\n",
      "data and hypno shapes in file L:/analysis_nima/250520_m18a/Batch_4 are: (18597, 236, 45), (18597, 45)\n",
      "Your entered path is L:/analysis_nima/290520_m17a/Batch/extracells/Batch_2\n",
      "All files in the given path \n",
      "\n",
      "['unit01.mat', 'unit02.mat', 'unit03.mat', 'unit04.mat', 'unit05.mat', 'unit06.mat', 'unit07.mat', 'unit08.mat', 'unit09.mat', 'unit10.mat', 'unit11.mat', 'unit12.mat', 'unit13.mat', 'unit14.mat', 'unit15.mat', 'unit16.mat', 'unit17.mat', 'unit18.mat', 'unit19.mat', 'unit20.mat', 'unit21.mat', 'unit22.mat', 'unit23.mat', 'unit24.mat', 'unit25.mat', 'unit26.mat', 'unit27.mat', 'unit28.mat', 'unit29.mat', 'unit30.mat', 'unit31.mat']  Number of all files 31\n",
      "Data are loaded \n",
      "\n",
      "Start reading units \n",
      "\n",
      "unit length is 600 sec, data length is 18597 samples, number of cells are 294 \n",
      "\n",
      "Finished reading units \n",
      "\n",
      "Start reading hypno files \n",
      "\n",
      "Finished reading hypno \n",
      "\n",
      "Location-Time information\n",
      "data and hypno shapes in file L:/analysis_nima/290520_m17a/Batch/extracells/Batch_2 are: (18597, 294, 31), (18597, 31)\n",
      "Your entered path is L:/analysis_nima/110620_m18b/new/Batch_3\n",
      "All files in the given path \n",
      "\n",
      "['unit01.mat', 'unit02.mat', 'unit03.mat', 'unit04.mat', 'unit05.mat', 'unit06.mat', 'unit07.mat', 'unit08.mat', 'unit09.mat', 'unit10.mat', 'unit11.mat', 'unit12.mat', 'unit13.mat', 'unit14.mat', 'unit15.mat', 'unit16.mat', 'unit17.mat', 'unit18.mat', 'unit19.mat', 'unit20.mat', 'unit21.mat', 'unit22.mat', 'unit23.mat', 'unit24.mat', 'unit25.mat', 'unit26.mat']  Number of all files 26\n",
      "Data are loaded \n",
      "\n",
      "Start reading units \n",
      "\n",
      "unit length is 600 sec, data length is 18573 samples, number of cells are 218 \n",
      "\n",
      "Finished reading units \n",
      "\n",
      "Start reading hypno files \n",
      "\n",
      "Finished reading hypno \n",
      "\n",
      "Location-Time information\n",
      "data and hypno shapes in file L:/analysis_nima/110620_m18b/new/Batch_3 are: (18573, 218, 26), (18573, 26)\n",
      "Your entered path is L:/analysis_nima/050820_m21a/Batch_4\n",
      "All files in the given path \n",
      "\n",
      "['unit01.mat', 'unit02.mat', 'unit03.mat', 'unit04.mat', 'unit05.mat', 'unit06.mat', 'unit07.mat', 'unit08.mat', 'unit09.mat', 'unit10.mat', 'unit11.mat', 'unit12.mat', 'unit13.mat', 'unit14.mat', 'unit15.mat', 'unit16.mat', 'unit17.mat', 'unit18.mat', 'unit19.mat', 'unit20.mat', 'unit21.mat', 'unit22.mat', 'unit23.mat', 'unit24.mat', 'unit25.mat', 'unit26.mat', 'unit27.mat', 'unit28.mat', 'unit29.mat', 'unit30.mat', 'unit31.mat', 'unit32.mat', 'unit33.mat', 'unit34.mat', 'unit35.mat', 'unit36.mat', 'unit37.mat', 'unit38.mat', 'unit39.mat', 'unit40.mat', 'unit41.mat', 'unit42.mat', 'unit43.mat', 'unit44.mat', 'unit45.mat', 'unit46.mat']  Number of all files 46\n",
      "Data are loaded \n",
      "\n",
      "Start reading units \n",
      "\n",
      "unit length is 600 sec, data length is 18597 samples, number of cells are 236 \n",
      "\n",
      "Finished reading units \n",
      "\n",
      "Start reading hypno files \n",
      "\n",
      "Finished reading hypno \n",
      "\n",
      "Location-Time information\n",
      "data and hypno shapes in file L:/analysis_nima/050820_m21a/Batch_4 are: (18597, 236, 46), (18597, 46)\n",
      "Your entered path is L:/analysis_nima/030720_m20a/Batch_3\n",
      "All files in the given path \n",
      "\n",
      "['unit01.mat', 'unit02.mat', 'unit03.mat', 'unit04.mat', 'unit05.mat', 'unit06.mat', 'unit07.mat', 'unit08.mat', 'unit09.mat', 'unit10.mat', 'unit11.mat', 'unit12.mat', 'unit13.mat', 'unit14.mat', 'unit15.mat', 'unit16.mat', 'unit17.mat', 'unit18.mat', 'unit19.mat', 'unit20.mat', 'unit21.mat', 'unit22.mat', 'unit23.mat', 'unit24.mat', 'unit25.mat', 'unit26.mat', 'unit27.mat', 'unit28.mat', 'unit29.mat']  Number of all files 29\n",
      "Data are loaded \n",
      "\n",
      "Start reading units \n",
      "\n",
      "unit length is 600 sec, data length is 18597 samples, number of cells are 185 \n",
      "\n",
      "Finished reading units \n",
      "\n",
      "Start reading hypno files \n",
      "\n",
      "Finished reading hypno \n",
      "\n",
      "Location-Time information\n",
      "data and hypno shapes in file L:/analysis_nima/030720_m20a/Batch_3 are: (18597, 185, 29), (18597, 29)\n",
      "Your entered path is L:/analysis_nima/291020_m23a/Batch_2\n",
      "All files in the given path \n",
      "\n",
      "['unit01.mat', 'unit02.mat', 'unit03.mat', 'unit04.mat', 'unit05.mat', 'unit06.mat', 'unit07.mat', 'unit08.mat', 'unit09.mat', 'unit10.mat', 'unit11.mat', 'unit12.mat', 'unit13.mat', 'unit14.mat', 'unit15.mat', 'unit16.mat', 'unit17.mat', 'unit18.mat', 'unit19.mat', 'unit20.mat', 'unit21.mat', 'unit22.mat', 'unit23.mat']  Number of all files 23\n",
      "Data are loaded \n",
      "\n",
      "Start reading units \n",
      "\n",
      "unit length is 600 sec, data length is 18574 samples, number of cells are 87 \n",
      "\n",
      "Finished reading units \n",
      "\n",
      "Start reading hypno files \n",
      "\n",
      "Finished reading hypno \n",
      "\n",
      "Location-Time information\n",
      "data and hypno shapes in file L:/analysis_nima/291020_m23a/Batch_2 are: (18574, 87, 23), (18574, 23)\n",
      "Your entered path is L:/analysis_nima/210121_m24a/Batch_1\n",
      "All files in the given path \n",
      "\n",
      "['unit01.mat', 'unit02.mat', 'unit03.mat', 'unit04.mat', 'unit05.mat', 'unit06.mat', 'unit07.mat', 'unit08.mat', 'unit09.mat', 'unit10.mat', 'unit11.mat', 'unit12.mat', 'unit13.mat', 'unit14.mat', 'unit15.mat', 'unit16.mat', 'unit17.mat', 'unit18.mat', 'unit19.mat', 'unit20.mat', 'unit21.mat', 'unit22.mat', 'unit23.mat', 'unit24.mat', 'unit25.mat', 'unit26.mat', 'unit27.mat']  Number of all files 27\n",
      "Data are loaded \n",
      "\n",
      "Start reading units \n",
      "\n",
      "unit length is 600 sec, data length is 18597 samples, number of cells are 143 \n",
      "\n",
      "Finished reading units \n",
      "\n",
      "Start reading hypno files \n",
      "\n",
      "Finished reading hypno \n",
      "\n",
      "Location-Time information\n",
      "data and hypno shapes in file L:/analysis_nima/210121_m24a/Batch_1 are: (18597, 143, 27), (18597, 27)\n"
     ]
    }
   ],
   "source": [
    "apply_artifact = True\n",
    "rmCell = True\n",
    "\n",
    "data_list = []\n",
    "for address, sf, mouse_name, artifact, remove_cell in zip(all_address, sfs, miceName, artifacts, remove_cells):\n",
    "    \n",
    "    #clear and read data\n",
    "    data = []; hypno = []\n",
    "    data, hypno = get_data(address = address, sf = sf)\n",
    "    \n",
    "    if apply_artifact:\n",
    "        data = applyArtifacts(data=data, artifacts=artifact)\n",
    "    \n",
    "    if rmCell:\n",
    "        data = removeCells(data=data, cells = remove_cell)\n",
    "    \n",
    "    # creat per mouse list\n",
    "    data_list.extend(create_list(data = data, hypno = hypno, mouseName = mouse_name, \n",
    "                                 sf = sf, apply_artifact=apply_artifact, removeCell=rmCell))"
   ]
  },
  {
   "cell_type": "markdown",
   "id": "3d4363cc",
   "metadata": {},
   "source": [
    "### Adding analyses as dictionary key, value pairs"
   ]
  },
  {
   "cell_type": "code",
   "execution_count": 4,
   "id": "38eccefd",
   "metadata": {},
   "outputs": [],
   "source": [
    "# add average firing rate to the dictionary\n",
    "[data_dict.update({'avg_firing_perSecond':avg_firing(data = data_dict['data'], \n",
    "                                                            sf=data_dict['samplingRate'])}) for data_dict in data_list];"
   ]
  },
  {
   "cell_type": "code",
   "execution_count": 5,
   "id": "ce79f7c9",
   "metadata": {
    "scrolled": true
   },
   "outputs": [
    {
     "name": "stderr",
     "output_type": "stream",
     "text": [
      "C:\\Users\\admin\\Sleep_Pipeline_Notebooks\\Analysis_all_mice\\SleepAnalyses\\utils.py:229: RuntimeWarning: Mean of empty slice\n",
      "  return np.nanmean(np.where(data>0 , data, np.nan), axis = 0)\n"
     ]
    }
   ],
   "source": [
    "# add average amplitude to the dictionary\n",
    "[data_dict.update({'avg_amplitude':avg_amplitude(data = data_dict['data'])}) for data_dict in data_list];"
   ]
  },
  {
   "cell_type": "code",
   "execution_count": 6,
   "id": "97d21204",
   "metadata": {},
   "outputs": [
    {
     "name": "stderr",
     "output_type": "stream",
     "text": [
      "  0%|                                                    | 0/7 [00:00<?, ?it/s]C:\\Users\\admin\\Sleep_Pipeline_Notebooks\\Analysis_all_mice\\SleepAnalyses\\utils.py:412: RuntimeWarning: Mean of empty slice\n",
      "  mouse_zscore_info.append({\"mouseName\":mouse, \"nanmean\": np.nanmean(np.stack(mouse_avg), axis = 0), \"nanstd\": np.nanstd(np.stack(mouse_avg), axis = 0)})\n",
      "C:\\Users\\admin\\Anaconda3\\envs\\sleep_project\\lib\\site-packages\\numpy\\lib\\nanfunctions.py:1879: RuntimeWarning: Degrees of freedom <= 0 for slice.\n",
      "  var = nanvar(a, axis=axis, dtype=dtype, out=out, ddof=ddof,\n",
      "100%|███████████████████████████████████████████| 7/7 [00:00<00:00, 333.32it/s]\n",
      "  0%|                                                 | 0/2018 [00:00<?, ?it/s]C:\\Users\\admin\\Sleep_Pipeline_Notebooks\\Analysis_all_mice\\SleepAnalyses\\utils.py:419: RuntimeWarning: invalid value encountered in true_divide\n",
      "  dict.update({\"avg_firing_perSecond_zscore\": (dict[\"avg_firing_perSecond\"] - info[\"nanmean\"]) / info[\"nanstd\"]})\n",
      "100%|██████████████████████████████████| 2018/2018 [00:00<00:00, 144136.12it/s]\n",
      "  0%|                                                    | 0/7 [00:00<?, ?it/s]C:\\Users\\admin\\Sleep_Pipeline_Notebooks\\Analysis_all_mice\\SleepAnalyses\\utils.py:450: RuntimeWarning: Mean of empty slice\n",
      "  mouse_zscore_info.append({\"mouseName\":mouse, \"nanmean\": np.nanmean(np.stack(mouse_avg), axis = 0), \"nanstd\": np.nanstd(np.stack(mouse_avg), axis = 0)})\n",
      "100%|███████████████████████████████████████████| 7/7 [00:00<00:00, 304.33it/s]\n",
      "  0%|                                                 | 0/2018 [00:00<?, ?it/s]C:\\Users\\admin\\Sleep_Pipeline_Notebooks\\Analysis_all_mice\\SleepAnalyses\\utils.py:457: RuntimeWarning: invalid value encountered in true_divide\n",
      "  dict.update({\"avg_amplitude_zscore\": (dict[\"avg_amplitude\"] - info[\"nanmean\"]) / info[\"nanstd\"]})\n",
      "100%|██████████████████████████████████| 2018/2018 [00:00<00:00, 155222.09it/s]\n"
     ]
    }
   ],
   "source": [
    "# zscore normalization of avg firing rate. Normalization is applied per cell for each individual mouse separately\n",
    "data_list = zscore_calculator(dataBase = data_list, mouse_name_list=miceName, variable = \"frequency\")\n",
    "\n",
    "# zscore normalization of avg amplitude. Normalization is applied per cell for each individual mouse separately\n",
    "data_list = zscore_calculator(dataBase = data_list, mouse_name_list=miceName, variable = \"amplitude\")\n"
   ]
  },
  {
   "cell_type": "code",
   "execution_count": 7,
   "id": "91f87537",
   "metadata": {},
   "outputs": [],
   "source": [
    "# add top and least firing rate \n",
    "fraction = 20\n",
    "\n",
    "#top\n",
    "[data_dict.update({'top' + str(fraction) + '_avg_firing':top_least(data=data_dict['avg_firing_perSecond'], \n",
    "                                                                   prc = fraction, top = True)}) for data_dict in data_list];\n",
    "\n",
    "#least\n",
    "[data_dict.update({'least' + str(fraction) + '_avg_firing':top_least(data=data_dict['avg_firing_perSecond'], \n",
    "                                                                   prc = fraction, top = False)}) for data_dict in data_list];\n",
    "\n",
    "\n",
    "#top-zscore\n",
    "[data_dict.update({'top' + str(fraction) + '_avg_firing_zscore':top_least(data=data_dict['avg_firing_perSecond_zscore'], \n",
    "                                                                   prc = fraction, top = True)}) for data_dict in data_list];\n",
    "\n",
    "#least-zscore\n",
    "[data_dict.update({'least' + str(fraction) + '_avg_firing_zscore':top_least(data=data_dict['avg_firing_perSecond_zscore'], \n",
    "                                                                   prc = fraction, top = False)}) for data_dict in data_list];"
   ]
  },
  {
   "cell_type": "code",
   "execution_count": 8,
   "id": "e25d1574",
   "metadata": {},
   "outputs": [],
   "source": [
    "# add top and least amplitude \n",
    "fraction = 20\n",
    "\n",
    "#top\n",
    "[data_dict.update({'top' + str(fraction) + '_amplitude':top_least(data=data_dict['avg_amplitude'], \n",
    "                                                                   prc = fraction, top = True)}) for data_dict in data_list];\n",
    "\n",
    "#least\n",
    "[data_dict.update({'least' + str(fraction) + '_amplitude':top_least(data=data_dict['avg_amplitude'], \n",
    "                                                                   prc = fraction, top = False)}) for data_dict in data_list];\n",
    "\n",
    "\n",
    "#top-zscore\n",
    "[data_dict.update({'top' + str(fraction) + '_amplitude_zscore':top_least(data=data_dict['avg_amplitude_zscore'], \n",
    "                                                                   prc = fraction, top = True)}) for data_dict in data_list];\n",
    "\n",
    "#least-zscore\n",
    "[data_dict.update({'least' + str(fraction) + '_amplitude_zscore':top_least(data=data_dict['avg_amplitude_zscore'], \n",
    "                                                                   prc = fraction, top = False)}) for data_dict in data_list];"
   ]
  },
  {
   "cell_type": "code",
   "execution_count": 9,
   "id": "78ab2fa6",
   "metadata": {},
   "outputs": [
    {
     "name": "stderr",
     "output_type": "stream",
     "text": [
      "  0%|                                                    | 0/7 [00:00<?, ?it/s]C:\\Users\\admin\\Sleep_Pipeline_Notebooks\\Analysis_all_mice\\SleepAnalyses\\utils.py:431: RuntimeWarning: Mean of empty slice\n",
      "  mouse_zscore_info.append({\"mouseName\":mouse, \"nanmean\": np.nanmean(np.vstack(mouse_avg), axis = 0), \"nanstd\": np.nanstd(np.vstack(mouse_avg), axis = 0)})\n",
      "100%|███████████████████████████████████████████| 7/7 [00:00<00:00, 106.05it/s]\n",
      "  0%|                                                 | 0/2018 [00:00<?, ?it/s]C:\\Users\\admin\\Sleep_Pipeline_Notebooks\\Analysis_all_mice\\SleepAnalyses\\utils.py:438: RuntimeWarning: invalid value encountered in true_divide\n",
      "  dict.update({\"div_avg_firing_perSecond_zscore\": [(el - info[\"nanmean\"]) / info[\"nanstd\"] for el in dict[\"div_avg_firing_perSecond\"]]})\n",
      "100%|███████████████████████████████████| 2018/2018 [00:00<00:00, 72066.83it/s]\n"
     ]
    }
   ],
   "source": [
    "# add divided average firing rate to the dictionary\n",
    "[data_dict.update({'div_avg_firing_perSecond':div_avg_firing(data = data_dict['data'], \n",
    "                                                             sf=data_dict['samplingRate'], \n",
    "                                                             n = 3)}) for data_dict in data_list];\n",
    "\n",
    "# zscore normalization of avg firing rate. Normalization is applied per cell for each individual mouse separately\n",
    "data_list = zscore_calculator(dataBase = data_list, mouse_name_list=miceName, variable = \"frequency\", divided_data=True)"
   ]
  },
  {
   "cell_type": "code",
   "execution_count": 10,
   "id": "646227a3",
   "metadata": {},
   "outputs": [
    {
     "name": "stderr",
     "output_type": "stream",
     "text": [
      "  0%|                                                    | 0/7 [00:00<?, ?it/s]C:\\Users\\admin\\Sleep_Pipeline_Notebooks\\Analysis_all_mice\\SleepAnalyses\\utils.py:468: RuntimeWarning: Mean of empty slice\n",
      "  mouse_zscore_info.append({\"mouseName\":mouse, \"nanmean\": np.nanmean(np.vstack(mouse_avg), axis = 0), \"nanstd\": np.nanstd(np.vstack(mouse_avg), axis = 0)})\n",
      "100%|███████████████████████████████████████████| 7/7 [00:00<00:00, 104.47it/s]\n",
      "  0%|                                                 | 0/2018 [00:00<?, ?it/s]C:\\Users\\admin\\Sleep_Pipeline_Notebooks\\Analysis_all_mice\\SleepAnalyses\\utils.py:475: RuntimeWarning: invalid value encountered in true_divide\n",
      "  dict.update({\"div_avg_amplitude_zscore\": [(el - info[\"nanmean\"]) / info[\"nanstd\"] for el in dict[\"div_avg_amplitude\"]]})\n",
      "100%|███████████████████████████████████| 2018/2018 [00:00<00:00, 77611.05it/s]\n"
     ]
    }
   ],
   "source": [
    "# add divided average firing rate to the dictionary (n subdata)\n",
    "[data_dict.update({'div_avg_amplitude':div_avg_amplitude(data = data_dict['data'], n=3)}) for data_dict in data_list];\n",
    "\n",
    "# zscore normalization of avg amplitude. Normalization is applied per cell for each individual mouse separately\n",
    "data_list = zscore_calculator(dataBase = data_list, mouse_name_list=miceName, variable = \"amplitude\", divided_data= True)"
   ]
  },
  {
   "cell_type": "code",
   "execution_count": 11,
   "id": "a2c8ae03",
   "metadata": {
    "scrolled": false
   },
   "outputs": [],
   "source": [
    "# add epoch duration in sample\n",
    "[data_dict.update({'epochDuration': data_dict['data'].shape[0]}) for data_dict in data_list];"
   ]
  },
  {
   "cell_type": "code",
   "execution_count": 12,
   "id": "4adb987b",
   "metadata": {},
   "outputs": [],
   "source": [
    "# add nr of active cell per epoch\n",
    "[data_dict.update({'nrActiveCells': nrActiveCells(data = data_dict['avg_amplitude'])}) for data_dict in data_list];"
   ]
  },
  {
   "cell_type": "code",
   "execution_count": 13,
   "id": "27bf398f",
   "metadata": {},
   "outputs": [],
   "source": [
    "# add nr of total cells per epoch\n",
    "[data_dict.update({'nrTotalCells': data_dict['data'].shape[1]}) for data_dict in data_list];"
   ]
  },
  {
   "cell_type": "code",
   "execution_count": 14,
   "id": "7d608d9a",
   "metadata": {},
   "outputs": [],
   "source": [
    "# adding location of type2 pattern to the dictionaries\n",
    "\n",
    "\n",
    "# type2: 1 epoch is first element of the pattern\n",
    "#        2 epoch is second element of the pattern\n",
    "#        0 epoch is not involved in the pattern\n",
    "\n",
    "\n",
    "# finding locations (each location is the location of first element of the pattern)\n",
    "type2_locations = find_type2_locations(dictLists=data_list, pattern=[-2, -3], \n",
    "                                       cond1_min= 900, cond1_max=10000, \n",
    "                                       cond2_min=900, cond2_max=10000)\n",
    "\n",
    "\n",
    "\n",
    "[data_dict.update({'type2': 0}) for data_dict in data_list]\n",
    "\n",
    "for i, data_dict in enumerate(data_list):\n",
    "    if i in type2_locations:\n",
    "        data_dict.update({'type2':1})\n",
    "        data_list[i+1].update({'type2':2})"
   ]
  },
  {
   "cell_type": "code",
   "execution_count": 15,
   "id": "6ce78ca1",
   "metadata": {
    "scrolled": true
   },
   "outputs": [],
   "source": [
    "# adding location of type3 pattern to the dictionaries\n",
    "\n",
    "\n",
    "# type2: 1 epoch is first element of the pattern\n",
    "#        2 epoch is second element of the pattern\n",
    "#        3 epoch is third element of the pattern\n",
    "#        0 epoch is not involved in the pattern\n",
    "\n",
    "\n",
    "# finding locations (each location is the location of first element of the pattern)\n",
    "type3_locations = find_type3_locations(dictLists=data_list, pattern=[-2, 0, -2], \n",
    "                                       cond1_min= 900, cond1_max=10000, \n",
    "                                       cond2_min=900, cond2_max=10000, \n",
    "                                       cond3_min=900, cond3_max=10000)\n",
    "\n",
    "\n",
    "\n",
    "[data_dict.update({'type3': 0}) for data_dict in data_list]\n",
    "\n",
    "for i in range(type3_locations.shape[0]):\n",
    "    \n",
    "    # put all pattern locations in the first element of the pattern\n",
    "    data_list[type3_locations[i,0]].update({'type3':type3_locations[i,:]})\n",
    "    "
   ]
  },
  {
   "cell_type": "code",
   "execution_count": 16,
   "id": "4e9ed758",
   "metadata": {},
   "outputs": [
    {
     "name": "stdout",
     "output_type": "stream",
     "text": [
      "Start main analyses\n",
      "Run 1\n",
      "Run 2\n"
     ]
    }
   ],
   "source": [
    "# top x % based RTM issue for type2/type3 patterns\n",
    "\n",
    "# type2_avgFiring_RTM: normalized firing rate of 2 type2 epochs (concatinating 2 epochs)\n",
    "# type3_avgFiring_RTM: normalized firing rate per cell taking all 3 type3 epochs together (concatinating 3 epochs)\n",
    "\n",
    "# type2_topx%_RTM: top x% of normalized firing rate cells based on type2 (taking average from above-it always comes to the first epoch)\n",
    "# type3_topx%_RTM: top x% of normalized firing rate cells based on type3 (taking average from above-it alwaves comes to the first epoch)\n",
    "\n",
    "# initializing values\n",
    "[data_dict.update({\"type2_avgFiring_RTM\": None}) for data_dict in data_list]\n",
    "[data_dict.update({\"type3_avgFiring_RTM\": None}) for data_dict in data_list]\n",
    "\n",
    "[data_dict.update({f\"type2_top{fraction}%_RTM\": None}) for data_dict in data_list]\n",
    "[data_dict.update({f\"type3_top{fraction}%_RTM\": None}) for data_dict in data_list]\n",
    "\n",
    "[data_dict.update({f\"type2_least{fraction}%_RTM\": None}) for data_dict in data_list]\n",
    "[data_dict.update({f\"type3_least{fraction}%_RTM\": None}) for data_dict in data_list]\n",
    "\n",
    "print(\"Start main analyses\\nRun 1\")\n",
    "\n",
    "for i, epoch in enumerate(data_list):\n",
    "    \n",
    "    # check first type2 epoch\n",
    "    if epoch[\"type2\"] == 1:\n",
    "        # calculate type2_avgFiring_RTM\n",
    "        epoch[\"type2_avgFiring_RTM\"] = avg_firing(data = np.vstack([epoch[\"data\"], data_list[i+1][\"data\"]]), \n",
    "                                                  sf = epoch[\"samplingRate\"])\n",
    "        \n",
    "    if not isinstance(epoch[\"type3\"], int):\n",
    "        # calculate type3_avgFiring_RTM\n",
    "        epoch[\"type3_avgFiring_RTM\"] = avg_firing(data = np.vstack([data_list[epoch[\"type3\"][0]][\"data\"], \n",
    "                                                                    data_list[epoch[\"type3\"][1]][\"data\"], \n",
    "                                                                    data_list[epoch[\"type3\"][2]][\"data\"]]), \n",
    "                                                  sf = epoch[\"samplingRate\"])\n",
    "\n",
    "print(\"Run 2\")\n",
    "for i, epoch in enumerate(data_list):\n",
    "    \n",
    "    # check first type2 epoch\n",
    "    if epoch[\"type2\"] == 1:\n",
    "        # calculate type2_topx%_RTM\n",
    "        epoch[f\"type2_top{fraction}%_RTM\"] = top_least(data = epoch[\"type2_avgFiring_RTM\"], prc = fraction, top = True)\n",
    "        epoch[f\"type2_least{fraction}%_RTM\"] = top_least(data = epoch[\"type2_avgFiring_RTM\"], prc = fraction, top = False)\n",
    "        \n",
    "    if not isinstance(epoch[\"type3\"], int):\n",
    "        # calculate type3_topx%_RTM\n",
    "        epoch[f\"type3_top{fraction}%_RTM\"] = top_least(data = epoch[\"type3_avgFiring_RTM\"], prc = fraction, top = True)\n",
    "        epoch[f\"type3_least{fraction}%_RTM\"] = top_least(data = epoch[\"type3_avgFiring_RTM\"], prc = fraction, top = False)\n"
   ]
  },
  {
   "cell_type": "markdown",
   "id": "21a1e442",
   "metadata": {},
   "source": [
    "# Plotting of analyses"
   ]
  },
  {
   "cell_type": "markdown",
   "id": "f4d3d129",
   "metadata": {},
   "source": [
    "### Type3"
   ]
  },
  {
   "cell_type": "markdown",
   "id": "cc75a636",
   "metadata": {},
   "source": [
    "### Frequency without levels"
   ]
  },
  {
   "cell_type": "code",
   "execution_count": 17,
   "id": "528cd646",
   "metadata": {},
   "outputs": [
    {
     "name": "stderr",
     "output_type": "stream",
     "text": [
      "C:\\Users\\admin\\AppData\\Local\\Temp/ipykernel_3684/2980514224.py:9: RuntimeWarning: Mean of empty slice\n",
      "  df_typ3_firing = df_typ3_firing.append(pd.DataFrame({'FiringRate':[np.nanmean(data_list[indDict['type3'][ii]]['avg_firing_perSecond'])],\n"
     ]
    }
   ],
   "source": [
    "# plotting average firing rate \n",
    "\n",
    "df_typ3_firing = pd.DataFrame()\n",
    "\n",
    "\n",
    "for i, indDict in enumerate(data_list):\n",
    "    if not isinstance(indDict['type3'], int):\n",
    "        for ii in range(3):\n",
    "            df_typ3_firing = df_typ3_firing.append(pd.DataFrame({'FiringRate':[np.nanmean(data_list[indDict['type3'][ii]]['avg_firing_perSecond'])], \n",
    "                                                                 'name':indDict['mouseName'], \n",
    "                                                                 'Pattern': ii + 1, \n",
    "                                                                 'epochID': i}), ignore_index = True)\n",
    "    \n"
   ]
  },
  {
   "cell_type": "code",
   "execution_count": 19,
   "id": "79dcc891",
   "metadata": {},
   "outputs": [
    {
     "data": {
      "text/plain": [
       "(0.0, 0.2)"
      ]
     },
     "execution_count": 19,
     "metadata": {},
     "output_type": "execute_result"
    },
    {
     "data": {
      "image/png": "[encoded data removed]",
      "text/plain": [
       "<Figure size 316.8x595.44 with 1 Axes>"
      ]
     },
     "metadata": {},
     "output_type": "display_data"
    }
   ],
   "source": [
    "df_temp = pd.DataFrame()\n",
    "df_temp = df_typ3_firing.melt(id_vars=['name', 'Pattern', 'epochID'], value_name='firing_rate')\n",
    "#x=df_temp.groupby([\"name\",\"Pattern\",\"subEpoch\"], as_index=False).agg({\"firing_rate\": np.mean})\n",
    "sns.set(rc={'figure.figsize':(4.4,8.27)})\n",
    "sns.set_style(\"ticks\")\n",
    "#g=sns.boxplot(x=\"Pattern\", y=\"firing_rate\",dodge=False,hue='Pattern',fliersize=3,linewidth=4,palette=['darkorange','limegreen','darkorange'],data=x )\n",
    "g=sns.boxplot(x=\"Pattern\", y=\"firing_rate\",dodge=False,hue='Pattern',fliersize=3,linewidth=4,palette=['darkorange','royalblue','darkorange'],data=df_temp )\n",
    "\n",
    "#g=sns.lineplot(x=\"Pattern\", y=\"firing_rate\",linewidth=6,color='black',data=x )\n",
    "g.set_xticklabels(['SWSn','REM','SWSn.1'])\n",
    "plt.ylim(0,0.2)\n",
    "#plt.ylim(-2,2)\n",
    "\n",
    "#plt.ylim(0.05,0.07)\n",
    "#if save_file:\n",
    "   # df_typ3_firing.to_csv(path_or_buf=file_save_add + 'L:/analysis_nima/statistics_epoch_based/Triplet_type3_fr_z_score/sws_rem_sws/all_cells/Type3_fr.csv')\n",
    "    #    df_typ3_firing.to_csv(path_or_buf=file_save_add + 'L:/analysis_nima/statistics_epoch_based/Triplet_type3_fr/prova.csv')\n",
    "\n",
    "#if save_fig:\n",
    "  #  plt.savefig(fig_save_add + 'L:/analysis_nima/epoch_based_analysis/Triplet_type3_fr_z_score/all_mice_sws_rem_sws/all_cells/Type3_fr_boxplot_all_cells_sws_rem_sws.pdf', dpi=600, format='pdf')"
   ]
  },
  {
   "cell_type": "markdown",
   "id": "bc062599",
   "metadata": {},
   "source": [
    "#### Frequency based on top x% of first element of pattern"
   ]
  },
  {
   "cell_type": "code",
   "execution_count": 20,
   "id": "c8f6643b",
   "metadata": {},
   "outputs": [
    {
     "name": "stderr",
     "output_type": "stream",
     "text": [
      "C:\\Users\\admin\\AppData\\Local\\Temp/ipykernel_3684/1959753766.py:8: RuntimeWarning: Mean of empty slice\n",
      "  df_typ3_firing = df_typ3_firing.append(pd.DataFrame({'First':[np.nanmean(data_list[data_dict['type3'][0]]['avg_firing_perSecond'][data_list[data_dict['type3'][0]]['top20_avg_firing'][0]])],\n",
      "C:\\Users\\admin\\AppData\\Local\\Temp/ipykernel_3684/1959753766.py:9: RuntimeWarning: Mean of empty slice\n",
      "  'Second':[np.nanmean(data_list[data_dict['type3'][1]]['avg_firing_perSecond'][data_list[data_dict['type3'][0]]['top20_avg_firing'][0]])],\n",
      "C:\\Users\\admin\\AppData\\Local\\Temp/ipykernel_3684/1959753766.py:10: RuntimeWarning: Mean of empty slice\n",
      "  'Third':[np.nanmean(data_list[data_dict['type3'][2]]['avg_firing_perSecond'][data_list[data_dict['type3'][0]]['top20_avg_firing'][0]])],\n"
     ]
    }
   ],
   "source": [
    "# plotting average firing rate \n",
    "\n",
    "df_typ3_firing = pd.DataFrame()\n",
    "\n",
    "    \n",
    "for i, data_dict in enumerate(data_list):\n",
    "    if not isinstance(data_dict['type3'], int):\n",
    "        df_typ3_firing = df_typ3_firing.append(pd.DataFrame({'First':[np.nanmean(data_list[data_dict['type3'][0]]['avg_firing_perSecond'][data_list[data_dict['type3'][0]]['top20_avg_firing'][0]])],\n",
    "                                                             'Second':[np.nanmean(data_list[data_dict['type3'][1]]['avg_firing_perSecond'][data_list[data_dict['type3'][0]]['top20_avg_firing'][0]])],\n",
    "                                                             'Third':[np.nanmean(data_list[data_dict['type3'][2]]['avg_firing_perSecond'][data_list[data_dict['type3'][0]]['top20_avg_firing'][0]])],\n",
    "                                                             'name':data_dict['mouseName'], \n",
    "                                                             'epochID': i}), ignore_index = True)\n",
    "    "
   ]
  },
  {
   "cell_type": "code",
   "execution_count": 21,
   "id": "c720fff0",
   "metadata": {
    "scrolled": false
   },
   "outputs": [
    {
     "data": {
      "text/plain": [
       "(0.0, 0.2)"
      ]
     },
     "execution_count": 21,
     "metadata": {},
     "output_type": "execute_result"
    },
    {
     "data": {
      "image/png": "[encoded data removed]",
      "text/plain": [
       "<Figure size 316.8x595.44 with 1 Axes>"
      ]
     },
     "metadata": {},
     "output_type": "display_data"
    }
   ],
   "source": [
    "df_temp = pd.DataFrame()\n",
    "df_temp = df_typ3_firing.melt(id_vars=['name', 'epochID'], var_name='Pattern', value_name='FiringRate')\n",
    "sns.set(rc={'figure.figsize':(4.4,8.27)})\n",
    "sns.set_style(\"ticks\")\n",
    "#g=sns.boxplot(x=\"Pattern\", y=\"FiringRate\",dodge=False,hue='Pattern',fliersize=3,linewidth=4,palette=['darkorange','limegreen','darkorange'],data=df_temp )\n",
    "g=sns.boxplot(x=\"Pattern\", y=\"FiringRate\",dodge=False,hue='Pattern',fliersize=3,linewidth=4,palette=['darkorange','royalblue','darkorange'],data=df_temp )\n",
    "\n",
    "#g=sns.lineplot(x=\"Pattern\", y=\"firing_rate\",linewidth=6,color='black',data=x )\n",
    "g.set_xticklabels(['SWSn','REM','SWSn.1'])\n",
    "#plt.ylim(-2,2)\n",
    "plt.ylim(0,0.2)\n",
    "#if save_file:\n",
    "    #df_typ3_firing.to_csv(path_or_buf=file_save_add + 'L:/analysis_nima/statistics_epoch_based/Triplet_type3_fr/900-10000frames_sws_awake_sws/all_cells/Type3_fr_top20_active_during_swsn.csv')\n",
    "   # df_typ3_firing.to_csv(path_or_buf=file_save_add + 'L:/analysis_nima/statistics_epoch_based/Triplet_type3_fr_z_score/sws_rem_sws/all_cells/Type3_fr_top20_active_during_swsn.csv')\n",
    "#if save_fig:\n",
    " #   #plt.savefig(fig_save_add + 'L:/analysis_nima/epoch_based_analysis/Triplet_type3_fr/all_mice_sws_awake_sws_900_10000/all_cells/Type3_fr_top20_active_during_swsn.pdf', dpi=600, format='pdf')\n",
    "  #  plt.savefig(fig_save_add + 'L:/analysis_nima/epoch_based_analysis/Triplet_type3_fr_z_score/all_mice_sws_rem_sws/all_cells/Type3_fr_top20_active_during_swsn.pdf', dpi=600, format='pdf')\n"
   ]
  },
  {
   "cell_type": "markdown",
   "id": "b2862589",
   "metadata": {},
   "source": [
    "#### Frequency based on least x% of first element of pattern"
   ]
  },
  {
   "cell_type": "code",
   "execution_count": 22,
   "id": "20d67198",
   "metadata": {},
   "outputs": [
    {
     "name": "stderr",
     "output_type": "stream",
     "text": [
      "C:\\Users\\admin\\AppData\\Local\\Temp/ipykernel_3684/1884399050.py:8: RuntimeWarning: Mean of empty slice\n",
      "  df_typ3_firing = df_typ3_firing.append(pd.DataFrame({'First':[np.nanmean(data_list[data_dict['type3'][0]]['avg_firing_perSecond'][data_list[data_dict['type3'][0]]['least20_avg_firing'][0]])],\n",
      "C:\\Users\\admin\\AppData\\Local\\Temp/ipykernel_3684/1884399050.py:9: RuntimeWarning: Mean of empty slice\n",
      "  'Second':[np.nanmean(data_list[data_dict['type3'][1]]['avg_firing_perSecond'][data_list[data_dict['type3'][0]]['least20_avg_firing'][0]])],\n",
      "C:\\Users\\admin\\AppData\\Local\\Temp/ipykernel_3684/1884399050.py:10: RuntimeWarning: Mean of empty slice\n",
      "  'Third':[np.nanmean(data_list[data_dict['type3'][2]]['avg_firing_perSecond'][data_list[data_dict['type3'][0]]['least20_avg_firing'][0]])],\n"
     ]
    }
   ],
   "source": [
    "# plotting average firing rate \n",
    "\n",
    "df_typ3_firing = pd.DataFrame()\n",
    "\n",
    "    \n",
    "for i, data_dict in enumerate(data_list):\n",
    "    if not isinstance(data_dict['type3'], int):\n",
    "        df_typ3_firing = df_typ3_firing.append(pd.DataFrame({'First':[np.nanmean(data_list[data_dict['type3'][0]]['avg_firing_perSecond'][data_list[data_dict['type3'][0]]['least20_avg_firing'][0]])],\n",
    "                                                             'Second':[np.nanmean(data_list[data_dict['type3'][1]]['avg_firing_perSecond'][data_list[data_dict['type3'][0]]['least20_avg_firing'][0]])],\n",
    "                                                             'Third':[np.nanmean(data_list[data_dict['type3'][2]]['avg_firing_perSecond'][data_list[data_dict['type3'][0]]['least20_avg_firing'][0]])],\n",
    "                                                             'name':data_dict['mouseName'], \n",
    "                                                             'epochID': i}), ignore_index = True)\n",
    "    "
   ]
  },
  {
   "cell_type": "code",
   "execution_count": 23,
   "id": "e30f448f",
   "metadata": {},
   "outputs": [
    {
     "data": {
      "text/plain": [
       "(0.0, 0.2)"
      ]
     },
     "execution_count": 23,
     "metadata": {},
     "output_type": "execute_result"
    },
    {
     "data": {
      "image/png": "[encoded data removed]",
      "text/plain": [
       "<Figure size 316.8x595.44 with 1 Axes>"
      ]
     },
     "metadata": {},
     "output_type": "display_data"
    }
   ],
   "source": [
    "df_temp = pd.DataFrame()\n",
    "df_temp = df_typ3_firing.melt(id_vars=['name', 'epochID'], var_name='Pattern', value_name='FiringRate')\n",
    "sns.set(rc={'figure.figsize':(4.4,8.27)})\n",
    "sns.set_style(\"ticks\")\n",
    "#g=sns.boxplot(x=\"Pattern\", y=\"FiringRate\",dodge=False,hue='Pattern',fliersize=3,linewidth=4,palette=['darkorange','limegreen','darkorange'],data=df_temp )\n",
    "g=sns.boxplot(x=\"Pattern\", y=\"FiringRate\",dodge=False,hue='Pattern',fliersize=3,linewidth=4,palette=['darkorange','royalblue','darkorange'],data=df_temp )\n",
    "\n",
    "#g=sns.lineplot(x=\"Pattern\", y=\"firing_rate\",linewidth=6,color='black',data=x )\n",
    "g.set_xticklabels(['SWSn','REM','SWSn.1'])\n",
    "#plt.ylim(-2,2)\n",
    "plt.ylim(0,0.2)\n",
    "#if save_file:\n",
    "    #df_typ3_firing.to_csv(path_or_buf=file_save_add + 'L:/analysis_nima/statistics_epoch_based/Triplet_type3_fr/900-10000frames_sws_awake_sws/all_cells/Type3_fr_least20_active_during_swsn.csv')\n",
    "  #  df_typ3_firing.to_csv(path_or_buf=file_save_add + 'L:/analysis_nima/statistics_epoch_based/Triplet_type3_fr_z_score/sws_rem_sws/all_cells/Type3_fr_least20_active_during_swsn.csv')\n",
    "#if save_fig:\n",
    "    #plt.savefig(fig_save_add + 'L:/analysis_nima/epoch_based_analysis/Triplet_type3_fr/all_mice_sws_awake_sws_900_10000/all_cells/Type3_fr_least20_active_during_swsn.pdf', dpi=600, format='pdf')\n",
    "   # plt.savefig(fig_save_add + 'L:/analysis_nima/epoch_based_analysis/Triplet_type3_fr_z_score/all_mice_sws_rem_sws/all_cells/Type3_fr_least20_active_during_swsn.pdf', dpi=600, format='pdf')"
   ]
  },
  {
   "cell_type": "markdown",
   "id": "703e2cfe",
   "metadata": {},
   "source": [
    "#### Frequency based on top "
   ]
  },
  {
   "cell_type": "code",
   "execution_count": 102,
   "id": "2ff25b41",
   "metadata": {},
   "outputs": [
    {
     "name": "stderr",
     "output_type": "stream",
     "text": [
      "C:\\Users\\admin\\AppData\\Local\\Temp/ipykernel_7468/2391778858.py:9: RuntimeWarning: Mean of empty slice\n",
      "  df_typ3_firing = df_typ3_firing.append(pd.DataFrame({'FiringRate':[np.nanmean(data_list[indDict['type3'][ii]]['avg_firing_perSecond_zscore'][data_list[indDict['type3'][ii]]['top20_avg_firing_zscore'][0]])],\n"
     ]
    }
   ],
   "source": [
    "# plotting average firing rate \n",
    "\n",
    "df_typ3_firing = pd.DataFrame()\n",
    "\n",
    "\n",
    "for i, indDict in enumerate (data_list):\n",
    "    if not isinstance(indDict['type3'], int):\n",
    "        for ii in range(3):\n",
    "            df_typ3_firing = df_typ3_firing.append(pd.DataFrame({'FiringRate':[np.nanmean(data_list[indDict['type3'][ii]]['avg_firing_perSecond_zscore'][data_list[indDict['type3'][ii]]['top20_avg_firing_zscore'][0]])], \n",
    "                                                                 'name':indDict['mouseName'], \n",
    "                                                                 'Pattern': ii + 1, \n",
    "                                                                 'epochID': i}), ignore_index = True)\n",
    "    \n"
   ]
  },
  {
   "cell_type": "code",
   "execution_count": 103,
   "id": "08b0957b",
   "metadata": {},
   "outputs": [
    {
     "data": {
      "image/png": "[encoded data removed]",
      "text/plain": [
       "<Figure size 316.8x595.44 with 1 Axes>"
      ]
     },
     "metadata": {},
     "output_type": "display_data"
    }
   ],
   "source": [
    "#df_temp = pd.DataFrame()\n",
    "#df_temp = df_typ3_firing.melt(id_vars=['name', 'epochID'], var_name='Pattern', value_name='FiringRate')\n",
    "sns.set(rc={'figure.figsize':(4.4,8.27)})\n",
    "sns.set_style(\"ticks\")\n",
    "#g=sns.boxplot(x=\"Pattern\", y=\"FiringRate\",dodge=False,hue='Pattern',fliersize=3,linewidth=4,palette=['darkorange','limegreen','darkorange'],data=df_typ3_firing )\n",
    "g=sns.boxplot(x=\"Pattern\", y=\"FiringRate\",dodge=False,hue='Pattern',fliersize=3,linewidth=4,palette=['darkorange','royalblue','darkorange'],data=df_typ3_firing )\n",
    "\n",
    "#g=sns.lineplot(x=\"Pattern\", y=\"firing_rate\",linewidth=6,color='black',data=x )\n",
    "g.set_xticklabels(['SWSn','REM','SWSn.1'])\n",
    "#plt.ylim(0,0.2)\n",
    "plt.ylim(-2,2)\n",
    "\n",
    "if save_file:\n",
    "    #df_typ3_firing.to_csv(path_or_buf=file_save_add + 'L:/analysis_nima/statistics_epoch_based/Triplet_type3_fr/900-10000frames_sws_awake_sws/all_cells/Type3_fr_top20_active_during_swsn.csv')\n",
    "    df_typ3_firing.to_csv(path_or_buf=file_save_add + 'L:/analysis_nima/statistics_epoch_based/Triplet_type3_fr_z_score/sws_rem_sws/all_cells/Type3_fr_top20_active_total.csv')\n",
    "\n",
    "if save_fig:\n",
    "    #plt.savefig(fig_save_add + 'L:/analysis_nima/epoch_based_analysis/Triplet_type3_fr/all_mice_sws_awake_sws_900_10000/all_cells/Type3_fr_top20_active_during_swsn.pdf', dpi=600, format='pdf')\n",
    "    plt.savefig(fig_save_add + 'L:/analysis_nima/epoch_based_analysis/Triplet_type3_fr_z_score/all_mice_sws_rem_sws/all_cells/Type3_fr_top20_active_total.pdf', dpi=600, format='pdf')"
   ]
  },
  {
   "cell_type": "markdown",
   "id": "2f48662b",
   "metadata": {},
   "source": [
    "### Frequency based on least"
   ]
  },
  {
   "cell_type": "code",
   "execution_count": 106,
   "id": "041e3e94",
   "metadata": {},
   "outputs": [
    {
     "name": "stderr",
     "output_type": "stream",
     "text": [
      "C:\\Users\\admin\\AppData\\Local\\Temp/ipykernel_7468/3185973230.py:9: RuntimeWarning: Mean of empty slice\n",
      "  df_typ3_firing = df_typ3_firing.append(pd.DataFrame({'FiringRate':[np.nanmean(data_list[indDict['type3'][ii]]['avg_firing_perSecond_zscore'][data_list[indDict['type3'][ii]]['least20_avg_firing_zscore'][0]])],\n"
     ]
    }
   ],
   "source": [
    "# plotting average firing rate \n",
    "\n",
    "df_typ3_firing = pd.DataFrame()\n",
    "\n",
    "\n",
    "for i, indDict in enumerate (data_list):\n",
    "    if not isinstance(indDict['type3'], int):\n",
    "        for ii in range(3):\n",
    "            df_typ3_firing = df_typ3_firing.append(pd.DataFrame({'FiringRate':[np.nanmean(data_list[indDict['type3'][ii]]['avg_firing_perSecond_zscore'][data_list[indDict['type3'][ii]]['least20_avg_firing_zscore'][0]])], \n",
    "                                                                 'name':indDict['mouseName'], \n",
    "                                                                 'Pattern': ii + 1, \n",
    "                                                                 'epochID': i}), ignore_index = True)\n",
    "    \n"
   ]
  },
  {
   "cell_type": "code",
   "execution_count": 107,
   "id": "c30f99b2",
   "metadata": {},
   "outputs": [
    {
     "data": {
      "image/png": "[encoded data removed]",
      "text/plain": [
       "<Figure size 316.8x595.44 with 1 Axes>"
      ]
     },
     "metadata": {},
     "output_type": "display_data"
    }
   ],
   "source": [
    "#df_temp = pd.DataFrame()\n",
    "#df_temp = df_typ3_firing.melt(id_vars=['name', 'epochID'], var_name='Pattern', value_name='FiringRate')\n",
    "sns.set(rc={'figure.figsize':(4.4,8.27)})\n",
    "sns.set_style(\"ticks\")\n",
    "#g=sns.boxplot(x=\"Pattern\", y=\"FiringRate\",dodge=False,hue='Pattern',fliersize=3,linewidth=4,palette=['darkorange','limegreen','darkorange'],data=df_typ3_firing )\n",
    "g=sns.boxplot(x=\"Pattern\", y=\"FiringRate\",dodge=False,hue='Pattern',fliersize=3,linewidth=4,palette=['darkorange','royalblue','darkorange'],data=x )\n",
    "\n",
    "#g=sns.lineplot(x=\"Pattern\", y=\"firing_rate\",linewidth=6,color='black',data=x )\n",
    "g.set_xticklabels(['SWSn','REM','SWSn.1'])\n",
    "#plt.ylim(0,0.2)\n",
    "plt.ylim(-2,2)\n",
    "\n",
    "if save_file:\n",
    "    #df_typ3_firing.to_csv(path_or_buf=file_save_add + 'L:/analysis_nima/statistics_epoch_based/Triplet_type3_fr/900-10000frames_sws_awake_sws/all_cells/Type3_fr_top20_active_during_swsn.csv')\n",
    "    df_typ3_firing.to_csv(path_or_buf=file_save_add + 'L:/analysis_nima/statistics_epoch_based/Triplet_type3_fr_z_score/sws_rem_sws/all_cells/Type3_fr_least20_active_total.csv')\n",
    "if save_fig:\n",
    "    #plt.savefig(fig_save_add + 'L:/analysis_nima/epoch_based_analysis/Triplet_type3_fr/all_mice_sws_awake_sws_900_10000/all_cells/Type3_fr_top20_active_during_swsn.pdf', dpi=600, format='pdf')\n",
    "    plt.savefig(fig_save_add + 'L:/analysis_nima/epoch_based_analysis/Triplet_type3_fr_z_score/all_mice_sws_rem_sws/all_cells/Type3_fr_least20_active_total.pdf', dpi=600, format='pdf')"
   ]
  },
  {
   "cell_type": "markdown",
   "id": "56d35e74",
   "metadata": {},
   "source": [
    "### Triplet type 3 for RTM "
   ]
  },
  {
   "cell_type": "markdown",
   "id": "5f72eec7",
   "metadata": {},
   "source": [
    "###  RTM top x%\n"
   ]
  },
  {
   "cell_type": "code",
   "execution_count": null,
   "id": "69dc45a1",
   "metadata": {},
   "outputs": [
    {
     "name": "stderr",
     "output_type": "stream",
     "text": [
      "C:\\Users\\admin\\AppData\\Local\\Temp/ipykernel_2328/694272402.py:10: RuntimeWarning: Mean of empty slice\n",
      "  'Second':[np.nanmean(data_list[data_dict['type3'][1]][\"avg_firing_perSecond\"][data_dict[\"type3_top20%_RTM\"][0]])],\n"
     ]
    }
   ],
   "source": [
    "# RTM top x%\n",
    "# plotting average firing rate \n",
    "\n",
    "df_typ3_firing = pd.DataFrame()\n",
    "\n",
    "    \n",
    "for i, data_dict in enumerate(data_list):\n",
    "    if not isinstance(data_dict['type3'], int):\n",
    "        df_typ3_firing = df_typ3_firing.append(pd.DataFrame({'First':[np.nanmean(data_list[data_dict['type3'][0]][\"avg_firing_perSecond\"][data_dict[\"type3_top20%_RTM\"][0]])],\n",
    "                                                             'Second':[np.nanmean(data_list[data_dict['type3'][1]][\"avg_firing_perSecond\"][data_dict[\"type3_top20%_RTM\"][0]])],\n",
    "                                                             'Third':[np.nanmean(data_list[data_dict['type3'][2]][\"avg_firing_perSecond\"][data_dict[\"type3_top20%_RTM\"][0]])],\n",
    "                                                             'name':data_dict['mouseName'], \n",
    "                                                             'epochID': i}), ignore_index = True)\n",
    "    "
   ]
  },
  {
   "cell_type": "code",
   "execution_count": null,
   "id": "a344927d",
   "metadata": {},
   "outputs": [
    {
     "data": {
      "text/plain": [
       "(0.0, 0.2)"
      ]
     },
     "execution_count": 59,
     "metadata": {},
     "output_type": "execute_result"
    },
    {
     "data": {
      "image/png": "[encoded data removed]",
      "text/plain": [
       "<Figure size 316.8x595.44 with 1 Axes>"
      ]
     },
     "metadata": {},
     "output_type": "display_data"
    }
   ],
   "source": [
    "df_temp = pd.DataFrame()\n",
    "df_temp = df_typ3_firing.melt(id_vars=['name', 'epochID'], var_name='Pattern', value_name='FiringRate')\n",
    "x = df_temp\n",
    "sns.set(rc={'figure.figsize':(4.4,8.27)})\n",
    "sns.set_style(\"ticks\")\n",
    "g=sns.boxplot(x=\"Pattern\", y=\"FiringRate\",dodge=False,hue='Pattern',fliersize=3,linewidth=4,palette=['darkorange','limegreen','darkorange'],data=x )\n",
    "#g=sns.boxplot(x=\"Pattern\", y=\"FiringRate\",dodge=False,hue='Pattern',fliersize=3,linewidth=4,palette=['darkorange','royalblue','darkorange'],data=x )\n",
    "\n",
    "#g=sns.lineplot(x=\"Pattern\", y=\"firing_rate\",linewidth=6,color='black',data=x )\n",
    "g.set_xticklabels(['SWSn','REM','SWSn.1'])\n",
    "plt.ylim(0,0.2)\n",
    "\n",
    "#if save_file:\n",
    "  #  df_typ3_firing.to_csv(path_or_buf=file_save_add + 'L:/analysis_nima/statistics_epoch_based/Triplet_type3_fr/900-10000frames_sws_awake_sws/all_cells/RTM/Type3_fr_top20_active_during_swsn.csv')\n",
    "    #df_typ3_firing.to_csv(path_or_buf=file_save_add + 'L:/analysis_nima/statistics_epoch_based/Triplet_type3_fr/sws_rem_sws/all_cells/RTM/Type3_fr_top20_active_during_swsn.csv')\n",
    "#if save_fig:\n",
    "  #  plt.savefig(fig_save_add + 'L:/analysis_nima/epoch_based_analysis/Triplet_type3_fr/all_mice_sws_awake_sws_900_10000/all_cells/RTM/Type3_fr_top20_active_during_swsn.pdf', dpi=600, format='pdf')\n",
    "    #plt.savefig(fig_save_add + 'L:/analysis_nima/epoch_based_analysis/Triplet_type3_fr/all_mice_sws_rem_sws/all_cells/RTM/Type3_fr_top20_active_during_swsn.pdf', dpi=600, format='pdf')\n"
   ]
  },
  {
   "cell_type": "markdown",
   "id": "88c4e717",
   "metadata": {},
   "source": [
    "###  RTM least x%\n"
   ]
  },
  {
   "cell_type": "code",
   "execution_count": null,
   "id": "9637b0a1",
   "metadata": {},
   "outputs": [
    {
     "name": "stderr",
     "output_type": "stream",
     "text": [
      "C:\\Users\\admin\\AppData\\Local\\Temp/ipykernel_2328/395491542.py:10: RuntimeWarning: Mean of empty slice\n",
      "  'Second':[np.nanmean(data_list[data_dict['type3'][1]][\"avg_firing_perSecond\"][data_dict[\"type3_least20%_RTM\"][0]])],\n"
     ]
    }
   ],
   "source": [
    "# RTM least x%\n",
    "# plotting average firing rate \n",
    "\n",
    "df_typ3_firing = pd.DataFrame()\n",
    "\n",
    "    \n",
    "for i, data_dict in enumerate(data_list):\n",
    "    if not isinstance(data_dict['type3'], int):\n",
    "        df_typ3_firing = df_typ3_firing.append(pd.DataFrame({'First':[np.nanmean(data_list[data_dict['type3'][0]][\"avg_firing_perSecond\"][data_dict[\"type3_least20%_RTM\"][0]])],\n",
    "                                                             'Second':[np.nanmean(data_list[data_dict['type3'][1]][\"avg_firing_perSecond\"][data_dict[\"type3_least20%_RTM\"][0]])],\n",
    "                                                             'Third':[np.nanmean(data_list[data_dict['type3'][2]][\"avg_firing_perSecond\"][data_dict[\"type3_least20%_RTM\"][0]])],\n",
    "                                                             'name':data_dict['mouseName'], \n",
    "                                                             'epochID': i}), ignore_index = True)\n",
    "    "
   ]
  },
  {
   "cell_type": "code",
   "execution_count": null,
   "id": "f5c606b1",
   "metadata": {},
   "outputs": [
    {
     "data": {
      "text/plain": [
       "(0.0, 0.2)"
      ]
     },
     "execution_count": 61,
     "metadata": {},
     "output_type": "execute_result"
    },
    {
     "data": {
      "image/png": "[encoded data removed]",
      "text/plain": [
       "<Figure size 316.8x595.44 with 1 Axes>"
      ]
     },
     "metadata": {},
     "output_type": "display_data"
    }
   ],
   "source": [
    "\n",
    "df_temp = pd.DataFrame()\n",
    "df_temp = df_typ3_firing.melt(id_vars=['name', 'epochID'], var_name='Pattern', value_name='FiringRate')\n",
    "x = df_temp\n",
    "sns.set(rc={'figure.figsize':(4.4,8.27)})\n",
    "sns.set_style(\"ticks\")\n",
    "g=sns.boxplot(x=\"Pattern\", y=\"FiringRate\",dodge=False,hue='Pattern',fliersize=3,linewidth=4,palette=['darkorange','limegreen','darkorange'],data=x )\n",
    "#g=sns.boxplot(x=\"Pattern\", y=\"FiringRate\",dodge=False,hue='Pattern',fliersize=3,linewidth=4,palette=['darkorange','royalblue','darkorange'],data=x )\n",
    "\n",
    "#g=sns.lineplot(x=\"Pattern\", y=\"firing_rate\",linewidth=6,color='black',data=x )\n",
    "g.set_xticklabels(['SWSn','REM','SWSn.1'])\n",
    "plt.ylim(0,0.2)\n",
    "\n",
    "#if save_file:\n",
    "    #df_temp.to_csv(path_or_buf=file_save_add + 'L:/analysis_nima/statistics_epoch_based/Triplet_type3_fr/900-10000frames_sws_awake_sws/all_cells/RTM/Type3_fr_least20_active_during_swsn.csv')\n",
    "    #df_typ3_firing.to_csv(path_or_buf=file_save_add + 'L:/analysis_nima/statistics_epoch_based/Triplet_type3_fr/sws_rem_sws/all_cells/RTM/Type3_fr_least20_active_during_swsn.csv')\n",
    "#if save_fig:\n",
    "   # plt.savefig(fig_save_add + 'L:/analysis_nima/epoch_based_analysis/Triplet_type3_fr/all_mice_sws_awake_sws_900_10000/all_cells/RTM/Type3_fr_least20_active_during_swsn.pdf', dpi=600, format='pdf')\n",
    "    #plt.savefig(fig_save_add + 'L:/analysis_nima/epoch_based_analysis/Triplet_type3_fr/all_mice_sws_rem_sws/all_cells/RTM/Type3_fr_least20_active_during_swsn.pdf', dpi=600, format='pdf')"
   ]
  },
  {
   "cell_type": "markdown",
   "id": "ce97665c",
   "metadata": {},
   "source": [
    "### Divided in thirds"
   ]
  },
  {
   "cell_type": "code",
   "execution_count": 59,
   "id": "c48e49d5",
   "metadata": {},
   "outputs": [
    {
     "name": "stderr",
     "output_type": "stream",
     "text": [
      "C:\\Users\\admin\\AppData\\Local\\Temp/ipykernel_7468/2732365579.py:11: RuntimeWarning: Mean of empty slice\n",
      "  '3th':[np.nanmean(data_list[indDict['type3'][ii]]['div_avg_firing_perSecond_zscore'][2])],\n",
      "C:\\Users\\admin\\AppData\\Local\\Temp/ipykernel_7468/2732365579.py:9: RuntimeWarning: Mean of empty slice\n",
      "  df_typ3_firing = df_typ3_firing.append(pd.DataFrame({'1th':[np.nanmean(data_list[indDict['type3'][ii]]['div_avg_firing_perSecond_zscore'][0])],\n",
      "C:\\Users\\admin\\AppData\\Local\\Temp/ipykernel_7468/2732365579.py:10: RuntimeWarning: Mean of empty slice\n",
      "  '2th':[np.nanmean(data_list[indDict['type3'][ii]]['div_avg_firing_perSecond_zscore'][1])],\n"
     ]
    }
   ],
   "source": [
    "# plotting average firing rate \n",
    "\n",
    "df_typ3_firing = pd.DataFrame()\n",
    "\n",
    "\n",
    "for i, indDict in enumerate (data_list):\n",
    "    if not isinstance(indDict['type3'], int):\n",
    "        for ii in range(3):\n",
    "            df_typ3_firing = df_typ3_firing.append(pd.DataFrame({'1th':[np.nanmean(data_list[indDict['type3'][ii]]['div_avg_firing_perSecond_zscore'][0])], \n",
    "                                                                 '2th':[np.nanmean(data_list[indDict['type3'][ii]]['div_avg_firing_perSecond_zscore'][1])], \n",
    "                                                                 '3th':[np.nanmean(data_list[indDict['type3'][ii]]['div_avg_firing_perSecond_zscore'][2])], \n",
    "                                                                 'name':indDict['mouseName'], \n",
    "                                                                 'Pattern': ii+1, \n",
    "                                                                 'epochID': i}), ignore_index = True)\n",
    "    \n"
   ]
  },
  {
   "cell_type": "code",
   "execution_count": 61,
   "id": "dec5f891",
   "metadata": {
    "scrolled": true
   },
   "outputs": [
    {
     "name": "stderr",
     "output_type": "stream",
     "text": [
      "C:\\Users\\admin\\Anaconda3\\envs\\sleep_project\\lib\\site-packages\\seaborn\\axisgrid.py:670: UserWarning: Using the boxplot function without specifying `order` is likely to produce an incorrect plot.\n",
      "  warnings.warn(warning)\n"
     ]
    },
    {
     "data": {
      "image/png": "[encoded data removed]",
      "text/plain": [
       "<Figure size 648x216 with 3 Axes>"
      ]
     },
     "metadata": {},
     "output_type": "display_data"
    }
   ],
   "source": [
    "df_temp = pd.DataFrame()\n",
    "df_temp = df_typ3_firing.melt(id_vars=['name', 'Pattern', 'epochID'], var_name='Levels', value_name='firing_rate')\n",
    "df_temp\n",
    "myGrid = sns.FacetGrid(data=df_temp, col='Pattern', col_wrap=3, aspect=1)\n",
    "\n",
    "#myGrid = sns.FacetGrid(data=df_temp, col='Pattern', col_wrap=3, aspect=1, ylim=[0, 0.2])\n",
    "#myplot = myGrid.map(sns.boxplot, 'Levels', 'firing_rate' ,fliersize=3,linewidth=4, palette=['darkorange','royalblue','darkorange'])\n",
    "myplot = myGrid.map(sns.boxplot, 'Levels', 'firing_rate' ,fliersize=3,linewidth=4, palette=['darkorange','limegreen','darkorange'])\n",
    "\n",
    "#### change address#####\n",
    "#if save_file:\n",
    "  #  df_temp.to_csv(path_or_buf=file_save_add + 'L:/analysis_nima/statistics_epoch_based/Triplet_type3_fr/900-10000frames_sws_awake_sws/frontal_electrode/spindle_coupled/Type3_fr_boxplot_spindle_coupled_active_with_levels.csv')\n",
    "#if save_fig:\n",
    "  #  plt.savefig(fig_save_add + 'L:/analysis_nima/epoch_based_analysis/Triplet_type3_fr/all_mice_sws_awake_sws_900_10000/frontal_electrode/spindle_coupled/Type3_fr_boxplot_spindle_coupled_active_with_levels.pdf', dpi=600, format='pdf')"
   ]
  },
  {
   "cell_type": "markdown",
   "id": "aeea45f9",
   "metadata": {},
   "source": [
    "#### Frequency based on top x% divided to n"
   ]
  },
  {
   "cell_type": "code",
   "execution_count": null,
   "id": "664a387a",
   "metadata": {},
   "outputs": [
    {
     "name": "stderr",
     "output_type": "stream",
     "text": [
      "C:\\Users\\admin\\AppData\\Local\\Temp/ipykernel_2328/3198537714.py:11: RuntimeWarning: Mean of empty slice\n",
      "  '3th':[np.nanmean(data_list[indDict['type3'][ii]]['div_avg_firing_perSecond'][2][data_list[indDict['type3'][ii]]['top20_avg_firing'][0]])],\n",
      "C:\\Users\\admin\\AppData\\Local\\Temp/ipykernel_2328/3198537714.py:9: RuntimeWarning: Mean of empty slice\n",
      "  df_typ3_firing = df_typ3_firing.append(pd.DataFrame({'1th':[np.nanmean(data_list[indDict['type3'][ii]]['div_avg_firing_perSecond'][0][data_list[indDict['type3'][ii]]['top20_avg_firing'][0]])],\n",
      "C:\\Users\\admin\\AppData\\Local\\Temp/ipykernel_2328/3198537714.py:10: RuntimeWarning: Mean of empty slice\n",
      "  '2th':[np.nanmean(data_list[indDict['type3'][ii]]['div_avg_firing_perSecond'][1][data_list[indDict['type3'][ii]]['top20_avg_firing'][0]])],\n"
     ]
    }
   ],
   "source": [
    "# plotting average firing rate \n",
    "\n",
    "df_typ3_firing = pd.DataFrame()\n",
    "\n",
    "\n",
    "for i, indDict in enumerate(data_list):\n",
    "    if not isinstance(indDict['type3'], int):\n",
    "        for ii in range(3):\n",
    "            df_typ3_firing = df_typ3_firing.append(pd.DataFrame({'1th':[np.nanmean(data_list[indDict['type3'][ii]]['div_avg_firing_perSecond'][0][data_list[indDict['type3'][ii]]['top20_avg_firing'][0]])], \n",
    "                                                                 '2th':[np.nanmean(data_list[indDict['type3'][ii]]['div_avg_firing_perSecond'][1][data_list[indDict['type3'][ii]]['top20_avg_firing'][0]])], \n",
    "                                                                 '3th':[np.nanmean(data_list[indDict['type3'][ii]]['div_avg_firing_perSecond'][2][data_list[indDict['type3'][ii]]['top20_avg_firing'][0]])], \n",
    "                                                                 'name':indDict['mouseName'], \n",
    "                                                                 'Pattern': ii+1, \n",
    "                                                                 'epochID': i}), ignore_index = True)\n",
    "    \n"
   ]
  },
  {
   "cell_type": "code",
   "execution_count": null,
   "id": "055197fc",
   "metadata": {
    "scrolled": true
   },
   "outputs": [
    {
     "name": "stderr",
     "output_type": "stream",
     "text": [
      "C:\\Users\\admin\\Anaconda3\\envs\\sleep_project\\lib\\site-packages\\seaborn\\axisgrid.py:670: UserWarning: Using the boxplot function without specifying `order` is likely to produce an incorrect plot.\n",
      "  warnings.warn(warning)\n"
     ]
    },
    {
     "data": {
      "image/png": "[encoded data removed]",
      "text/plain": [
       "<Figure size 648x216 with 3 Axes>"
      ]
     },
     "metadata": {},
     "output_type": "display_data"
    }
   ],
   "source": [
    "df_temp = pd.DataFrame()\n",
    "df_temp = df_typ3_firing.melt(id_vars=['name', 'Pattern', 'epochID'], var_name='Levels', value_name='firing_rate')\n",
    "df_temp\n",
    "myGrid = sns.FacetGrid(data=df_temp, col='Pattern', col_wrap=3, aspect=1, ylim=[0, 0.2])\n",
    "#myplot = myGrid.map(sns.boxplot, 'Levels', 'firing_rate' ,fliersize=3,linewidth=4, palette=['darkorange','royalblue','darkorange'])\n",
    "myplot = myGrid.map(sns.boxplot, 'Levels', 'firing_rate' ,fliersize=3,linewidth=4, palette=['darkorange','limegreen','darkorange'])\n",
    "\n",
    "#### change address#####\n",
    "#if save_file:\n",
    "  #  df_temp.to_csv(path_or_buf=file_save_add + 'L:/analysis_nima/statistics_epoch_based/Triplet_type3_fr/900-10000frames_sws_awake_sws/frontal_electrode/spindle_coupled/Type3_fr_boxplot_spindle_coupled_active_with_levels.csv')\n",
    "#if save_fig:\n",
    "  #  plt.savefig(fig_save_add + 'L:/analysis_nima/epoch_based_analysis/Triplet_type3_fr/all_mice_sws_awake_sws_900_10000/frontal_electrode/spindle_coupled/Type3_fr_boxplot_spindle_coupled_active_with_levels.pdf', dpi=600, format='pdf')"
   ]
  },
  {
   "cell_type": "markdown",
   "id": "3f190364",
   "metadata": {},
   "source": [
    "#### Frequency based on least x% divided to n"
   ]
  },
  {
   "cell_type": "code",
   "execution_count": null,
   "id": "71d3334a",
   "metadata": {},
   "outputs": [
    {
     "name": "stderr",
     "output_type": "stream",
     "text": [
      "C:\\Users\\admin\\AppData\\Local\\Temp/ipykernel_2328/1058172240.py:11: RuntimeWarning: Mean of empty slice\n",
      "  '3th':[np.nanmean(data_list[indDict['type3'][ii]]['div_avg_firing_perSecond'][2][data_list[indDict['type3'][ii]]['least20_avg_firing'][0]])],\n",
      "C:\\Users\\admin\\AppData\\Local\\Temp/ipykernel_2328/1058172240.py:9: RuntimeWarning: Mean of empty slice\n",
      "  df_typ3_firing = df_typ3_firing.append(pd.DataFrame({'1th':[np.nanmean(data_list[indDict['type3'][ii]]['div_avg_firing_perSecond'][0][data_list[indDict['type3'][ii]]['least20_avg_firing'][0]])],\n",
      "C:\\Users\\admin\\AppData\\Local\\Temp/ipykernel_2328/1058172240.py:10: RuntimeWarning: Mean of empty slice\n",
      "  '2th':[np.nanmean(data_list[indDict['type3'][ii]]['div_avg_firing_perSecond'][1][data_list[indDict['type3'][ii]]['least20_avg_firing'][0]])],\n"
     ]
    }
   ],
   "source": [
    "# plotting average firing rate \n",
    "\n",
    "df_typ3_firing = pd.DataFrame()\n",
    "\n",
    "\n",
    "for i, indDict in enumerate(data_list):\n",
    "    if not isinstance(indDict['type3'], int):\n",
    "        for ii in range(3):\n",
    "            df_typ3_firing = df_typ3_firing.append(pd.DataFrame({'1th':[np.nanmean(data_list[indDict['type3'][ii]]['div_avg_firing_perSecond'][0][data_list[indDict['type3'][ii]]['least20_avg_firing'][0]])], \n",
    "                                                                 '2th':[np.nanmean(data_list[indDict['type3'][ii]]['div_avg_firing_perSecond'][1][data_list[indDict['type3'][ii]]['least20_avg_firing'][0]])], \n",
    "                                                                 '3th':[np.nanmean(data_list[indDict['type3'][ii]]['div_avg_firing_perSecond'][2][data_list[indDict['type3'][ii]]['least20_avg_firing'][0]])], \n",
    "                                                                 'name':indDict['mouseName'], \n",
    "                                                                 'Pattern': ii+1, \n",
    "                                                                 'epochID': i}), ignore_index = True)\n",
    "    \n"
   ]
  },
  {
   "cell_type": "code",
   "execution_count": null,
   "id": "7b673663",
   "metadata": {},
   "outputs": [
    {
     "name": "stderr",
     "output_type": "stream",
     "text": [
      "C:\\Users\\admin\\Anaconda3\\envs\\sleep_project\\lib\\site-packages\\seaborn\\axisgrid.py:670: UserWarning: Using the boxplot function without specifying `order` is likely to produce an incorrect plot.\n",
      "  warnings.warn(warning)\n"
     ]
    },
    {
     "data": {
      "image/png": "[encoded data removed]",
      "text/plain": [
       "<Figure size 648x216 with 3 Axes>"
      ]
     },
     "metadata": {},
     "output_type": "display_data"
    }
   ],
   "source": [
    "df_temp = pd.DataFrame()\n",
    "df_temp = df_typ3_firing.melt(id_vars=['name', 'Pattern', 'epochID'], var_name='Levels', value_name='firing_rate')\n",
    "df_temp\n",
    "myGrid = sns.FacetGrid(data=df_temp, col='Pattern', col_wrap=3, aspect=1, ylim=[0, 0.2])\n",
    "#myplot = myGrid.map(sns.boxplot, 'Levels', 'firing_rate' ,fliersize=3,linewidth=4, palette=['darkorange','royalblue','darkorange'])\n",
    "myplot = myGrid.map(sns.boxplot, 'Levels', 'firing_rate' ,fliersize=3,linewidth=4, palette=['darkorange','limegreen','darkorange'])\n",
    "\n",
    "#### change address#####\n",
    "#if save_file:\n",
    "  #  df_temp.to_csv(path_or_buf=file_save_add + 'L:/analysis_nima/statistics_epoch_based/Triplet_type3_fr/900-10000frames_sws_awake_sws/frontal_electrode/spindle_coupled/Type3_fr_boxplot_spindle_coupled_active_with_levels.csv')\n",
    "#if save_fig:\n",
    "  #  plt.savefig(fig_save_add + 'L:/analysis_nima/epoch_based_analysis/Triplet_type3_fr/all_mice_sws_awake_sws_900_10000/frontal_electrode/spindle_coupled/Type3_fr_boxplot_spindle_coupled_active_with_levels.pdf', dpi=600, format='pdf')"
   ]
  },
  {
   "cell_type": "markdown",
   "id": "f2ea6d48",
   "metadata": {},
   "source": [
    "#### Frequency based on top x% of first element divided to n\n"
   ]
  },
  {
   "cell_type": "code",
   "execution_count": null,
   "id": "32d9d192",
   "metadata": {},
   "outputs": [
    {
     "name": "stderr",
     "output_type": "stream",
     "text": [
      "C:\\Users\\admin\\AppData\\Local\\Temp/ipykernel_2328/1041460652.py:11: RuntimeWarning: Mean of empty slice\n",
      "  '3th':[np.nanmean(data_list[indDict['type3'][ii]]['div_avg_firing_perSecond'][2][data_list[indDict['type3'][0]]['top20_avg_firing'][0]])],\n",
      "C:\\Users\\admin\\AppData\\Local\\Temp/ipykernel_2328/1041460652.py:9: RuntimeWarning: Mean of empty slice\n",
      "  df_typ3_firing = df_typ3_firing.append(pd.DataFrame({'1th':[np.nanmean(data_list[indDict['type3'][ii]]['div_avg_firing_perSecond'][0][data_list[indDict['type3'][0]]['top20_avg_firing'][0]])],\n",
      "C:\\Users\\admin\\AppData\\Local\\Temp/ipykernel_2328/1041460652.py:10: RuntimeWarning: Mean of empty slice\n",
      "  '2th':[np.nanmean(data_list[indDict['type3'][ii]]['div_avg_firing_perSecond'][1][data_list[indDict['type3'][0]]['top20_avg_firing'][0]])],\n"
     ]
    }
   ],
   "source": [
    "# plotting average firing rate \n",
    "\n",
    "df_typ3_firing = pd.DataFrame()\n",
    "\n",
    "\n",
    "for i,indDict in enumerate (data_list):\n",
    "    if not isinstance(indDict['type3'], int):\n",
    "        for ii in range(3):\n",
    "            df_typ3_firing = df_typ3_firing.append(pd.DataFrame({'1th':[np.nanmean(data_list[indDict['type3'][ii]]['div_avg_firing_perSecond'][0][data_list[indDict['type3'][0]]['top20_avg_firing'][0]])], \n",
    "                                                                 '2th':[np.nanmean(data_list[indDict['type3'][ii]]['div_avg_firing_perSecond'][1][data_list[indDict['type3'][0]]['top20_avg_firing'][0]])], \n",
    "                                                                 '3th':[np.nanmean(data_list[indDict['type3'][ii]]['div_avg_firing_perSecond'][2][data_list[indDict['type3'][0]]['top20_avg_firing'][0]])], \n",
    "                                                                 'name':indDict['mouseName'], \n",
    "                                                                 'Pattern': ii+1,\n",
    "                                                                 'epochID': i}), ignore_index = True)\n",
    "    \n"
   ]
  },
  {
   "cell_type": "code",
   "execution_count": null,
   "id": "c5033f92",
   "metadata": {},
   "outputs": [
    {
     "name": "stderr",
     "output_type": "stream",
     "text": [
      "C:\\Users\\admin\\Anaconda3\\envs\\sleep_project\\lib\\site-packages\\seaborn\\axisgrid.py:670: UserWarning: Using the boxplot function without specifying `order` is likely to produce an incorrect plot.\n",
      "  warnings.warn(warning)\n"
     ]
    },
    {
     "data": {
      "image/png": "[encoded data removed]",
      "text/plain": [
       "<Figure size 648x216 with 3 Axes>"
      ]
     },
     "metadata": {},
     "output_type": "display_data"
    }
   ],
   "source": [
    "df_temp = pd.DataFrame()\n",
    "df_temp = df_typ3_firing.melt(id_vars=['name', 'Pattern', 'epochID'], var_name='Levels', value_name='firing_rate')\n",
    "df_temp\n",
    "myGrid = sns.FacetGrid(data=df_temp, col='Pattern', col_wrap=3, aspect=1, ylim=[0, 0.2])\n",
    "#myplot = myGrid.map(sns.boxplot, 'Levels', 'firing_rate' ,fliersize=3,linewidth=4, palette=['darkorange','royalblue','darkorange'])\n",
    "myplot = myGrid.map(sns.boxplot, 'Levels', 'firing_rate' ,fliersize=3,linewidth=4, palette=['darkorange','limegreen','darkorange'])\n",
    "\n",
    "#### change address#####\n",
    "#if save_file:\n",
    "  #  df_temp.to_csv(path_or_buf=file_save_add + 'L:/analysis_nima/statistics_epoch_based/Triplet_type3_fr/900-10000frames_sws_awake_sws/frontal_electrode/spindle_coupled/Type3_fr_boxplot_spindle_coupled_active_with_levels.csv')\n",
    "#if save_fig:\n",
    "  #  plt.savefig(fig_save_add + 'L:/analysis_nima/epoch_based_analysis/Triplet_type3_fr/all_mice_sws_awake_sws_900_10000/frontal_electrode/spindle_coupled/Type3_fr_boxplot_spindle_coupled_active_with_levels.pdf', dpi=600, format='pdf')"
   ]
  },
  {
   "cell_type": "markdown",
   "id": "ff2d0fb6",
   "metadata": {},
   "source": [
    "#### Frequency based on least x% of first element divided to n"
   ]
  },
  {
   "cell_type": "code",
   "execution_count": null,
   "id": "ce3f775a",
   "metadata": {},
   "outputs": [
    {
     "name": "stderr",
     "output_type": "stream",
     "text": [
      "C:\\Users\\admin\\Anaconda3\\lib\\site-packages\\ipykernel_launcher.py:9: RuntimeWarning: Mean of empty slice\n",
      "  if __name__ == '__main__':\n",
      "C:\\Users\\admin\\Anaconda3\\lib\\site-packages\\ipykernel_launcher.py:10: RuntimeWarning: Mean of empty slice\n",
      "  # Remove the CWD from sys.path while we load stuff.\n",
      "C:\\Users\\admin\\Anaconda3\\lib\\site-packages\\ipykernel_launcher.py:11: RuntimeWarning: Mean of empty slice\n",
      "  # This is added back by InteractiveShellApp.init_path()\n"
     ]
    }
   ],
   "source": [
    "# plotting average firing rate \n",
    "\n",
    "df_typ3_firing = pd.DataFrame()\n",
    "\n",
    "\n",
    "for i,indDict in enumerate (data_list):\n",
    "    if not isinstance(indDict['type3'], int):\n",
    "        for ii in range(3):\n",
    "            df_typ3_firing = df_typ3_firing.append(pd.DataFrame({'1th':[np.nanmean(data_list[indDict['type3'][ii]]['div_avg_firing_perSecond'][0][data_list[indDict['type3'][0]]['least20_avg_firing'][0]])], \n",
    "                                                                 '2th':[np.nanmean(data_list[indDict['type3'][ii]]['div_avg_firing_perSecond'][1][data_list[indDict['type3'][0]]['least20_avg_firing'][0]])], \n",
    "                                                                 '3th':[np.nanmean(data_list[indDict['type3'][ii]]['div_avg_firing_perSecond'][2][data_list[indDict['type3'][0]]['least20_avg_firing'][0]])], \n",
    "                                                                 'name':indDict['mouseName'], \n",
    "                                                                 'Pattern': ii+1,\n",
    "                                                                 'epochID': i}), ignore_index = True)\n",
    "    \n"
   ]
  },
  {
   "cell_type": "code",
   "execution_count": null,
   "id": "b587e218",
   "metadata": {},
   "outputs": [
    {
     "name": "stderr",
     "output_type": "stream",
     "text": [
      "C:\\Users\\admin\\Anaconda3\\envs\\sleep_project\\lib\\site-packages\\seaborn\\axisgrid.py:670: UserWarning: Using the boxplot function without specifying `order` is likely to produce an incorrect plot.\n",
      "  warnings.warn(warning)\n"
     ]
    },
    {
     "data": {
      "image/png": "[encoded data removed]",
      "text/plain": [
       "<Figure size 648x216 with 3 Axes>"
      ]
     },
     "metadata": {},
     "output_type": "display_data"
    }
   ],
   "source": [
    "df_temp = pd.DataFrame()\n",
    "df_temp = df_typ3_firing.melt(id_vars=['name', 'Pattern', 'epochID'], var_name='Levels', value_name='firing_rate')\n",
    "df_temp\n",
    "myGrid = sns.FacetGrid(data=df_temp, col='Pattern', col_wrap=3, aspect=1, ylim=[0, 0.2])\n",
    "#myplot = myGrid.map(sns.boxplot, 'Levels', 'firing_rate' ,fliersize=3,linewidth=4, palette=['darkorange','royalblue','darkorange'])\n",
    "myplot = myGrid.map(sns.boxplot, 'Levels', 'firing_rate' ,fliersize=3,linewidth=4, palette=['darkorange','limegreen','darkorange'])\n",
    "\n",
    "#### change address#####\n",
    "#if save_file:\n",
    "  #  df_temp.to_csv(path_or_buf=file_save_add + 'L:/analysis_nima/statistics_epoch_based/Triplet_type3_fr/900-10000frames_sws_awake_sws/frontal_electrode/spindle_coupled/Type3_fr_boxplot_spindle_coupled_active_with_levels.csv')\n",
    "#if save_fig:\n",
    "  #  plt.savefig(fig_save_add + 'L:/analysis_nima/epoch_based_analysis/Triplet_type3_fr/all_mice_sws_awake_sws_900_10000/frontal_electrode/spindle_coupled/Type3_fr_boxplot_spindle_coupled_active_with_levels.pdf', dpi=600, format='pdf')"
   ]
  },
  {
   "cell_type": "code",
   "execution_count": null,
   "id": "d257ebbe",
   "metadata": {},
   "outputs": [],
   "source": []
  },
  {
   "cell_type": "code",
   "execution_count": null,
   "id": "17c0fb80",
   "metadata": {},
   "outputs": [],
   "source": []
  },
  {
   "cell_type": "code",
   "execution_count": null,
   "id": "ccb7cfb5",
   "metadata": {},
   "outputs": [],
   "source": []
  },
  {
   "cell_type": "code",
   "execution_count": null,
   "id": "b0431031",
   "metadata": {},
   "outputs": [],
   "source": []
  },
  {
   "cell_type": "code",
   "execution_count": null,
   "id": "3af7adf9",
   "metadata": {},
   "outputs": [],
   "source": []
  },
  {
   "cell_type": "code",
   "execution_count": null,
   "id": "e7276328",
   "metadata": {},
   "outputs": [],
   "source": []
  },
  {
   "cell_type": "code",
   "execution_count": null,
   "id": "efa14d67",
   "metadata": {},
   "outputs": [],
   "source": [
    "\n"
   ]
  },
  {
   "cell_type": "code",
   "execution_count": null,
   "id": "1e701f26",
   "metadata": {},
   "outputs": [],
   "source": []
  },
  {
   "cell_type": "markdown",
   "id": "0247b68a",
   "metadata": {},
   "source": [
    "### Read and write data as JSON file"
   ]
  },
  {
   "cell_type": "code",
   "execution_count": null,
   "id": "b2f19ebe",
   "metadata": {},
   "outputs": [],
   "source": [
    "with open('I:/Marco/analysis_nima/allData_JSON/fullData_with_analyses.json', 'w') as wr:\n",
    "    json.dump(data_list , wr, cls=NumpyEncoder)"
   ]
  },
  {
   "cell_type": "code",
   "execution_count": null,
   "id": "5236a491",
   "metadata": {},
   "outputs": [],
   "source": [
    "with open(r\"I:/Marco/analysis_nima/allData_JSON/fullData_with_analyses.json\", \"r\") as read_file:\n",
    "    data_list = json.load(read_file)"
   ]
  },
  {
   "cell_type": "code",
   "execution_count": null,
   "id": "f3296b0e",
   "metadata": {},
   "outputs": [],
   "source": [
    "# change lists to array\n",
    "[data_dict.update({key: np.asarray(data_dict[key])}) for data_dict in data_list for key in data_dict.keys() if isinstance(data_dict[key], list)];"
   ]
  },
  {
   "cell_type": "code",
   "execution_count": null,
   "id": "557bd8cb",
   "metadata": {},
   "outputs": [],
   "source": []
  },
  {
   "cell_type": "code",
   "execution_count": null,
   "id": "ef14bae4",
   "metadata": {},
   "outputs": [],
   "source": []
  }
 ],
 "metadata": {
  "kernelspec": {
   "display_name": "Python 3 (ipykernel)",
   "language": "python",
   "name": "python3"
  },
  "language_info": {
   "codemirror_mode": {
    "name": "ipython",
    "version": 3
   },
   "file_extension": ".py",
   "mimetype": "text/x-python",
   "name": "python",
   "nbconvert_exporter": "python",
   "pygments_lexer": "ipython3",
   "version": "3.8.12"
  }
 },
 "nbformat": 4,
 "nbformat_minor": 5
}

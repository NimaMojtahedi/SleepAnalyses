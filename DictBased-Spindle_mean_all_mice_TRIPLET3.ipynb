{
 "cells": [
  {
   "cell_type": "code",
   "execution_count": 1,
   "id": "3407c302",
   "metadata": {},
   "outputs": [],
   "source": [
    "import pandas as pd\n",
    "import numpy as np\n",
    "import matplotlib.pyplot as plt\n",
    "import seaborn as sns\n",
    "import os\n",
    "from tqdm import tqdm\n",
    "import json\n",
    "import pdb\n",
    "\n",
    "from utils import create_dict, create_list, get_data, find_type2_locations, find_type3_locations, find_type4_locations\n",
    "from utils import applyArtifacts, removeCells, avg_firing, NumpyEncoder, avg_amplitude, nrActiveCells, div_avg_firing, div_avg_amplitude, top_least\n",
    "from utils import cellID, spindle_locs, search_spindle, spi_inOut_diff\n",
    "from Analyses_ import slo_spi\n",
    "%config Completer.use_jedi = False"
   ]
  },
  {
   "cell_type": "markdown",
   "id": "af167fc9",
   "metadata": {},
   "source": [
    "### Input informations"
   ]
  },
  {
   "cell_type": "code",
   "execution_count": 2,
   "id": "49b5c1f0",
   "metadata": {
    "scrolled": true
   },
   "outputs": [],
   "source": [
    "all_address = ['L:/analysis_nima/250520_m18a/Batch_4', 'L:/analysis_nima/290520_m17a/Batch/extracells/Batch_2',\n",
    "                'L:/analysis_nima/110620_m18b/new/Batch_3', 'L:/analysis_nima/050820_m21a/Batch_4',\n",
    "                'L:/analysis_nima/030720_m20a/Batch_3', 'L:/analysis_nima/291020_m23a/Batch_2', \n",
    "               'L:/analysis_nima/210121_m24a/Batch_1']\n",
    "\n",
    "# sampling rate for different mice\n",
    "sfs = [30.995, 30.995, 30.955, 30.995, 30.995, 30.9576, 30.995]\n",
    "\n",
    "# defining artifacts\n",
    "custom_artifacts_1 = [[11007,11008,4]]\n",
    "custom_artifacts_2 = [[11630,11947,0],[12000,12700,0],[4533,5154,14]]\n",
    "custom_artifacts_3 = []\n",
    "custom_artifacts_4 = [[1595,1845,0],[4609,4907,0],[7740,7983,0],[13795,14101,0],[16706,16973,0],\n",
    "             [7266,7501,1],[11912,12219,1],[12703,13203,1],[13730,13909,1],[15097,15559,1],[17277,17519,1],\n",
    "             [1416,1793,2],[3816,4123,2],[13254,13593,2],[15224,15703,2],[17668,18067,2],\n",
    "             [7358,7521,3],[10240,10253,3],[13672,13748,3],[17306,17593,3],\n",
    "             [5505,5939,4],[6222,6231,4],[16760,16820,4],[18450,18573,4],                           \n",
    "             [1132,1357,7],[8653,8776,7],[9946,10391,7],\n",
    "             [9068,9323,7],[13589,13623,7],[17394,17547,7],\n",
    "             [1,140,8],[908,965,8],[7638,7665,8],[8014,8027,8],[14726,14922,8],[18022,18187,8],\n",
    "             [1912,2381,9],[2920,2923,9],[7767,7819,9],[7864,7997,9],[9876,10197,9],[15206,15545,9],\n",
    "             [6734,7220,10],[9668,9939,10],\n",
    "             [8914,9290,11],[9562,9571,11],[12216,12339,11],\n",
    "             [11492,11553,12],[13898,13919,12],\n",
    "             [6298,6619,13],[12282,12795,13],[14406,14507,13],[14798,14875,13],\n",
    "             [1,220,14],[1878,2108,14],[9872,9961,14],\n",
    "             [4764,4813,15],[5564,5571,15],[15419,15595,15],[16003,16089,15],[16420,16482,15],\n",
    "             [4240,4403,16],[9975,10077,16],[10274,10275,16],[13228,13451,16],[13805,13939,16],[14620,14664,16],[15764,15857,16],[18430,18537,16],\n",
    "             [10425,10591,17],[11058,11709,17],[12232,12311,17],[12784,12804,17],[17000,17115,17],\n",
    "             [10655,10825,18],[11993,12075,18],[12648,12685,18],[16013,16134,18],\n",
    "             [14466,15015,19],[16876,17009,19],[18398,18573,19],\n",
    "            [628,958,23],[7822,7976,23],[10298,10435,23],[13899,14241,23],[14466,14537,23],[15773,15848,23],[17664,17925,23],[18291,18426,23],\n",
    "            [4309,4512,24],[5271,5467,24],[6450,6700,24],[7186,7593,24],\n",
    "            [460,700,25],[1714,1725,25],[4045,4153,25],[13600,13699,25],\n",
    "            [4434,4568,26],[5984,6167,26],\n",
    "            [1770,1831,27],[4060,4064,27],\n",
    "            [2000,2193,28],[11098,11334,28],\n",
    "            [5921,5997,30],[8200,8210,30],[9189,9191,30],\n",
    "            [686,852,31],[13375,13543,31],[14059,14334,31],[15808,15883,31],\n",
    "            [10760,10800,33],[13942,14061,33],[17672,17738,33],\n",
    "            [10576,10604,41]]\n",
    "custom_artifacts_5 = [[3928,3971,0],[4584,4656,0],[7001,7119,0],[14144,14230,0],[14466,14501,0],[15591,15593,0],\n",
    "            [559,603,1],[2187,2214,1],[3999,4054,1],[11749,11790,1],[17785,17839,1],\n",
    "            [3403,3491,2],[11936,11980,2],\n",
    "            [1397,1465,3],[13881,13889,3],[14510,14526,3],[18377,18441,3],                                                                                           \n",
    "            [2585,2635,4], [6722,6771,4],[10867,10897,4],[16543,16615,4],\n",
    "            [740,825,5],[2026,2113,5],[13025,13051,5],\n",
    "            [798,863,6],[1795,1857,6],[3949,3980,6],[5190,5244,6],[10480,10547,6],[11219,11301,6],[12144,12191,6],[12690,12747,6],\n",
    "            [1343,1441,7],[2618,2684,7],[2709,2713,7],[3427,3496,7],[4138,4185,7],[4532,4567,7],[5694,8768,7],[9513,9562,7],[12510,12644,7],[15000,15073,7],\n",
    "            [96,140,8],[4175,4258,8],\n",
    "            [409,564,9],[13291,13497,9],[16520,18573,9],\n",
    "            [9968,10026,10],[14269,14335,10],[16569,16616,10],\n",
    "            [404,557,11],[12553,12649,11],\n",
    "            [503,598,13],[2832,2889,13],[13151,13218,13],[18276,18343,13],\n",
    "            [769,954,14],[980,1001,14],[2324,2389,14],[4286,4297,14],\n",
    "            [3349,3447,15],[6128,6221,15],\n",
    "            [8475,8543,16],\n",
    "            [9792,9840,17],\n",
    "            [2984,3007,20],[4131,4183,20],[5025,5042,20],[6330,6355,20],[11818,11893,20],\n",
    "            [6760,6875,21],\n",
    "            [12871,12895,28],[13645,13667,28],[14232,14319,28],[14837,14849,28],[15521,15542,28],[16421,16445,28],[17032,17040,28]]\n",
    "custom_artifacts_6 = [[8863,9191,4],\n",
    "           [5389,5393,7],[5575,5607,7],[5754,5755,7],[5798,6000,7],\n",
    "            [11050,11070,10],[12260,12280,10],\n",
    "            [15125,15290,12],[16420,18160,10],\n",
    "            [13280,13340,13],\n",
    "            [8,23,15],[92,94,15],[481,505,15],\n",
    "            [10035,10500,20],[11024,11044,20],\n",
    "            [5794,5800,21],\n",
    "            [3501,3507,22]]\n",
    "custom_artifacts_7 = [[0,3418,0],[13116,13507,0],[14502,14872,0],\n",
    "              [8000,9000,2],\n",
    "              [1828,2638,3],[8631,12630,3],\n",
    "              [1497,1988,4],[16470,17270,4],\n",
    "              [5113,8239,5],                                                                                         \n",
    "              [2322,2978,6],\n",
    "              [12460,14890,7],\n",
    "              [15600,16060,10],\n",
    "              [4231,4848,11],[6434,6909,11],[9110,11550,11],\n",
    "              [11890,12380,12],\n",
    "              [8410,8820,13],\n",
    "              [3026,3515,14],[13810,14170,14],\n",
    "              [10910,12010,15]]  \n",
    "artifacts = [custom_artifacts_1, custom_artifacts_2, custom_artifacts_3,\n",
    "                custom_artifacts_4, custom_artifacts_5, custom_artifacts_6, custom_artifacts_7]\n",
    "\n",
    "# cell removal \n",
    "remove_cell_1 = []\n",
    "remove_cell_2 = []\n",
    "remove_cell_3 = [62,63,64,65,66,67,68,69,70,80,81,160,161,162,163,164,167,194,195,202,203,204]\n",
    "remove_cell_4 = [13,53,55,57,79,84,85,86,95,99,112,141,144,147,153,177,178,183,184,188,189,191,196,197,198,199,202,219,226,234,235]\n",
    "remove_cell_5 = []\n",
    "remove_cell_6 = [66,84,85,86]\n",
    "remove_cell_7 = []\n",
    "remove_cells = [remove_cell_1, remove_cell_2, remove_cell_3,\n",
    "              remove_cell_4, remove_cell_5, remove_cell_6, remove_cell_7]\n",
    "# mouse name\n",
    "miceName = ['250520_m18a', '290520_m17a', '110620_m18b', '050820_m21a', '030720_m20a', '291020_m23a', '210121_m24a']\n",
    "\n",
    "# mouse name indcies\n",
    "mouse_index = {miceName[0]:0, miceName[1]:1, miceName[2]:2, miceName[3]:3, miceName[4]:4, miceName[5]:5, miceName[6]:6}\n",
    "\n",
    "\n",
    "# saving figure \n",
    "save_fig = True # or False\n",
    "fig_save_add = ''\n",
    "\n",
    "\n",
    "# saving dataframes\n",
    "save_file = True # or False\n",
    "file_save_add = ''"
   ]
  },
  {
   "cell_type": "markdown",
   "id": "f8c6e8b0",
   "metadata": {},
   "source": [
    "### Creating base data structure and loading data and hypno to it\n",
    "####    If ncessary first apply artifact on data or remove cells then create data structure"
   ]
  },
  {
   "cell_type": "code",
   "execution_count": 3,
   "id": "4ea2e7ca",
   "metadata": {
    "scrolled": true
   },
   "outputs": [
    {
     "name": "stdout",
     "output_type": "stream",
     "text": [
      "Your entered path is L:/analysis_nima/250520_m18a/Batch_4\n",
      "All files in the given path \n",
      "\n",
      "['unit01.mat', 'unit02.mat', 'unit03.mat', 'unit04.mat', 'unit05.mat', 'unit06.mat', 'unit07.mat', 'unit08.mat', 'unit09.mat', 'unit10.mat', 'unit11.mat', 'unit12.mat', 'unit13.mat', 'unit14.mat', 'unit15.mat', 'unit16.mat', 'unit17.mat', 'unit18.mat', 'unit19.mat', 'unit20.mat', 'unit21.mat', 'unit22.mat', 'unit23.mat', 'unit24.mat', 'unit25.mat', 'unit26.mat', 'unit27.mat', 'unit28.mat', 'unit29.mat', 'unit30.mat', 'unit31.mat', 'unit32.mat', 'unit33.mat', 'unit34.mat', 'unit35.mat', 'unit36.mat', 'unit37.mat', 'unit38.mat', 'unit39.mat', 'unit40.mat', 'unit41.mat', 'unit42.mat', 'unit43.mat', 'unit44.mat', 'unit45.mat']  Number of all files 45\n",
      "Data are loaded \n",
      "\n",
      "Start reading units \n",
      "\n",
      "unit length is 600 sec, data length is 18597 samples, number of cells are 236 \n",
      "\n",
      "Finished reading units \n",
      "\n",
      "Start reading hypno files \n",
      "\n",
      "Finished reading hypno \n",
      "\n",
      "Location-Time information\n",
      "data and hypno shapes in file L:/analysis_nima/250520_m18a/Batch_4 are: (18597, 236, 45), (18597, 45)\n",
      "Your entered path is L:/analysis_nima/290520_m17a/Batch/extracells/Batch_2\n",
      "All files in the given path \n",
      "\n",
      "['unit01.mat', 'unit02.mat', 'unit03.mat', 'unit04.mat', 'unit05.mat', 'unit06.mat', 'unit07.mat', 'unit08.mat', 'unit09.mat', 'unit10.mat', 'unit11.mat', 'unit12.mat', 'unit13.mat', 'unit14.mat', 'unit15.mat', 'unit16.mat', 'unit17.mat', 'unit18.mat', 'unit19.mat', 'unit20.mat', 'unit21.mat', 'unit22.mat', 'unit23.mat', 'unit24.mat', 'unit25.mat', 'unit26.mat', 'unit27.mat', 'unit28.mat', 'unit29.mat', 'unit30.mat', 'unit31.mat']  Number of all files 31\n",
      "Data are loaded \n",
      "\n",
      "Start reading units \n",
      "\n",
      "unit length is 600 sec, data length is 18597 samples, number of cells are 294 \n",
      "\n",
      "Finished reading units \n",
      "\n",
      "Start reading hypno files \n",
      "\n",
      "Finished reading hypno \n",
      "\n",
      "Location-Time information\n",
      "data and hypno shapes in file L:/analysis_nima/290520_m17a/Batch/extracells/Batch_2 are: (18597, 294, 31), (18597, 31)\n",
      "Your entered path is L:/analysis_nima/110620_m18b/new/Batch_3\n",
      "All files in the given path \n",
      "\n",
      "['unit01.mat', 'unit02.mat', 'unit03.mat', 'unit04.mat', 'unit05.mat', 'unit06.mat', 'unit07.mat', 'unit08.mat', 'unit09.mat', 'unit10.mat', 'unit11.mat', 'unit12.mat', 'unit13.mat', 'unit14.mat', 'unit15.mat', 'unit16.mat', 'unit17.mat', 'unit18.mat', 'unit19.mat', 'unit20.mat', 'unit21.mat', 'unit22.mat', 'unit23.mat', 'unit24.mat', 'unit25.mat', 'unit26.mat']  Number of all files 26\n",
      "Data are loaded \n",
      "\n",
      "Start reading units \n",
      "\n",
      "unit length is 600 sec, data length is 18573 samples, number of cells are 218 \n",
      "\n",
      "Finished reading units \n",
      "\n",
      "Start reading hypno files \n",
      "\n",
      "Finished reading hypno \n",
      "\n",
      "Location-Time information\n",
      "data and hypno shapes in file L:/analysis_nima/110620_m18b/new/Batch_3 are: (18573, 218, 26), (18573, 26)\n",
      "Your entered path is L:/analysis_nima/050820_m21a/Batch_4\n",
      "All files in the given path \n",
      "\n",
      "['unit01.mat', 'unit02.mat', 'unit03.mat', 'unit04.mat', 'unit05.mat', 'unit06.mat', 'unit07.mat', 'unit08.mat', 'unit09.mat', 'unit10.mat', 'unit11.mat', 'unit12.mat', 'unit13.mat', 'unit14.mat', 'unit15.mat', 'unit16.mat', 'unit17.mat', 'unit18.mat', 'unit19.mat', 'unit20.mat', 'unit21.mat', 'unit22.mat', 'unit23.mat', 'unit24.mat', 'unit25.mat', 'unit26.mat', 'unit27.mat', 'unit28.mat', 'unit29.mat', 'unit30.mat', 'unit31.mat', 'unit32.mat', 'unit33.mat', 'unit34.mat', 'unit35.mat', 'unit36.mat', 'unit37.mat', 'unit38.mat', 'unit39.mat', 'unit40.mat', 'unit41.mat', 'unit42.mat', 'unit43.mat', 'unit44.mat', 'unit45.mat', 'unit46.mat']  Number of all files 46\n",
      "Data are loaded \n",
      "\n",
      "Start reading units \n",
      "\n",
      "unit length is 600 sec, data length is 18597 samples, number of cells are 236 \n",
      "\n",
      "Finished reading units \n",
      "\n",
      "Start reading hypno files \n",
      "\n",
      "Finished reading hypno \n",
      "\n",
      "Location-Time information\n",
      "data and hypno shapes in file L:/analysis_nima/050820_m21a/Batch_4 are: (18597, 236, 46), (18597, 46)\n",
      "Your entered path is L:/analysis_nima/030720_m20a/Batch_3\n",
      "All files in the given path \n",
      "\n",
      "['unit01.mat', 'unit02.mat', 'unit03.mat', 'unit04.mat', 'unit05.mat', 'unit06.mat', 'unit07.mat', 'unit08.mat', 'unit09.mat', 'unit10.mat', 'unit11.mat', 'unit12.mat', 'unit13.mat', 'unit14.mat', 'unit15.mat', 'unit16.mat', 'unit17.mat', 'unit18.mat', 'unit19.mat', 'unit20.mat', 'unit21.mat', 'unit22.mat', 'unit23.mat', 'unit24.mat', 'unit25.mat', 'unit26.mat', 'unit27.mat', 'unit28.mat', 'unit29.mat']  Number of all files 29\n",
      "Data are loaded \n",
      "\n",
      "Start reading units \n",
      "\n",
      "unit length is 600 sec, data length is 18597 samples, number of cells are 185 \n",
      "\n",
      "Finished reading units \n",
      "\n",
      "Start reading hypno files \n",
      "\n",
      "Finished reading hypno \n",
      "\n",
      "Location-Time information\n",
      "data and hypno shapes in file L:/analysis_nima/030720_m20a/Batch_3 are: (18597, 185, 29), (18597, 29)\n",
      "Your entered path is L:/analysis_nima/291020_m23a/Batch_2\n",
      "All files in the given path \n",
      "\n",
      "['unit01.mat', 'unit02.mat', 'unit03.mat', 'unit04.mat', 'unit05.mat', 'unit06.mat', 'unit07.mat', 'unit08.mat', 'unit09.mat', 'unit10.mat', 'unit11.mat', 'unit12.mat', 'unit13.mat', 'unit14.mat', 'unit15.mat', 'unit16.mat', 'unit17.mat', 'unit18.mat', 'unit19.mat', 'unit20.mat', 'unit21.mat', 'unit22.mat', 'unit23.mat']  Number of all files 23\n",
      "Data are loaded \n",
      "\n",
      "Start reading units \n",
      "\n",
      "unit length is 600 sec, data length is 18574 samples, number of cells are 87 \n",
      "\n",
      "Finished reading units \n",
      "\n",
      "Start reading hypno files \n",
      "\n",
      "Finished reading hypno \n",
      "\n",
      "Location-Time information\n",
      "data and hypno shapes in file L:/analysis_nima/291020_m23a/Batch_2 are: (18574, 87, 23), (18574, 23)\n",
      "Your entered path is L:/analysis_nima/210121_m24a/Batch_1\n",
      "All files in the given path \n",
      "\n",
      "['unit01.mat', 'unit02.mat', 'unit03.mat', 'unit04.mat', 'unit05.mat', 'unit06.mat', 'unit07.mat', 'unit08.mat', 'unit09.mat', 'unit10.mat', 'unit11.mat', 'unit12.mat', 'unit13.mat', 'unit14.mat', 'unit15.mat', 'unit16.mat', 'unit17.mat', 'unit18.mat', 'unit19.mat', 'unit20.mat', 'unit21.mat', 'unit22.mat', 'unit23.mat', 'unit24.mat', 'unit25.mat', 'unit26.mat', 'unit27.mat']  Number of all files 27\n",
      "Data are loaded \n",
      "\n",
      "Start reading units \n",
      "\n",
      "unit length is 600 sec, data length is 18597 samples, number of cells are 143 \n",
      "\n",
      "Finished reading units \n",
      "\n",
      "Start reading hypno files \n",
      "\n",
      "Finished reading hypno \n",
      "\n",
      "Location-Time information\n",
      "data and hypno shapes in file L:/analysis_nima/210121_m24a/Batch_1 are: (18597, 143, 27), (18597, 27)\n"
     ]
    }
   ],
   "source": [
    "apply_artifact = True\n",
    "rmCell = True\n",
    "\n",
    "data_list = []\n",
    "for address, sf, mouse_name, artifact, remove_cell in zip(all_address, sfs, miceName, artifacts, remove_cells):\n",
    "    \n",
    "    #clear and read data\n",
    "    data = []; hypno = []\n",
    "    data, hypno = get_data(address = address, sf = sf)\n",
    "    \n",
    "    if apply_artifact:\n",
    "        data = applyArtifacts(data=data, artifacts=artifact)\n",
    "    \n",
    "    if rmCell:\n",
    "        data = removeCells(data=data, cells = remove_cell)\n",
    "    \n",
    "    # creat per mouse list\n",
    "    data_list.extend(create_list(data = data, hypno = hypno, mouseName = mouse_name, \n",
    "                                 sf = sf, apply_artifact=apply_artifact, removeCell=rmCell))"
   ]
  },
  {
   "cell_type": "markdown",
   "id": "5d430daa",
   "metadata": {},
   "source": [
    "### Adding analyses as dictionary key, value pairs"
   ]
  },
  {
   "cell_type": "code",
   "execution_count": 4,
   "id": "8c02555b",
   "metadata": {},
   "outputs": [],
   "source": [
    "# add average firing rate to the dictionary\n",
    "[data_dict.update({'avg_firing_perSecond':avg_firing(data = data_dict['data'], \n",
    "                                                            sf=data_dict['samplingRate'])}) for data_dict in data_list];"
   ]
  },
  {
   "cell_type": "code",
   "execution_count": 5,
   "id": "2ca7d3d8",
   "metadata": {
    "scrolled": true
   },
   "outputs": [
    {
     "name": "stderr",
     "output_type": "stream",
     "text": [
      "c:\\Users\\admin\\Sleep_Pipeline_Notebooks\\Analysis_all_mice\\SleepAnalyses\\utils.py:227: RuntimeWarning: Mean of empty slice\n",
      "  return np.nanmean(np.where(data>0 , data, np.nan), axis = 0)\n"
     ]
    }
   ],
   "source": [
    "# add average amplitude to the dictionary\n",
    "[data_dict.update({'avg_amplitude':avg_amplitude(data = data_dict['data'])}) for data_dict in data_list];"
   ]
  },
  {
   "cell_type": "code",
   "execution_count": 6,
   "id": "0ad55274",
   "metadata": {},
   "outputs": [],
   "source": [
    "# add top and least firing rate \n",
    "fraction = 20\n",
    "\n",
    "#top\n",
    "[data_dict.update({'top' + str(fraction) + '_avg_firing':top_least(data=data_dict['avg_firing_perSecond'], \n",
    "                                                                   prc = fraction, top = True)}) for data_dict in data_list];\n",
    "\n",
    "#least\n",
    "[data_dict.update({'least' + str(fraction) + '_avg_firing':top_least(data=data_dict['avg_firing_perSecond'], \n",
    "                                                                   prc = fraction, top = False)}) for data_dict in data_list];"
   ]
  },
  {
   "cell_type": "code",
   "execution_count": 7,
   "id": "fb897cb4",
   "metadata": {},
   "outputs": [],
   "source": [
    "# add top and least amplitude \n",
    "fraction = 20\n",
    "\n",
    "#top\n",
    "[data_dict.update({'top' + str(fraction) + '_amplitude':top_least(data=data_dict['avg_amplitude'], \n",
    "                                                                   prc = fraction, top = True)}) for data_dict in data_list];\n",
    "\n",
    "#least\n",
    "[data_dict.update({'least' + str(fraction) + '_amplitude':top_least(data=data_dict['avg_amplitude'], \n",
    "                                                                   prc = fraction, top = False)}) for data_dict in data_list];"
   ]
  },
  {
   "cell_type": "code",
   "execution_count": 8,
   "id": "de419eac",
   "metadata": {},
   "outputs": [],
   "source": [
    "# add divided average firing rate to the dictionary\n",
    "[data_dict.update({'div_avg_firing_perSecond':div_avg_firing(data = data_dict['data'], \n",
    "                                                             sf=data_dict['samplingRate'], \n",
    "                                                             n = 3)}) for data_dict in data_list];"
   ]
  },
  {
   "cell_type": "code",
   "execution_count": 9,
   "id": "36189978",
   "metadata": {},
   "outputs": [],
   "source": [
    "# add divided average firing rate to the dictionary (n subdata)\n",
    "[data_dict.update({'div_avg_amplitude':div_avg_amplitude(data = data_dict['data'], n=3)}) for data_dict in data_list];"
   ]
  },
  {
   "cell_type": "code",
   "execution_count": 10,
   "id": "9c60f116",
   "metadata": {
    "scrolled": false
   },
   "outputs": [],
   "source": [
    "# add epoch duration in sample\n",
    "[data_dict.update({'epochDuration': data_dict['data'].shape[0]}) for data_dict in data_list];"
   ]
  },
  {
   "cell_type": "code",
   "execution_count": 11,
   "id": "a9729d45",
   "metadata": {},
   "outputs": [],
   "source": [
    "# add nr of active cell per epoch\n",
    "[data_dict.update({'nrActiveCells': nrActiveCells(data = data_dict['avg_amplitude'])}) for data_dict in data_list];"
   ]
  },
  {
   "cell_type": "code",
   "execution_count": 12,
   "id": "f57691d0",
   "metadata": {},
   "outputs": [],
   "source": [
    "# add nr of total cells per epoch\n",
    "[data_dict.update({'nrTotalCells': data_dict['data'].shape[1]}) for data_dict in data_list];"
   ]
  },
  {
   "cell_type": "code",
   "execution_count": 13,
   "id": "c1bf652b",
   "metadata": {},
   "outputs": [],
   "source": [
    "# adding location of type2 pattern to the dictionaries\n",
    "\n",
    "\n",
    "# type2: 1 epoch is first element of the pattern\n",
    "#        2 epoch is second element of the pattern\n",
    "#        0 epoch is not involved in the pattern\n",
    "\n",
    "\n",
    "# finding locations (each location is the location of first element of the pattern)\n",
    "type2_locations = find_type2_locations(dictLists=data_list, pattern=[-2, -3], \n",
    "                                       cond1_min= 900, cond1_max=10000, \n",
    "                                       cond2_min=900, cond2_max=10000)\n",
    "\n",
    "\n",
    "\n",
    "[data_dict.update({'type2': 0}) for data_dict in data_list]\n",
    "\n",
    "for i, data_dict in enumerate(data_list):\n",
    "    if i in type2_locations:\n",
    "        data_dict.update({'type2':1})\n",
    "        data_list[i+1].update({'type2':2})"
   ]
  },
  {
   "cell_type": "code",
   "execution_count": 14,
   "id": "6565ccd7",
   "metadata": {
    "scrolled": true
   },
   "outputs": [],
   "source": [
    "# adding location of type3 pattern to the dictionaries\n",
    "\n",
    "\n",
    "# type2: 1 epoch is first element of the pattern\n",
    "#        2 epoch is second element of the pattern\n",
    "#        3 epoch is third element of the pattern\n",
    "#        0 epoch is not involved in the pattern\n",
    "\n",
    "\n",
    "# finding locations (each location is the location of first element of the pattern)\n",
    "type3_locations = find_type3_locations(dictLists=data_list, pattern=[-2, -3, -2], \n",
    "                                       cond1_min=900, cond1_max=10000, \n",
    "                                       cond2_min=900, cond2_max=10000, \n",
    "                                       cond3_min=900, cond3_max=10000)\n",
    "\n",
    "\n",
    "\n",
    "[data_dict.update({'type3': 0}) for data_dict in data_list]\n",
    "\n",
    "for i in range(type3_locations.shape[0]):\n",
    "    \n",
    "    # put all pattern locations in the first element of the pattern\n",
    "    data_list[type3_locations[i,0]].update({'type3':type3_locations[i,:]})\n",
    "    "
   ]
  },
  {
   "cell_type": "code",
   "execution_count": 15,
   "id": "e24ce7df",
   "metadata": {},
   "outputs": [],
   "source": [
    "# adding location of type4 pattern to the dictionaries\n",
    "\n",
    "\n",
    "# type2: 1 epoch is first element of the pattern\n",
    "#        2 epoch is second element of the pattern\n",
    "#        3 epoch is third element of the pattern\n",
    "#        0 epoch is not involved in the pattern\n",
    "\n",
    "\n",
    "# finding locations (each location is the location of first element of the pattern)\n",
    "type4_locations = find_type4_locations(dictLists=data_list, pattern=[0, -2, 0, -2], \n",
    "                                       cond1_min= 900, cond1_max=10000, \n",
    "                                       cond2_min=900, cond2_max=10000, \n",
    "                                       cond3_min=900, cond3_max=10000,\n",
    "                                       cond4_min=900, cond4_max=10000)\n",
    "\n",
    "\n",
    "\n",
    "[data_dict.update({'type4': 0}) for data_dict in data_list]\n",
    "\n",
    "for i in range(type4_locations.shape[0]):\n",
    "    \n",
    "    # put all pattern locations in the first element of the pattern\n",
    "    data_list[type4_locations[i,0]].update({'type4':type4_locations[i,:]})\n",
    "    "
   ]
  },
  {
   "cell_type": "code",
   "execution_count": 16,
   "id": "88c7ea0f",
   "metadata": {},
   "outputs": [
    {
     "name": "stdout",
     "output_type": "stream",
     "text": [
      "Start main analyses\n",
      "Run 1\n",
      "Run 2\n"
     ]
    }
   ],
   "source": [
    "# top x % based RTM issue for type2/type3 patterns\n",
    "\n",
    "# type2_avgFiring_RTM: normalized firing rate of 2 type2 epochs (concatinating 2 epochs)\n",
    "# type3_avgFiring_RTM: normalized firing rate per cell taking all 3 type3 epochs together (concatinating 3 epochs)\n",
    "\n",
    "# type2_topx%_RTM: top x% of normalized firing rate cells based on type2 (taking average from above-it always comes to the first epoch)\n",
    "# type3_topx%_RTM: top x% of normalized firing rate cells based on type3 (taking average from above-it alwaves comes to the first epoch)\n",
    "\n",
    "# initializing values\n",
    "[data_dict.update({\"type2_avgFiring_RTM\": None}) for data_dict in data_list]\n",
    "[data_dict.update({\"type3_avgFiring_RTM\": None}) for data_dict in data_list]\n",
    "\n",
    "[data_dict.update({f\"type2_top{fraction}%_RTM\": None}) for data_dict in data_list]\n",
    "[data_dict.update({f\"type3_top{fraction}%_RTM\": None}) for data_dict in data_list]\n",
    "\n",
    "[data_dict.update({f\"type2_least{fraction}%_RTM\": None}) for data_dict in data_list]\n",
    "[data_dict.update({f\"type3_least{fraction}%_RTM\": None}) for data_dict in data_list]\n",
    "\n",
    "print(\"Start main analyses\\nRun 1\")\n",
    "\n",
    "for i, epoch in enumerate(data_list):\n",
    "    \n",
    "    # check first type2 epoch\n",
    "    if epoch[\"type2\"] == 1:\n",
    "        # calculate type2_avgFiring_RTM\n",
    "        epoch[\"type2_avgFiring_RTM\"] = avg_firing(data = np.vstack([epoch[\"data\"], data_list[i+1][\"data\"]]), \n",
    "                                                  sf = epoch[\"samplingRate\"])\n",
    "        \n",
    "    if not isinstance(epoch[\"type3\"], int):\n",
    "        # calculate type3_avgFiring_RTM\n",
    "        epoch[\"type3_avgFiring_RTM\"] = avg_firing(data = np.vstack([data_list[epoch[\"type3\"][0]][\"data\"], \n",
    "                                                                    data_list[epoch[\"type3\"][1]][\"data\"], \n",
    "                                                                    data_list[epoch[\"type3\"][2]][\"data\"]]), \n",
    "                                                  sf = epoch[\"samplingRate\"])\n",
    "\n",
    "print(\"Run 2\")\n",
    "for i, epoch in enumerate(data_list):\n",
    "    \n",
    "    # check first type2 epoch\n",
    "    if epoch[\"type2\"] == 1:\n",
    "        # calculate type2_topx%_RTM\n",
    "        epoch[f\"type2_top{fraction}%_RTM\"] = top_least(data = epoch[\"type2_avgFiring_RTM\"], prc = fraction, top = True)\n",
    "        epoch[f\"type2_least{fraction}%_RTM\"] = top_least(data = epoch[\"type2_avgFiring_RTM\"], prc = fraction, top = False)\n",
    "        \n",
    "    if not isinstance(epoch[\"type3\"], int):\n",
    "        # calculate type3_topx%_RTM\n",
    "        epoch[f\"type3_top{fraction}%_RTM\"] = top_least(data = epoch[\"type3_avgFiring_RTM\"], prc = fraction, top = True)\n",
    "        epoch[f\"type3_least{fraction}%_RTM\"] = top_least(data = epoch[\"type3_avgFiring_RTM\"], prc = fraction, top = False)\n"
   ]
  },
  {
   "cell_type": "markdown",
   "id": "f1d7cddf",
   "metadata": {},
   "source": [
    "### Spindle/Slow Oscillations"
   ]
  },
  {
   "cell_type": "code",
   "execution_count": 17,
   "id": "3c858427",
   "metadata": {},
   "outputs": [],
   "source": [
    "spi_slow_use = True\n",
    "\n",
    "# main file adrress (Niels data)\n",
    "spi_slow_file_address = ['L:/analysis_nima/spindles/m18a.mat', 'L:/analysis_nima/spindles/m17a.mat', \n",
    "                        'L:/analysis_nima/spindles/m18b.mat', 'L:/analysis_nima/spindles/m21a.mat', \n",
    "                        'L:/analysis_nima/spindles/m20a.mat', 'L:/analysis_nima/spindles/m23a.mat', \n",
    "                        'L:/analysis_nima/spindles/m24a.mat']\n",
    "# location of events in selected file (can be spindle or slow oscillation)\n",
    "spi_slow_data_loc = 'Results/spi/events'\n",
    "\n",
    "# start and end index (in spindle is 0-1 but in slow oscillation is 1-2)\n",
    "spi_slow_start_index = 0\n",
    "spi_slow_end_index = 1\n",
    "\n",
    "# channel number we want to select ([0,0] or [0,1] - frontal or parietal)\n",
    "spi_slow_channel_nr = [0,0]\n",
    "\n",
    "# address for files with unit information\n",
    "spi_slow_start_end_unit_address = ['L:/analysis_nima/250520_m18a/hypno_unit_sec_m18a.csv', \n",
    "                                   'L:/analysis_nima/290520_m17a/Batch/hypno_unit_sec_m17a.csv', \n",
    "                                   'L:/analysis_nima/110620_m18b/hypno_unit_sec_m18b.csv', \n",
    "                                   'L:/analysis_nima/050820_m21a/hypno_unit_sec_m21a.csv', \n",
    "                                   'L:/analysis_nima/030720_m20a/hypno_unit_sec_m20a.csv', \n",
    "                                   'L:/analysis_nima/291020_m23a/hypno_unit_sec_m23a.csv', \n",
    "                                   'L:/analysis_nima/210121_m24a/hypno_unit_sec_m24a.csv']\n",
    "\n",
    "\n",
    "# Binary indicator to do coupled analysis or take all spindles (True only for spindles. Must be False for slow oscillation)\n",
    "spi_slow_apply_couple = True\n",
    "\n",
    "# When apply_couple is True this is indicator to select only coupled spindles (True) or non-coupled spindles (False)\n",
    "spi_slow_couple_analysis = False\n",
    "\n",
    "# channels number to select from coupled spindles ([0,0] or [0,1] - frontal or parietal)\n",
    "spi_slow_couple_channel = [0,0]\n",
    "\n",
    "# location of coupled spindles indices\n",
    "spi_slow_couple_address = '/Results/slospi/spiIndx'"
   ]
  },
  {
   "cell_type": "code",
   "execution_count": 18,
   "id": "a3b37738",
   "metadata": {},
   "outputs": [
    {
     "name": "stdout",
     "output_type": "stream",
     "text": [
      "running file L:/analysis_nima/spindles/m18a.mat\n",
      "running file L:/analysis_nima/spindles/m17a.mat\n",
      "running file L:/analysis_nima/spindles/m18b.mat\n",
      "running file L:/analysis_nima/spindles/m21a.mat\n",
      "running file L:/analysis_nima/spindles/m20a.mat\n",
      "running file L:/analysis_nima/spindles/m23a.mat\n",
      "running file L:/analysis_nima/spindles/m24a.mat\n"
     ]
    }
   ],
   "source": [
    "spi_slo_art_all = []\n",
    "for i in range(len(spi_slow_file_address)):\n",
    "    slow_osc = slo_spi(file_address=spi_slow_file_address[i], \n",
    "                       data_location=spi_slow_data_loc, channel_nr=spi_slow_channel_nr, \n",
    "                       start_index=spi_slow_start_index, end_index=spi_slow_end_index, \n",
    "                       start_end_file_add=spi_slow_start_end_unit_address[i], \n",
    "                       file_length= int(3e7), elec_sample=1000, unit_length=600, ca_fs=sfs[i], \n",
    "                       coupled = {'apply':spi_slow_apply_couple, 'address':spi_slow_couple_address, \n",
    "                                  'channel':spi_slow_couple_channel, 'cp':spi_slow_couple_analysis})\n",
    "    print(f'running file {spi_slow_file_address[i]}')\n",
    "    spi_slo_art_all.append(slow_osc.slo_spi_list())"
   ]
  },
  {
   "cell_type": "code",
   "execution_count": 19,
   "id": "33afad1f",
   "metadata": {
    "scrolled": false
   },
   "outputs": [],
   "source": [
    "# adding spindle/oscillation data to database\n",
    "\n",
    "# initializing data and indices\n",
    "[data_dict.update({'spi_osc_data': []}) for data_dict in data_list];\n",
    "[data_dict.update({'spi_osc_indices': []}) for data_dict in data_list];\n",
    "[data_dict.update({'spi_osc_NOTdata': []}) for data_dict in data_list];\n",
    "[data_dict.update({'spi_osc_NOTindices': []}) for data_dict in data_list];\n",
    "\n",
    "# running analyses (data)\n",
    "[data_dict.update({'spi_osc_data': search_spindle(data_spindle=spi_slo_art_all, Dict=data_dict, mouse_index=mouse_index)[0]}) for data_dict in data_list];\n",
    "\n",
    "# running analyses (indices)\n",
    "[data_dict.update({'spi_osc_indices': search_spindle(data_spindle=spi_slo_art_all, Dict=data_dict, mouse_index=mouse_index)[1]}) for data_dict in data_list];\n",
    "\n",
    "# running analyses (NOTdata: data outside of spindle range)\n",
    "[data_dict.update({'spi_osc_NOTdata': search_spindle(data_spindle=spi_slo_art_all, Dict=data_dict, mouse_index=mouse_index)[2]}) for data_dict in data_list if len(data_dict['spi_osc_data'])];\n",
    "\n",
    "\n",
    "# running analyses (NOTindices)\n",
    "[data_dict.update({'spi_osc_NOTindices': search_spindle(data_spindle=spi_slo_art_all, Dict=data_dict, mouse_index=mouse_index)[3]}) for data_dict in data_list];"
   ]
  },
  {
   "cell_type": "code",
   "execution_count": 20,
   "id": "14bc8355",
   "metadata": {
    "scrolled": true
   },
   "outputs": [],
   "source": [
    "# adding avg_firing rate for spi/osc and not spi/osc time periods\n",
    "\n",
    "# initializing\n",
    "[data_dict.update({'spi_osc_data_avgFiring': []}) for data_dict in data_list];\n",
    "[data_dict.update({'spi_osc_NOTdata_avgFiring': []}) for data_dict in data_list];\n",
    "\n",
    "[data_dict.update({'spi_osc_data_avgAmplitude': []}) for data_dict in data_list];\n",
    "[data_dict.update({'spi_osc_NOTdata_avgAmplitude': []}) for data_dict in data_list];\n",
    "\n",
    "# calculating average\n",
    "\n",
    "[data_dict.update({'spi_osc_data_avgFiring': avg_firing(data = np.vstack(data_dict['spi_osc_data']), \n",
    "                                                            sf=data_dict['samplingRate'])}) for data_dict in data_list if len(data_dict['spi_osc_data'])];\n",
    "\n",
    "[data_dict.update({'spi_osc_NOTdata_avgFiring': avg_firing(data = data_dict['spi_osc_NOTdata'], \n",
    "                                                            sf=data_dict['samplingRate'])}) for data_dict in data_list if len(data_dict['spi_osc_NOTdata'])];\n",
    "\n",
    "[data_dict.update({'spi_osc_data_avgAmplitude': avg_amplitude(data = np.vstack(data_dict['spi_osc_data']))}) for data_dict in data_list if len(data_dict['spi_osc_data'])];\n",
    "\n",
    "[data_dict.update({'spi_osc_NOTdata_avgAmplitude': avg_amplitude(data = data_dict['spi_osc_NOTdata'])}) for data_dict in data_list if len(data_dict['spi_osc_NOTdata'])];"
   ]
  },
  {
   "cell_type": "code",
   "execution_count": 21,
   "id": "613a3318",
   "metadata": {},
   "outputs": [],
   "source": [
    "# add top and least firing rate \n",
    "fraction = 20\n",
    "\n",
    "#top\n",
    "[data_dict.update({'spindle_top' + str(fraction) + '_diff_firing':top_least(data=spi_inOut_diff(x = data_dict['spi_osc_data_avgFiring'], \n",
    "                                                                                                y = data_dict['spi_osc_NOTdata_avgFiring']), \n",
    "                                                                   prc = fraction, top = True)}) for data_dict in data_list if len(data_dict['spi_osc_data'])];\n",
    "\n",
    "#least\n",
    "[data_dict.update({'spindle_least' + str(fraction) + '_diff_firing':top_least(data=spi_inOut_diff(x = data_dict['spi_osc_data_avgFiring'], \n",
    "                                                                                                  y = data_dict['spi_osc_NOTdata_avgFiring']), \n",
    "                                                                   prc = fraction, top = False)}) for data_dict in data_list if len(data_dict['spi_osc_data'])];"
   ]
  },
  {
   "cell_type": "code",
   "execution_count": 22,
   "id": "94b1f257",
   "metadata": {},
   "outputs": [],
   "source": [
    "# number of spindle active cells per epoch\n",
    "\n",
    "# initialize\n",
    "[data_dict.update({'nrSpindleActiveCells': []}) for data_dict in data_list];\n",
    "\n",
    "# calculate \n",
    "[data_dict.update({'nrSpindleActiveCells': len(np.where(~np.isnan(data_dict[\"spi_osc_data_avgFiring\"]))[0])}) for data_dict in data_list if len(data_dict[\"spi_osc_data_avgFiring\"])];"
   ]
  },
  {
   "cell_type": "code",
   "execution_count": 23,
   "id": "0bee7967",
   "metadata": {},
   "outputs": [],
   "source": [
    "# normalized (to total active cells in epoch-in percentage) fraction of spindle active cells per epoch\n",
    "\n",
    "# initialize\n",
    "[data_dict.update({'norm_SpindleActiveCells': []}) for data_dict in data_list];\n",
    "\n",
    "# calculate \n",
    "[data_dict.update({'norm_SpindleActiveCells': (len(np.where(~np.isnan(data_dict[\"spi_osc_data_avgFiring\"]))[0]) / data_dict[\"nrActiveCells\"]) * 100}) for data_dict in data_list if len(data_dict[\"spi_osc_data_avgFiring\"])];"
   ]
  },
  {
   "cell_type": "code",
   "execution_count": 24,
   "id": "3b22a300",
   "metadata": {},
   "outputs": [],
   "source": [
    "# normalized (to total active cells in epoch-in percentage) fraction of spindle active cells per epoch\n",
    "\n",
    "# initialize\n",
    "[data_dict.update({'normTototal_SpindleActiveCells': []}) for data_dict in data_list];\n",
    "\n",
    "# calculate \n",
    "[data_dict.update({'normTototal_SpindleActiveCells': (len(np.where(~np.isnan(data_dict[\"spi_osc_data_avgFiring\"]))[0]) / data_dict[\"nrTotalCells\"]) * 100}) for data_dict in data_list if len(data_dict[\"spi_osc_data_avgFiring\"])];"
   ]
  },
  {
   "cell_type": "code",
   "execution_count": null,
   "id": "772b2f7c",
   "metadata": {
    "scrolled": true
   },
   "outputs": [],
   "source": [
    "############################################################################################\n",
    "############################################################################################"
   ]
  },
  {
   "cell_type": "code",
   "execution_count": null,
   "id": "605784ce",
   "metadata": {},
   "outputs": [],
   "source": [
    "# plotting average firing rate \n",
    "\n",
    "df_nr_spindle_active_cells = pd.DataFrame()\n",
    "\n",
    "\n",
    "for i, indDict in enumerate(data_list):\n",
    "    if indDict['nrSpindleActiveCells']:\n",
    "        df_nr_spindle_active_cells = df_nr_spindle_active_cells.append(pd.DataFrame({'state':[indDict['hypnoState']], \n",
    "                                                                   'nr_active_cells':[indDict['nrSpindleActiveCells']], \n",
    "                                                                   'norm_active_cells':[indDict['norm_SpindleActiveCells']],\n",
    "                                                                   'normTototal_active_cells':[indDict['normTototal_SpindleActiveCells']],\n",
    "                                                                   'nr_unit':[indDict['unitNr']], \n",
    "                                                                   'name':indDict['mouseName']}), ignore_index = True)\n"
   ]
  },
  {
   "cell_type": "code",
   "execution_count": null,
   "id": "15aff50c",
   "metadata": {},
   "outputs": [
    {
     "data": {
      "text/html": [
       "<div>\n",
       "<style scoped>\n",
       "    .dataframe tbody tr th:only-of-type {\n",
       "        vertical-align: middle;\n",
       "    }\n",
       "\n",
       "    .dataframe tbody tr th {\n",
       "        vertical-align: top;\n",
       "    }\n",
       "\n",
       "    .dataframe thead th {\n",
       "        text-align: right;\n",
       "    }\n",
       "</style>\n",
       "<table border=\"1\" class=\"dataframe\">\n",
       "  <thead>\n",
       "    <tr style=\"text-align: right;\">\n",
       "      <th></th>\n",
       "      <th>state</th>\n",
       "      <th>nr_active_cells</th>\n",
       "      <th>norm_active_cells</th>\n",
       "      <th>normTototal_active_cells</th>\n",
       "      <th>nr_unit</th>\n",
       "      <th>name</th>\n",
       "    </tr>\n",
       "  </thead>\n",
       "  <tbody>\n",
       "    <tr>\n",
       "      <th>0</th>\n",
       "      <td>-2</td>\n",
       "      <td>9</td>\n",
       "      <td>10.465116</td>\n",
       "      <td>3.813559</td>\n",
       "      <td>7</td>\n",
       "      <td>250520_m18a</td>\n",
       "    </tr>\n",
       "    <tr>\n",
       "      <th>1</th>\n",
       "      <td>-2</td>\n",
       "      <td>26</td>\n",
       "      <td>17.687075</td>\n",
       "      <td>11.016949</td>\n",
       "      <td>10</td>\n",
       "      <td>250520_m18a</td>\n",
       "    </tr>\n",
       "    <tr>\n",
       "      <th>2</th>\n",
       "      <td>-2</td>\n",
       "      <td>6</td>\n",
       "      <td>11.320755</td>\n",
       "      <td>2.542373</td>\n",
       "      <td>10</td>\n",
       "      <td>250520_m18a</td>\n",
       "    </tr>\n",
       "    <tr>\n",
       "      <th>3</th>\n",
       "      <td>-2</td>\n",
       "      <td>2</td>\n",
       "      <td>2.105263</td>\n",
       "      <td>0.847458</td>\n",
       "      <td>11</td>\n",
       "      <td>250520_m18a</td>\n",
       "    </tr>\n",
       "    <tr>\n",
       "      <th>4</th>\n",
       "      <td>-2</td>\n",
       "      <td>1</td>\n",
       "      <td>1.562500</td>\n",
       "      <td>0.423729</td>\n",
       "      <td>11</td>\n",
       "      <td>250520_m18a</td>\n",
       "    </tr>\n",
       "    <tr>\n",
       "      <th>...</th>\n",
       "      <td>...</td>\n",
       "      <td>...</td>\n",
       "      <td>...</td>\n",
       "      <td>...</td>\n",
       "      <td>...</td>\n",
       "      <td>...</td>\n",
       "    </tr>\n",
       "    <tr>\n",
       "      <th>585</th>\n",
       "      <td>-2</td>\n",
       "      <td>7</td>\n",
       "      <td>9.459459</td>\n",
       "      <td>4.895105</td>\n",
       "      <td>25</td>\n",
       "      <td>210121_m24a</td>\n",
       "    </tr>\n",
       "    <tr>\n",
       "      <th>586</th>\n",
       "      <td>-2</td>\n",
       "      <td>25</td>\n",
       "      <td>29.069767</td>\n",
       "      <td>17.482517</td>\n",
       "      <td>26</td>\n",
       "      <td>210121_m24a</td>\n",
       "    </tr>\n",
       "    <tr>\n",
       "      <th>587</th>\n",
       "      <td>-2</td>\n",
       "      <td>6</td>\n",
       "      <td>8.571429</td>\n",
       "      <td>4.195804</td>\n",
       "      <td>26</td>\n",
       "      <td>210121_m24a</td>\n",
       "    </tr>\n",
       "    <tr>\n",
       "      <th>588</th>\n",
       "      <td>-2</td>\n",
       "      <td>12</td>\n",
       "      <td>16.901408</td>\n",
       "      <td>8.391608</td>\n",
       "      <td>26</td>\n",
       "      <td>210121_m24a</td>\n",
       "    </tr>\n",
       "    <tr>\n",
       "      <th>589</th>\n",
       "      <td>-2</td>\n",
       "      <td>1</td>\n",
       "      <td>5.263158</td>\n",
       "      <td>0.699301</td>\n",
       "      <td>26</td>\n",
       "      <td>210121_m24a</td>\n",
       "    </tr>\n",
       "  </tbody>\n",
       "</table>\n",
       "<p>590 rows × 6 columns</p>\n",
       "</div>"
      ],
      "text/plain": [
       "     state  nr_active_cells  norm_active_cells  normTototal_active_cells  \\\n",
       "0       -2                9          10.465116                  3.813559   \n",
       "1       -2               26          17.687075                 11.016949   \n",
       "2       -2                6          11.320755                  2.542373   \n",
       "3       -2                2           2.105263                  0.847458   \n",
       "4       -2                1           1.562500                  0.423729   \n",
       "..     ...              ...                ...                       ...   \n",
       "585     -2                7           9.459459                  4.895105   \n",
       "586     -2               25          29.069767                 17.482517   \n",
       "587     -2                6           8.571429                  4.195804   \n",
       "588     -2               12          16.901408                  8.391608   \n",
       "589     -2                1           5.263158                  0.699301   \n",
       "\n",
       "     nr_unit         name  \n",
       "0          7  250520_m18a  \n",
       "1         10  250520_m18a  \n",
       "2         10  250520_m18a  \n",
       "3         11  250520_m18a  \n",
       "4         11  250520_m18a  \n",
       "..       ...          ...  \n",
       "585       25  210121_m24a  \n",
       "586       26  210121_m24a  \n",
       "587       26  210121_m24a  \n",
       "588       26  210121_m24a  \n",
       "589       26  210121_m24a  \n",
       "\n",
       "[590 rows x 6 columns]"
      ]
     },
     "execution_count": 28,
     "metadata": {},
     "output_type": "execute_result"
    }
   ],
   "source": [
    "df_nr_spindle_active_cells"
   ]
  },
  {
   "cell_type": "code",
   "execution_count": null,
   "id": "0f67ed64",
   "metadata": {
    "scrolled": false
   },
   "outputs": [
    {
     "data": {
      "text/html": [
       "<div>\n",
       "<style scoped>\n",
       "    .dataframe tbody tr th:only-of-type {\n",
       "        vertical-align: middle;\n",
       "    }\n",
       "\n",
       "    .dataframe tbody tr th {\n",
       "        vertical-align: top;\n",
       "    }\n",
       "\n",
       "    .dataframe thead th {\n",
       "        text-align: right;\n",
       "    }\n",
       "</style>\n",
       "<table border=\"1\" class=\"dataframe\">\n",
       "  <thead>\n",
       "    <tr style=\"text-align: right;\">\n",
       "      <th></th>\n",
       "      <th></th>\n",
       "      <th>nr_active_cells</th>\n",
       "      <th>norm_active_cells</th>\n",
       "      <th>normTototal_active_cells</th>\n",
       "      <th>nr_unit</th>\n",
       "    </tr>\n",
       "    <tr>\n",
       "      <th>name</th>\n",
       "      <th>state</th>\n",
       "      <th></th>\n",
       "      <th></th>\n",
       "      <th></th>\n",
       "      <th></th>\n",
       "    </tr>\n",
       "  </thead>\n",
       "  <tbody>\n",
       "    <tr>\n",
       "      <th>030720_m20a</th>\n",
       "      <th>-2</th>\n",
       "      <td>13.0</td>\n",
       "      <td>13.636364</td>\n",
       "      <td>7.027027</td>\n",
       "      <td>15.0</td>\n",
       "    </tr>\n",
       "    <tr>\n",
       "      <th>050820_m21a</th>\n",
       "      <th>-2</th>\n",
       "      <td>12.0</td>\n",
       "      <td>11.250000</td>\n",
       "      <td>5.853659</td>\n",
       "      <td>28.0</td>\n",
       "    </tr>\n",
       "    <tr>\n",
       "      <th rowspan=\"3\" valign=\"top\">110620_m18b</th>\n",
       "      <th>-3</th>\n",
       "      <td>1.0</td>\n",
       "      <td>0.714286</td>\n",
       "      <td>0.510204</td>\n",
       "      <td>6.0</td>\n",
       "    </tr>\n",
       "    <tr>\n",
       "      <th>-2</th>\n",
       "      <td>17.5</td>\n",
       "      <td>13.811277</td>\n",
       "      <td>8.928571</td>\n",
       "      <td>12.0</td>\n",
       "    </tr>\n",
       "    <tr>\n",
       "      <th>0</th>\n",
       "      <td>1.0</td>\n",
       "      <td>7.142857</td>\n",
       "      <td>0.510204</td>\n",
       "      <td>10.0</td>\n",
       "    </tr>\n",
       "    <tr>\n",
       "      <th rowspan=\"2\" valign=\"top\">210121_m24a</th>\n",
       "      <th>-2</th>\n",
       "      <td>6.0</td>\n",
       "      <td>10.485348</td>\n",
       "      <td>4.195804</td>\n",
       "      <td>16.0</td>\n",
       "    </tr>\n",
       "    <tr>\n",
       "      <th>0</th>\n",
       "      <td>1.0</td>\n",
       "      <td>3.125000</td>\n",
       "      <td>0.699301</td>\n",
       "      <td>0.0</td>\n",
       "    </tr>\n",
       "    <tr>\n",
       "      <th rowspan=\"3\" valign=\"top\">250520_m18a</th>\n",
       "      <th>-3</th>\n",
       "      <td>22.0</td>\n",
       "      <td>13.173653</td>\n",
       "      <td>9.322034</td>\n",
       "      <td>37.0</td>\n",
       "    </tr>\n",
       "    <tr>\n",
       "      <th>-2</th>\n",
       "      <td>14.5</td>\n",
       "      <td>11.215933</td>\n",
       "      <td>6.144068</td>\n",
       "      <td>29.0</td>\n",
       "    </tr>\n",
       "    <tr>\n",
       "      <th>0</th>\n",
       "      <td>1.0</td>\n",
       "      <td>2.500000</td>\n",
       "      <td>0.423729</td>\n",
       "      <td>37.0</td>\n",
       "    </tr>\n",
       "    <tr>\n",
       "      <th rowspan=\"3\" valign=\"top\">290520_m17a</th>\n",
       "      <th>-3</th>\n",
       "      <td>10.0</td>\n",
       "      <td>5.721230</td>\n",
       "      <td>3.401361</td>\n",
       "      <td>26.0</td>\n",
       "    </tr>\n",
       "    <tr>\n",
       "      <th>-2</th>\n",
       "      <td>10.0</td>\n",
       "      <td>8.889377</td>\n",
       "      <td>3.401361</td>\n",
       "      <td>20.0</td>\n",
       "    </tr>\n",
       "    <tr>\n",
       "      <th>0</th>\n",
       "      <td>3.5</td>\n",
       "      <td>5.769231</td>\n",
       "      <td>1.190476</td>\n",
       "      <td>23.5</td>\n",
       "    </tr>\n",
       "    <tr>\n",
       "      <th>291020_m23a</th>\n",
       "      <th>-2</th>\n",
       "      <td>4.0</td>\n",
       "      <td>9.523810</td>\n",
       "      <td>4.819277</td>\n",
       "      <td>14.0</td>\n",
       "    </tr>\n",
       "  </tbody>\n",
       "</table>\n",
       "</div>"
      ],
      "text/plain": [
       "                   nr_active_cells  norm_active_cells  \\\n",
       "name        state                                       \n",
       "030720_m20a -2                13.0          13.636364   \n",
       "050820_m21a -2                12.0          11.250000   \n",
       "110620_m18b -3                 1.0           0.714286   \n",
       "            -2                17.5          13.811277   \n",
       "             0                 1.0           7.142857   \n",
       "210121_m24a -2                 6.0          10.485348   \n",
       "             0                 1.0           3.125000   \n",
       "250520_m18a -3                22.0          13.173653   \n",
       "            -2                14.5          11.215933   \n",
       "             0                 1.0           2.500000   \n",
       "290520_m17a -3                10.0           5.721230   \n",
       "            -2                10.0           8.889377   \n",
       "             0                 3.5           5.769231   \n",
       "291020_m23a -2                 4.0           9.523810   \n",
       "\n",
       "                   normTototal_active_cells  nr_unit  \n",
       "name        state                                     \n",
       "030720_m20a -2                     7.027027     15.0  \n",
       "050820_m21a -2                     5.853659     28.0  \n",
       "110620_m18b -3                     0.510204      6.0  \n",
       "            -2                     8.928571     12.0  \n",
       "             0                     0.510204     10.0  \n",
       "210121_m24a -2                     4.195804     16.0  \n",
       "             0                     0.699301      0.0  \n",
       "250520_m18a -3                     9.322034     37.0  \n",
       "            -2                     6.144068     29.0  \n",
       "             0                     0.423729     37.0  \n",
       "290520_m17a -3                     3.401361     26.0  \n",
       "            -2                     3.401361     20.0  \n",
       "             0                     1.190476     23.5  \n",
       "291020_m23a -2                     4.819277     14.0  "
      ]
     },
     "execution_count": 29,
     "metadata": {},
     "output_type": "execute_result"
    }
   ],
   "source": [
    "df_nr_spindle_active_cells.groupby([\"name\", \"state\"]).agg(np.nanmedian)"
   ]
  },
  {
   "cell_type": "code",
   "execution_count": null,
   "id": "d6609349",
   "metadata": {},
   "outputs": [
    {
     "data": {
      "text/html": [
       "<div>\n",
       "<style scoped>\n",
       "    .dataframe tbody tr th:only-of-type {\n",
       "        vertical-align: middle;\n",
       "    }\n",
       "\n",
       "    .dataframe tbody tr th {\n",
       "        vertical-align: top;\n",
       "    }\n",
       "\n",
       "    .dataframe thead th {\n",
       "        text-align: right;\n",
       "    }\n",
       "</style>\n",
       "<table border=\"1\" class=\"dataframe\">\n",
       "  <thead>\n",
       "    <tr style=\"text-align: right;\">\n",
       "      <th></th>\n",
       "      <th></th>\n",
       "      <th>nr_active_cells</th>\n",
       "      <th>norm_active_cells</th>\n",
       "      <th>normTototal_active_cells</th>\n",
       "      <th>nr_unit</th>\n",
       "    </tr>\n",
       "    <tr>\n",
       "      <th>name</th>\n",
       "      <th>state</th>\n",
       "      <th></th>\n",
       "      <th></th>\n",
       "      <th></th>\n",
       "      <th></th>\n",
       "    </tr>\n",
       "  </thead>\n",
       "  <tbody>\n",
       "    <tr>\n",
       "      <th>030720_m20a</th>\n",
       "      <th>-2</th>\n",
       "      <td>75</td>\n",
       "      <td>75</td>\n",
       "      <td>75</td>\n",
       "      <td>75</td>\n",
       "    </tr>\n",
       "    <tr>\n",
       "      <th>050820_m21a</th>\n",
       "      <th>-2</th>\n",
       "      <td>101</td>\n",
       "      <td>101</td>\n",
       "      <td>101</td>\n",
       "      <td>101</td>\n",
       "    </tr>\n",
       "    <tr>\n",
       "      <th rowspan=\"3\" valign=\"top\">110620_m18b</th>\n",
       "      <th>-3</th>\n",
       "      <td>1</td>\n",
       "      <td>1</td>\n",
       "      <td>1</td>\n",
       "      <td>1</td>\n",
       "    </tr>\n",
       "    <tr>\n",
       "      <th>-2</th>\n",
       "      <td>106</td>\n",
       "      <td>106</td>\n",
       "      <td>106</td>\n",
       "      <td>106</td>\n",
       "    </tr>\n",
       "    <tr>\n",
       "      <th>0</th>\n",
       "      <td>1</td>\n",
       "      <td>1</td>\n",
       "      <td>1</td>\n",
       "      <td>1</td>\n",
       "    </tr>\n",
       "    <tr>\n",
       "      <th rowspan=\"2\" valign=\"top\">210121_m24a</th>\n",
       "      <th>-2</th>\n",
       "      <td>84</td>\n",
       "      <td>84</td>\n",
       "      <td>84</td>\n",
       "      <td>84</td>\n",
       "    </tr>\n",
       "    <tr>\n",
       "      <th>0</th>\n",
       "      <td>1</td>\n",
       "      <td>1</td>\n",
       "      <td>1</td>\n",
       "      <td>1</td>\n",
       "    </tr>\n",
       "    <tr>\n",
       "      <th rowspan=\"3\" valign=\"top\">250520_m18a</th>\n",
       "      <th>-3</th>\n",
       "      <td>1</td>\n",
       "      <td>1</td>\n",
       "      <td>1</td>\n",
       "      <td>1</td>\n",
       "    </tr>\n",
       "    <tr>\n",
       "      <th>-2</th>\n",
       "      <td>66</td>\n",
       "      <td>66</td>\n",
       "      <td>66</td>\n",
       "      <td>66</td>\n",
       "    </tr>\n",
       "    <tr>\n",
       "      <th>0</th>\n",
       "      <td>3</td>\n",
       "      <td>3</td>\n",
       "      <td>3</td>\n",
       "      <td>3</td>\n",
       "    </tr>\n",
       "    <tr>\n",
       "      <th rowspan=\"3\" valign=\"top\">290520_m17a</th>\n",
       "      <th>-3</th>\n",
       "      <td>2</td>\n",
       "      <td>2</td>\n",
       "      <td>2</td>\n",
       "      <td>2</td>\n",
       "    </tr>\n",
       "    <tr>\n",
       "      <th>-2</th>\n",
       "      <td>84</td>\n",
       "      <td>84</td>\n",
       "      <td>84</td>\n",
       "      <td>84</td>\n",
       "    </tr>\n",
       "    <tr>\n",
       "      <th>0</th>\n",
       "      <td>2</td>\n",
       "      <td>2</td>\n",
       "      <td>2</td>\n",
       "      <td>2</td>\n",
       "    </tr>\n",
       "    <tr>\n",
       "      <th>291020_m23a</th>\n",
       "      <th>-2</th>\n",
       "      <td>63</td>\n",
       "      <td>63</td>\n",
       "      <td>63</td>\n",
       "      <td>63</td>\n",
       "    </tr>\n",
       "  </tbody>\n",
       "</table>\n",
       "</div>"
      ],
      "text/plain": [
       "                   nr_active_cells  norm_active_cells  \\\n",
       "name        state                                       \n",
       "030720_m20a -2                  75                 75   \n",
       "050820_m21a -2                 101                101   \n",
       "110620_m18b -3                   1                  1   \n",
       "            -2                 106                106   \n",
       "             0                   1                  1   \n",
       "210121_m24a -2                  84                 84   \n",
       "             0                   1                  1   \n",
       "250520_m18a -3                   1                  1   \n",
       "            -2                  66                 66   \n",
       "             0                   3                  3   \n",
       "290520_m17a -3                   2                  2   \n",
       "            -2                  84                 84   \n",
       "             0                   2                  2   \n",
       "291020_m23a -2                  63                 63   \n",
       "\n",
       "                   normTototal_active_cells  nr_unit  \n",
       "name        state                                     \n",
       "030720_m20a -2                           75       75  \n",
       "050820_m21a -2                          101      101  \n",
       "110620_m18b -3                            1        1  \n",
       "            -2                          106      106  \n",
       "             0                            1        1  \n",
       "210121_m24a -2                           84       84  \n",
       "             0                            1        1  \n",
       "250520_m18a -3                            1        1  \n",
       "            -2                           66       66  \n",
       "             0                            3        3  \n",
       "290520_m17a -3                            2        2  \n",
       "            -2                           84       84  \n",
       "             0                            2        2  \n",
       "291020_m23a -2                           63       63  "
      ]
     },
     "execution_count": 30,
     "metadata": {},
     "output_type": "execute_result"
    }
   ],
   "source": [
    "df_nr_spindle_active_cells.groupby([\"name\", \"state\"]).count()"
   ]
  },
  {
   "cell_type": "code",
   "execution_count": null,
   "id": "c2fb4a48",
   "metadata": {},
   "outputs": [],
   "source": [
    "\n",
    "if save_file:\n",
    "    df_nr_spindle_active_cells.to_csv(path_or_buf=file_save_add + 'L:/analysis_nima/statistics_epoch_based/spindle_active_cells/spindle_active.csv')"
   ]
  },
  {
   "cell_type": "markdown",
   "id": "34b6ad82",
   "metadata": {},
   "source": [
    "### Number of cells active during spindle/SO"
   ]
  },
  {
   "cell_type": "code",
   "execution_count": null,
   "id": "eae7562b",
   "metadata": {
    "scrolled": false
   },
   "outputs": [
    {
     "data": {
      "text/plain": [
       "(-5.0, 80.0)"
      ]
     },
     "execution_count": 32,
     "metadata": {},
     "output_type": "execute_result"
    },
    {
     "data": {
      "image/png": "[encoded data removed]",
      "text/plain": [
       "<Figure size 316.8x595.44 with 1 Axes>"
      ]
     },
     "metadata": {},
     "output_type": "display_data"
    }
   ],
   "source": [
    "# for all data\n",
    "#sns.histplot(data = df_nr_spindle_active_cells[df_nr_spindle_active_cells.state == -2], \n",
    "           #  x = \"nr_active_cells\", stat='density', binwidth = 1)\n",
    "sns.set(rc={'figure.figsize':(4.4,8.27)})\n",
    "sns.set_style(\"ticks\")\n",
    "sns.boxplot(data = df_nr_spindle_active_cells[df_nr_spindle_active_cells.state == -2], \n",
    "             y = \"nr_active_cells\", fliersize=3,linewidth=4,palette=['green'])\n",
    "plt.ylim(-5,80)\n",
    "\n",
    "#if save_fig:\n",
    " #   plt.savefig(fig_save_add + 'L:/analysis_nima/epoch_based_analysis/spindle_active_cells/awake_so_active_cells.pdf', dpi=600, format='pdf')"
   ]
  },
  {
   "cell_type": "code",
   "execution_count": null,
   "id": "13984b70",
   "metadata": {
    "scrolled": false
   },
   "outputs": [],
   "source": [
    "\n",
    "sns.histplot(data = df_nr_spindle_active_cells[df_nr_spindle_active_cells.state == -2], \n",
    "             x = \"norm_active_cells\", stat='density', binwidth = 1)\n",
    "if save_fig:\n",
    "    plt.savefig(fig_save_add + 'L:/analysis_nima/epoch_based_analysis/spindle_active_cells/spindle_active_norm_cells_sws.pdf', dpi=300, format='pdf')"
   ]
  },
  {
   "cell_type": "markdown",
   "id": "129ce606",
   "metadata": {},
   "source": [
    "# Plotting of analyses"
   ]
  },
  {
   "cell_type": "markdown",
   "id": "31032656",
   "metadata": {},
   "source": [
    "### Spindle/Slow Oscillation"
   ]
  },
  {
   "cell_type": "markdown",
   "id": "47571c5d",
   "metadata": {},
   "source": [
    "#### Frequency Type 3 active cells"
   ]
  },
  {
   "cell_type": "code",
   "execution_count": null,
   "id": "9703241f",
   "metadata": {
    "scrolled": true
   },
   "outputs": [
    {
     "data": {
      "text/plain": [
       "<AxesSubplot:xlabel='nr_active_cells', ylabel='Density'>"
      ]
     },
     "execution_count": 38,
     "metadata": {},
     "output_type": "execute_result"
    },
    {
     "data": {
      "image/png": "[encoded data removed]",
      "text/plain": [
       "<Figure size 316.8x595.44 with 1 Axes>"
      ]
     },
     "metadata": {},
     "output_type": "display_data"
    }
   ],
   "source": [
    "sns.histplot(data = df_spindle_firing[df_spindle_firing.Pattern==1], x = \"nr_active_cells\", \n",
    "            stat = 'density', binwidth=1)\n",
    "#if save_fig:\n",
    " #   plt.savefig(fig_save_add + 'L:/analysis_nima/epoch_based_analysis/spindle_active_cells/spindle_active_cells_sws_triplet3.pdf', dpi=300, format='pdf')"
   ]
  },
  {
   "cell_type": "code",
   "execution_count": null,
   "id": "b0d1ec17",
   "metadata": {},
   "outputs": [
    {
     "data": {
      "text/plain": [
       "<seaborn.axisgrid.FacetGrid at 0x71f378b0>"
      ]
     },
     "execution_count": 39,
     "metadata": {},
     "output_type": "execute_result"
    },
    {
     "data": {
      "image/png": "[encoded data removed]",
      "text/plain": [
       "<Figure size 1304.8x648 with 7 Axes>"
      ]
     },
     "metadata": {},
     "output_type": "display_data"
    }
   ],
   "source": [
    "myGrid = sns.FacetGrid(data=df_spindle_firing[df_spindle_firing.Pattern==1], \n",
    "                       col='name', col_wrap=3, aspect=2)\n",
    "myplot = myGrid.map(sns.histplot, 'nr_active_cells',binwidth=1, stat = 'density')\n",
    "myplot.add_legend()\n",
    "#if save_file:\n",
    " #   df_spindle_firing[df_spindle_firing.Pattern==1].to_csv(path_or_buf=file_save_add + 'L:/analysis_nima/statistics_epoch_based/Triplet_type3_fr/Type3_fr_based_on_top20%_divided_thirds_slo_active.csv')\n",
    "#if save_fig:\n",
    "    #plt.savefig(fig_save_add + 'L:/analysis_nima/epoch_based_analysis/spindle_active_cells/slo_active_cells_sws_triplet3_all_mice.pdf', dpi=300, format='pdf')"
   ]
  },
  {
   "cell_type": "markdown",
   "id": "5d0e0e1c",
   "metadata": {},
   "source": [
    "### Frequency not divided"
   ]
  },
  {
   "cell_type": "code",
   "execution_count": null,
   "id": "1a5444d5",
   "metadata": {},
   "outputs": [
    {
     "name": "stderr",
     "output_type": "stream",
     "text": [
      "C:\\Users\\admin\\AppData\\Local\\Temp/ipykernel_9648/1727883069.py:11: RuntimeWarning: Mean of empty slice\n",
      "  df_spindle_firing = df_spindle_firing.append(pd.DataFrame({'FiringRate':[np.nanmean(data_list[indDict['type3'][ii]]['avg_firing_perSecond'][data_list[indDict['type3'][0]]['spindle_top20_diff_firing'][0]])],\n"
     ]
    }
   ],
   "source": [
    "##frequency without levels\n",
    "\n",
    "# plotting average firing rate \n",
    "\n",
    "df_spindle_firing = pd.DataFrame()\n",
    "\n",
    "\n",
    "for i, indDict in enumerate(data_list):\n",
    "    if (not isinstance(indDict['type3'], int)) and (len(indDict['spi_osc_data'])):\n",
    "        for ii in range(3):\n",
    "            df_spindle_firing = df_spindle_firing.append(pd.DataFrame({'FiringRate':[np.nanmean(data_list[indDict['type3'][ii]]['avg_firing_perSecond'][data_list[indDict['type3'][0]]['spindle_top20_diff_firing'][0]])], \n",
    "                                                                 'name':indDict['mouseName'], \n",
    "                                                                 'Pattern': ii + 1, \n",
    "                                                                 'epochID': i}), ignore_index = True)\n",
    "    "
   ]
  },
  {
   "cell_type": "code",
   "execution_count": null,
   "id": "9d42e847",
   "metadata": {},
   "outputs": [
    {
     "name": "stderr",
     "output_type": "stream",
     "text": [
      "C:\\Users\\admin\\AppData\\Local\\Temp/ipykernel_9648/664493566.py:3: FutureWarning: This dataframe has a column name that matches the 'value_name' column name of the resulting Dataframe. In the future this will raise an error, please set the 'value_name' parameter of DataFrame.melt to a unique name.\n",
      "  df_temp = df_spindle_firing.melt(id_vars=['name', 'Pattern', 'epochID'], var_name='subEpoch', value_name='FiringRate')\n"
     ]
    },
    {
     "data": {
      "text/plain": [
       "(0.0, 0.2)"
      ]
     },
     "execution_count": 59,
     "metadata": {},
     "output_type": "execute_result"
    },
    {
     "data": {
      "image/png": "[encoded data removed]",
      "text/plain": [
       "<Figure size 316.8x595.44 with 1 Axes>"
      ]
     },
     "metadata": {},
     "output_type": "display_data"
    }
   ],
   "source": [
    "### Boxplot\n",
    "df_temp = pd.DataFrame()\n",
    "df_temp = df_spindle_firing.melt(id_vars=['name', 'Pattern', 'epochID'], var_name='subEpoch', value_name='FiringRate')\n",
    "x = df_temp\n",
    "sns.set(rc={'figure.figsize':(4.4,8.27)})\n",
    "sns.set_style(\"ticks\")\n",
    "g=sns.boxplot(x=\"Pattern\", y=\"FiringRate\",dodge=False,fliersize=3,palette=['darkorange','limegreen','darkorange'],linewidth=4,data=x )\n",
    "#g=sns.boxplot(x=\"Pattern\", y=\"FiringRate\",dodge=False,fliersize=3,palette=['darkorange','royalblue','darkorange'],linewidth=4,data=x )\n",
    "\n",
    "#g.set_xticklabels(['SWSn','REM','SWSn.1'])\n",
    "plt.ylim(0,0.2)\n",
    "#plt.ylim(0.05,0.07)\n",
    "#if save_file:\n",
    "  #  df_spindle_firing.to_csv(path_or_buf=file_save_add + 'L:/analysis_nima/statistics_epoch_based/Triplet_type3_fr/900-10000frames_sws_awake_sws/frontal_electrode/spindle/Type3_fr_based_on_top20%_spindle_active.csv')\n",
    "    #df_spindle_firing.to_csv(path_or_buf=file_save_add + 'L:/analysis_nima/statistics_epoch_based/Triplet_type3_fr/sws_rem_sws/frontal_electrode/spindle/20%/Type3_fr_based_on_top20%_spindle_active.csv')\n",
    "\n",
    "#if save_fig:\n",
    " #   plt.savefig(fig_save_add + 'L:/analysis_nima/epoch_based_analysis/Triplet_type3_fr/all_mice_sws_awake_sws_900_10000/frontal_electrode/spindle/Type3_fr_based_on_top20%_spindle_active.pdf', dpi=600, format='pdf')\n",
    "        #plt.savefig(fig_save_add + 'L:/analysis_nima/epoch_based_analysis/Triplet_type3_fr/all_mice_sws_rem_sws/frontal_electrode/spindle/Type3_fr_based_on_top20%_spindle_active.pdf', dpi=600, format='pdf')"
   ]
  },
  {
   "cell_type": "markdown",
   "id": "8b3a0a63",
   "metadata": {},
   "source": [
    "### Triplet 3 frequency based on top x% of spindle (active) not divided to n"
   ]
  },
  {
   "cell_type": "code",
   "execution_count": null,
   "id": "28c4242f",
   "metadata": {},
   "outputs": [
    {
     "name": "stderr",
     "output_type": "stream",
     "text": [
      "C:\\Users\\admin\\AppData\\Local\\Temp/ipykernel_9648/1727883069.py:11: RuntimeWarning: Mean of empty slice\n",
      "  df_spindle_firing = df_spindle_firing.append(pd.DataFrame({'FiringRate':[np.nanmean(data_list[indDict['type3'][ii]]['avg_firing_perSecond'][data_list[indDict['type3'][0]]['spindle_top20_diff_firing'][0]])],\n"
     ]
    }
   ],
   "source": [
    "##frequency without levels\n",
    "\n",
    "# plotting average firing rate \n",
    "\n",
    "df_spindle_firing = pd.DataFrame()\n",
    "\n",
    "\n",
    "for i, indDict in enumerate(data_list):\n",
    "    if (not isinstance(indDict['type3'], int)) and (len(indDict['spi_osc_data'])):\n",
    "        for ii in range(3):\n",
    "            df_spindle_firing = df_spindle_firing.append(pd.DataFrame({'FiringRate':[np.nanmean(data_list[indDict['type3'][ii]]['avg_firing_perSecond'][data_list[indDict['type3'][0]]['spindle_top20_diff_firing'][0]])], \n",
    "                                                                 'name':indDict['mouseName'], \n",
    "                                                                 'Pattern': ii + 1, \n",
    "                                                                 'epochID': i}), ignore_index = True)\n",
    "    "
   ]
  },
  {
   "cell_type": "code",
   "execution_count": null,
   "id": "8d9da351",
   "metadata": {},
   "outputs": [
    {
     "name": "stderr",
     "output_type": "stream",
     "text": [
      "C:\\Users\\admin\\AppData\\Local\\Temp/ipykernel_9648/829178485.py:3: FutureWarning: This dataframe has a column name that matches the 'value_name' column name of the resulting Dataframe. In the future this will raise an error, please set the 'value_name' parameter of DataFrame.melt to a unique name.\n",
      "  df_temp = df_spindle_firing.melt(id_vars=['name', 'Pattern', 'epochID'], var_name='subEpoch', value_name='FiringRate')\n"
     ]
    },
    {
     "data": {
      "text/plain": [
       "(0.0, 0.2)"
      ]
     },
     "execution_count": 71,
     "metadata": {},
     "output_type": "execute_result"
    },
    {
     "data": {
      "image/png": "[encoded data removed]",
      "text/plain": [
       "<Figure size 316.8x595.44 with 1 Axes>"
      ]
     },
     "metadata": {},
     "output_type": "display_data"
    }
   ],
   "source": [
    "### Boxplot\n",
    "df_temp = pd.DataFrame()\n",
    "df_temp = df_spindle_firing.melt(id_vars=['name', 'Pattern', 'epochID'], var_name='subEpoch', value_name='FiringRate')\n",
    "x = df_temp\n",
    "sns.set(rc={'figure.figsize':(4.4,8.27)})\n",
    "sns.set_style(\"ticks\")\n",
    "g=sns.boxplot(x=\"Pattern\", y=\"FiringRate\",dodge=False,fliersize=3,palette=['darkorange','limegreen','darkorange'],linewidth=4,data=x )\n",
    "#g=sns.boxplot(x=\"Pattern\", y=\"FiringRate\",dodge=False,fliersize=3,palette=['darkorange','royalblue','darkorange'],linewidth=4,data=x )\n",
    "\n",
    "#g.set_xticklabels(['SWSn','REM','SWSn.1'])\n",
    "plt.ylim(0,0.2)\n",
    "#plt.ylim(0.05,0.07)\n",
    "#if save_file:\n",
    "  #  df_spindle_firing.to_csv(path_or_buf=file_save_add + 'L:/analysis_nima/statistics_epoch_based/Triplet_type3_fr/900-10000frames_sws_awake_sws/frontal_electrode/spindle/Type3_fr_based_on_top20%_spindle_active.csv')\n",
    "    #df_spindle_firing.to_csv(path_or_buf=file_save_add + 'L:/analysis_nima/statistics_epoch_based/Triplet_type3_fr/sws_rem_sws/frontal_electrode/spindle/20%/Type3_fr_based_on_top20%_spindle_active.csv')\n",
    "\n",
    "#if save_fig:\n",
    " #   plt.savefig(fig_save_add + 'L:/analysis_nima/epoch_based_analysis/Triplet_type3_fr/all_mice_sws_awake_sws_900_10000/frontal_electrode/spindle/Type3_fr_based_on_top20%_spindle_active.pdf', dpi=600, format='pdf')\n",
    "        #plt.savefig(fig_save_add + 'L:/analysis_nima/epoch_based_analysis/Triplet_type3_fr/all_mice_sws_rem_sws/frontal_electrode/spindle_coupled/Type3_fr_based_on_top20%_spindle_active.pdf', dpi=600, format='pdf')"
   ]
  },
  {
   "cell_type": "markdown",
   "id": "a0d063e7",
   "metadata": {},
   "source": [
    "### Triplet 3 frequency based on least x% of spindle (inactive) not divided to n"
   ]
  },
  {
   "cell_type": "code",
   "execution_count": null,
   "id": "00a02d80",
   "metadata": {},
   "outputs": [
    {
     "name": "stderr",
     "output_type": "stream",
     "text": [
      "C:\\Users\\admin\\AppData\\Local\\Temp/ipykernel_9648/1722844959.py:11: RuntimeWarning: Mean of empty slice\n",
      "  df_spindle_firing = df_spindle_firing.append(pd.DataFrame({'FiringRate':[np.nanmean(data_list[indDict['type3'][ii]]['avg_firing_perSecond'][data_list[indDict['type3'][0]]['spindle_least20_diff_firing'][0]])],\n"
     ]
    }
   ],
   "source": [
    "##frequency without levels\n",
    "\n",
    "# plotting average firing rate \n",
    "\n",
    "df_spindle_firing = pd.DataFrame()\n",
    "\n",
    "\n",
    "for i, indDict in enumerate(data_list):\n",
    "    if (not isinstance(indDict['type3'], int)) and (len(indDict['spi_osc_data'])):\n",
    "        for ii in range(3):\n",
    "            df_spindle_firing = df_spindle_firing.append(pd.DataFrame({'FiringRate':[np.nanmean(data_list[indDict['type3'][ii]]['avg_firing_perSecond'][data_list[indDict['type3'][0]]['spindle_least20_diff_firing'][0]])], \n",
    "                                                                 'name':indDict['mouseName'], \n",
    "                                                                 'Pattern': ii + 1, \n",
    "                                                                 'epochID': i}), ignore_index = True)\n",
    "    "
   ]
  },
  {
   "cell_type": "code",
   "execution_count": null,
   "id": "326f074c",
   "metadata": {},
   "outputs": [
    {
     "name": "stderr",
     "output_type": "stream",
     "text": [
      "C:\\Users\\admin\\AppData\\Local\\Temp/ipykernel_9648/3638969745.py:3: FutureWarning: This dataframe has a column name that matches the 'value_name' column name of the resulting Dataframe. In the future this will raise an error, please set the 'value_name' parameter of DataFrame.melt to a unique name.\n",
      "  df_temp = df_spindle_firing.melt(id_vars=['name', 'Pattern', 'epochID'], var_name='subEpoch', value_name='FiringRate')\n"
     ]
    },
    {
     "data": {
      "text/plain": [
       "(0.0, 0.2)"
      ]
     },
     "execution_count": 73,
     "metadata": {},
     "output_type": "execute_result"
    },
    {
     "data": {
      "image/png": "[encoded data removed]",
      "text/plain": [
       "<Figure size 316.8x595.44 with 1 Axes>"
      ]
     },
     "metadata": {},
     "output_type": "display_data"
    }
   ],
   "source": [
    "### Boxplot\n",
    "df_temp = pd.DataFrame()\n",
    "df_temp = df_spindle_firing.melt(id_vars=['name', 'Pattern', 'epochID'], var_name='subEpoch', value_name='FiringRate')\n",
    "x = df_temp\n",
    "sns.set(rc={'figure.figsize':(4.4,8.27)})\n",
    "sns.set_style(\"ticks\")\n",
    "g=sns.boxplot(x=\"Pattern\", y=\"FiringRate\",dodge=False,fliersize=3,palette=['darkorange','limegreen','darkorange'],linewidth=4,data=x )\n",
    "#g=sns.boxplot(x=\"Pattern\", y=\"FiringRate\",dodge=False,fliersize=3,palette=['darkorange','royalblue','darkorange'],linewidth=4,data=x )\n",
    "\n",
    "#g.set_xticklabels(['SWSn','REM','SWSn.1'])\n",
    "plt.ylim(0,0.2)\n",
    "#plt.ylim(0.05,0.07)\n",
    "#if save_file:\n",
    "  #  df_spindle_firing.to_csv(path_or_buf=file_save_add + 'L:/analysis_nima/statistics_epoch_based/Triplet_type3_fr/900-10000frames_sws_awake_sws/frontal_electrode/spindle/Type3_fr_based_on_least20%_spindle_active.csv')\n",
    "    #df_spindle_firing.to_csv(path_or_buf=file_save_add + 'L:/analysis_nima/statistics_epoch_based/Triplet_type3_fr/sws_rem_sws/frontal_electrode/spindle/20%/Type3_fr_based_on_least20%_spindle_active.csv')\n",
    "\n",
    "#if save_fig:\n",
    " #   plt.savefig(fig_save_add + 'L:/analysis_nima/epoch_based_analysis/Triplet_type3_fr/all_mice_sws_awake_sws_900_10000/frontal_electrode/spindle/Type3_fr_based_on_least20%_spindle_active.pdf', dpi=600, format='pdf')\n",
    "        #plt.savefig(fig_save_add + 'L:/analysis_nima/epoch_based_analysis/Triplet_type3_fr/all_mice_sws_rem_sws/frontal_electrode/spindle_coupled/Type3_fr_based_on_least20%_spindle_active.pdf', dpi=600, format='pdf')"
   ]
  },
  {
   "cell_type": "markdown",
   "id": "1df69794",
   "metadata": {},
   "source": [
    "### Frequency divided in thirds spindle active cells"
   ]
  },
  {
   "cell_type": "code",
   "execution_count": null,
   "id": "be40f34b",
   "metadata": {
    "scrolled": true
   },
   "outputs": [],
   "source": [
    "# plotting average firing rate \n",
    "\n",
    "df_spindle_firing = pd.DataFrame()\n",
    "\n",
    "\n",
    "for i, indDict in enumerate(data_list):\n",
    "    if (not isinstance(indDict['type3'], int)) and (len(indDict['spi_osc_data'])):\n",
    "        for ii in range(3):\n",
    "            df_spindle_firing = df_spindle_firing.append(pd.DataFrame({'1th':[np.nanmean(data_list[indDict['type3'][ii]]['div_avg_firing_perSecond'][0][data_list[indDict['type3'][0]]['spindle_top20_diff_firing'][0]])], \n",
    "                                                                       '2th':[np.nanmean(data_list[indDict['type3'][ii]]['div_avg_firing_perSecond'][1][data_list[indDict['type3'][0]]['spindle_top20_diff_firing'][0]])], \n",
    "                                                                       '3th':[np.nanmean(data_list[indDict['type3'][ii]]['div_avg_firing_perSecond'][2][data_list[indDict['type3'][0]]['spindle_top20_diff_firing'][0]])], \n",
    "                                                                       'name':indDict['mouseName'], \n",
    "                                                                       'Pattern': ii+1,                                                                        \n",
    "                                                                       'epochID': i}), ignore_index = True)\n",
    "\n",
    "                                                                       "
   ]
  },
  {
   "cell_type": "code",
   "execution_count": null,
   "id": "c563a7d4",
   "metadata": {},
   "outputs": [],
   "source": [
    "df_temp = pd.DataFrame()\n",
    "df_temp = df_spindle_firing.melt(id_vars=['name', 'Pattern', 'epochID'], var_name='Levels', value_name='firing_rate')\n",
    "df_temp\n",
    "myGrid = sns.FacetGrid(data=df_temp, col='Pattern', col_wrap=3, aspect=1, ylim=[0, 0.2])\n",
    "#myplot = myGrid.map(sns.boxplot, 'Levels', 'firing_rate' ,fliersize=3,linewidth=4, palette=['darkorange','royalblue','darkorange'])\n",
    "myplot = myGrid.map(sns.boxplot, 'Levels', 'firing_rate' ,fliersize=3,linewidth=4, palette=['darkorange','limegreen','darkorange'])\n",
    "\n",
    "#if save_file:\n",
    " #   df_temp.to_csv(path_or_buf=file_save_add + 'L:/analysis_nima/statistics_epoch_based/Triplet_type3_fr/900-10000frames_sws_awake_sws/frontal_electrode/spindle_coupled/Type3_fr_boxplot_spindle_coupled_active_with_levels.csv')\n",
    "#if save_fig:\n",
    " #   plt.savefig(fig_save_add + 'L:/analysis_nima/epoch_based_analysis/Triplet_type3_fr/all_mice_sws_awake_sws_900_10000/frontal_electrode/spindle_coupled/Type3_fr_boxplot_spindle_coupled_active_with_levels.pdf', dpi=600, format='pdf')"
   ]
  },
  {
   "cell_type": "markdown",
   "id": "8f96e24c",
   "metadata": {},
   "source": [
    "### Frequency divided in thirds spindle inactive cells\n"
   ]
  },
  {
   "cell_type": "code",
   "execution_count": null,
   "id": "24645a61",
   "metadata": {},
   "outputs": [],
   "source": [
    "# plotting average firing rate \n",
    "\n",
    "df_spindle_firing = pd.DataFrame()\n",
    "\n",
    "\n",
    "for i, indDict in enumerate(data_list):\n",
    "    if (not isinstance(indDict['type3'], int)) and (len(indDict['spi_osc_data'])):\n",
    "        for ii in range(3):\n",
    "            df_spindle_firing = df_spindle_firing.append(pd.DataFrame({'1th':[np.nanmean(data_list[indDict['type3'][ii]]['div_avg_firing_perSecond'][0][data_list[indDict['type3'][0]]['spindle_least20_diff_firing'][0]])], \n",
    "                                                                       '2th':[np.nanmean(data_list[indDict['type3'][ii]]['div_avg_firing_perSecond'][1][data_list[indDict['type3'][0]]['spindle_least20_diff_firing'][0]])], \n",
    "                                                                       '3th':[np.nanmean(data_list[indDict['type3'][ii]]['div_avg_firing_perSecond'][2][data_list[indDict['type3'][0]]['spindle_least20_diff_firing'][0]])], \n",
    "                                                                       'name':indDict['mouseName'], \n",
    "                                                                       'Pattern': ii+1,                                                                        \n",
    "                                                                       'epochID': i}), ignore_index = True)\n",
    "\n",
    "                                                                       "
   ]
  },
  {
   "cell_type": "code",
   "execution_count": null,
   "id": "1bbde672",
   "metadata": {},
   "outputs": [],
   "source": [
    "df_temp = pd.DataFrame()\n",
    "df_temp = df_spindle_firing.melt(id_vars=['name', 'Pattern', 'epochID'], var_name='Levels', value_name='firing_rate')\n",
    "df_temp\n",
    "myGrid = sns.FacetGrid(data=df_temp, col='Pattern', col_wrap=3, aspect=1, ylim=[0, 0.2])\n",
    "#myplot = myGrid.map(sns.boxplot, 'Levels', 'firing_rate' ,fliersize=3,linewidth=4, palette=['darkorange','royalblue','darkorange'])\n",
    "myplot = myGrid.map(sns.boxplot, 'Levels', 'firing_rate' ,fliersize=3,linewidth=4, palette=['darkorange','limegreen','darkorange'])\n",
    "\n",
    "#if save_file:\n",
    " #   df_temp.to_csv(path_or_buf=file_save_add + 'L:/analysis_nima/statistics_epoch_based/Triplet_type3_fr/900-10000frames_sws_awake_sws/frontal_electrode/spindle_coupled/Type3_fr_boxplot_spindle_coupled_inactive_with_levels.csv')\n",
    "#if save_fig:\n",
    " #   plt.savefig(fig_save_add + 'L:/analysis_nima/epoch_based_analysis/Triplet_type3_fr/all_mice_sws_awake_sws_900_10000/frontal_electrode/spindle_coupled/Type3_fr_boxplot_spindle_coupled_inactive_with_levels.pdf', dpi=600, format='pdf')"
   ]
  },
  {
   "cell_type": "markdown",
   "id": "b5264a47",
   "metadata": {},
   "source": [
    "### here"
   ]
  },
  {
   "cell_type": "markdown",
   "id": "37af04a4",
   "metadata": {},
   "source": [
    "### Frequency based on top x% (first element) of spindle active divided to n"
   ]
  },
  {
   "cell_type": "code",
   "execution_count": null,
   "id": "49480057",
   "metadata": {
    "scrolled": false
   },
   "outputs": [
    {
     "name": "stderr",
     "output_type": "stream",
     "text": [
      "C:\\Users\\admin\\AppData\\Local\\Temp/ipykernel_9648/3777433627.py:9: RuntimeWarning: Mean of empty slice\n",
      "  df_spindle_firing = df_spindle_firing.append(pd.DataFrame({'1th':[np.nanmean(data_list[indDict['type3'][ii]]['div_avg_firing_perSecond'][0][data_list[indDict['type3'][0]]['spindle_top20_diff_firing'][0]])],\n",
      "C:\\Users\\admin\\AppData\\Local\\Temp/ipykernel_9648/3777433627.py:11: RuntimeWarning: Mean of empty slice\n",
      "  '3th':[np.nanmean(data_list[indDict['type3'][ii]]['div_avg_firing_perSecond'][2][data_list[indDict['type3'][0]]['spindle_top20_diff_firing'][0]])],\n",
      "C:\\Users\\admin\\AppData\\Local\\Temp/ipykernel_9648/3777433627.py:10: RuntimeWarning: Mean of empty slice\n",
      "  '2th':[np.nanmean(data_list[indDict['type3'][ii]]['div_avg_firing_perSecond'][1][data_list[indDict['type3'][0]]['spindle_top20_diff_firing'][0]])],\n"
     ]
    }
   ],
   "source": [
    "# NEW\n",
    "\n",
    "df_spindle_firing = pd.DataFrame()\n",
    "\n",
    "\n",
    "for i, indDict in enumerate(data_list):\n",
    "    if (not isinstance(indDict['type3'], int)) and (len(indDict['spi_osc_data'])):\n",
    "        for ii in range(3):\n",
    "            df_spindle_firing = df_spindle_firing.append(pd.DataFrame({'1th':[np.nanmean(data_list[indDict['type3'][ii]]['div_avg_firing_perSecond'][0][data_list[indDict['type3'][0]]['spindle_top20_diff_firing'][0]])], \n",
    "                                                                       '2th':[np.nanmean(data_list[indDict['type3'][ii]]['div_avg_firing_perSecond'][1][data_list[indDict['type3'][0]]['spindle_top20_diff_firing'][0]])], \n",
    "                                                                       '3th':[np.nanmean(data_list[indDict['type3'][ii]]['div_avg_firing_perSecond'][2][data_list[indDict['type3'][0]]['spindle_top20_diff_firing'][0]])], \n",
    "                                                                       'name':indDict['mouseName'], \n",
    "                                                                       'Pattern': ii+1, \n",
    "                                                                       'epochID': i}), ignore_index = True)\n",
    "    \n"
   ]
  },
  {
   "cell_type": "code",
   "execution_count": null,
   "id": "05eb681c",
   "metadata": {
    "scrolled": true
   },
   "outputs": [
    {
     "name": "stderr",
     "output_type": "stream",
     "text": [
      "C:\\Users\\admin\\Anaconda3\\envs\\sleep_project\\lib\\site-packages\\seaborn\\axisgrid.py:670: UserWarning: Using the boxplot function without specifying `order` is likely to produce an incorrect plot.\n",
      "  warnings.warn(warning)\n"
     ]
    },
    {
     "data": {
      "image/png": "[encoded data removed]",
      "text/plain": [
       "<Figure size 648x216 with 3 Axes>"
      ]
     },
     "metadata": {},
     "output_type": "display_data"
    }
   ],
   "source": [
    "df_temp = pd.DataFrame()\n",
    "df_temp = df_spindle_firing.melt(id_vars=['name', 'Pattern', 'epochID'], var_name='Levels', value_name='firing_rate')\n",
    "df_temp\n",
    "myGrid = sns.FacetGrid(data=df_temp, col='Pattern', col_wrap=3, aspect=1, ylim=[0, 0.2])\n",
    "#myplot = myGrid.map(sns.boxplot, 'Levels', 'firing_rate' ,fliersize=3,linewidth=4, palette=['darkorange','royalblue','darkorange'])\n",
    "myplot = myGrid.map(sns.boxplot, 'Levels', 'firing_rate' ,fliersize=3,linewidth=4, palette=['darkorange','limegreen','darkorange'])\n",
    "\n",
    "#if save_file:\n",
    "  #  df_temp.to_csv(path_or_buf=file_save_add + 'L:/analysis_nima/statistics_epoch_based/Triplet_type3_fr/900-10000frames_sws_awake_sws/frontal_electrode/spindle_coupled/Type3_fr_boxplot_spindle_coupled_active_with_levels.csv')\n",
    "#if save_fig:\n",
    "  #  plt.savefig(fig_save_add + 'L:/analysis_nima/epoch_based_analysis/Triplet_type3_fr/all_mice_sws_awake_sws_900_10000/frontal_electrode/spindle_coupled/Type3_fr_boxplot_spindle_coupled_active_with_levels.pdf', dpi=600, format='pdf')"
   ]
  },
  {
   "cell_type": "markdown",
   "id": "d44d13d3",
   "metadata": {},
   "source": [
    "### Frequency based on least x% of spindle (inactive) divided to n"
   ]
  },
  {
   "cell_type": "code",
   "execution_count": null,
   "id": "6a1b4ccc",
   "metadata": {},
   "outputs": [
    {
     "name": "stderr",
     "output_type": "stream",
     "text": [
      "C:\\Users\\admin\\AppData\\Local\\Temp/ipykernel_9648/1735280890.py:11: RuntimeWarning: Mean of empty slice\n",
      "  '3th':[np.nanmean(data_list[indDict['type3'][ii]]['div_avg_firing_perSecond'][2][data_list[indDict['type3'][0]]['spindle_least20_diff_firing'][0]])],\n",
      "C:\\Users\\admin\\AppData\\Local\\Temp/ipykernel_9648/1735280890.py:9: RuntimeWarning: Mean of empty slice\n",
      "  df_spindle_firing = df_spindle_firing.append(pd.DataFrame({'1th':[np.nanmean(data_list[indDict['type3'][ii]]['div_avg_firing_perSecond'][0][data_list[indDict['type3'][0]]['spindle_least20_diff_firing'][0]])],\n",
      "C:\\Users\\admin\\AppData\\Local\\Temp/ipykernel_9648/1735280890.py:10: RuntimeWarning: Mean of empty slice\n",
      "  '2th':[np.nanmean(data_list[indDict['type3'][ii]]['div_avg_firing_perSecond'][1][data_list[indDict['type3'][0]]['spindle_least20_diff_firing'][0]])],\n"
     ]
    }
   ],
   "source": [
    "# plotting average firing rate \n",
    "\n",
    "df_spindle_firing = pd.DataFrame()\n",
    "\n",
    "\n",
    "for i, indDict in enumerate(data_list):\n",
    "    if (not isinstance(indDict['type3'], int)) and (len(indDict['spi_osc_data'])):\n",
    "        for ii in range(3):\n",
    "            df_spindle_firing = df_spindle_firing.append(pd.DataFrame({'1th':[np.nanmean(data_list[indDict['type3'][ii]]['div_avg_firing_perSecond'][0][data_list[indDict['type3'][0]]['spindle_least20_diff_firing'][0]])], \n",
    "                                                                       '2th':[np.nanmean(data_list[indDict['type3'][ii]]['div_avg_firing_perSecond'][1][data_list[indDict['type3'][0]]['spindle_least20_diff_firing'][0]])], \n",
    "                                                                       '3th':[np.nanmean(data_list[indDict['type3'][ii]]['div_avg_firing_perSecond'][2][data_list[indDict['type3'][0]]['spindle_least20_diff_firing'][0]])], \n",
    "                                                                       'name':indDict['mouseName'], \n",
    "                                                                       'Pattern': ii+1, \n",
    "                                                                       'epochID': i}), ignore_index = True)\n",
    "    \n"
   ]
  },
  {
   "cell_type": "code",
   "execution_count": null,
   "id": "65fbd191",
   "metadata": {},
   "outputs": [
    {
     "name": "stderr",
     "output_type": "stream",
     "text": [
      "C:\\Users\\admin\\Anaconda3\\envs\\sleep_project\\lib\\site-packages\\seaborn\\axisgrid.py:670: UserWarning: Using the boxplot function without specifying `order` is likely to produce an incorrect plot.\n",
      "  warnings.warn(warning)\n"
     ]
    },
    {
     "data": {
      "image/png": "[encoded data removed]",
      "text/plain": [
       "<Figure size 648x216 with 3 Axes>"
      ]
     },
     "metadata": {},
     "output_type": "display_data"
    }
   ],
   "source": [
    "df_temp = pd.DataFrame()\n",
    "df_temp = df_spindle_firing.melt(id_vars=['name', 'Pattern', 'epochID'], var_name='Levels', value_name='firing_rate')\n",
    "df_temp\n",
    "myGrid = sns.FacetGrid(data=df_temp, col='Pattern', col_wrap=3, aspect=1, ylim=[0, 0.2])\n",
    "#myplot = myGrid.map(sns.boxplot, 'Levels', 'firing_rate' ,fliersize=3,linewidth=4, palette=['darkorange','royalblue','darkorange'])\n",
    "myplot = myGrid.map(sns.boxplot, 'Levels', 'firing_rate' ,fliersize=3,linewidth=4, palette=['darkorange','limegreen','darkorange'])\n",
    "\n",
    "#if save_file:\n",
    "  #  df_temp.to_csv(path_or_buf=file_save_add + 'L:/analysis_nima/statistics_epoch_based/Triplet_type3_fr/900-10000frames_sws_awake_sws/frontal_electrode/spindle_coupled/Type3_fr_boxplot_spindle_coupled_inactive_with_levels.csv')\n",
    "#if save_fig:\n",
    "  #  plt.savefig(fig_save_add + 'L:/analysis_nima/epoch_based_analysis/Triplet_type3_fr/all_mice_sws_awake_sws_900_10000/frontal_electrode/spindle_coupled/Type3_fr_boxplot_spindle_coupled_inactive_with_levels.pdf', dpi=600, format='pdf')"
   ]
  },
  {
   "attachments": {},
   "cell_type": "markdown",
   "id": "6239caa8",
   "metadata": {},
   "source": [
    "### Fraction of the same spindle/SO active cells in 2 subsequent SWS epochs\n"
   ]
  },
  {
   "cell_type": "code",
   "execution_count": null,
   "id": "d64273e4",
   "metadata": {
    "scrolled": true
   },
   "outputs": [],
   "source": [
    "plt.hist(data_list[56][\"data\"].shape"
   ]
  },
  {
   "cell_type": "code",
   "execution_count": null,
   "id": "e4d02d23",
   "metadata": {},
   "outputs": [],
   "source": [
    "df_spindle_firing = pd.DataFrame()\n",
    "old_spi_slo = []\n",
    "old_index = []\n",
    "old_mouse_name = []\n",
    "\n",
    "for i, indDict in enumerate(data_list):\n",
    "    \n",
    "    if (not isinstance(indDict['type3'], int)) and (len(indDict['spi_osc_data'])) and len(indDict['spi_osc_data']):\n",
    "        \n",
    "        if len(data_list[indDict['type3'][2]]['spi_osc_data']):\n",
    "            \n",
    "            if len(old_spi_slo):\n",
    "                #pdb.set_trace()\n",
    "                new_spi_slo = []\n",
    "                new_spi_slo = data_list[indDict['type3'][2]]['spindle_top20_diff_firing'][0]\n",
    "                fraction = len([rr for rr in old_spi_slo if rr in new_spi_slo]) / len(old_spi_slo)\n",
    "\n",
    "                df_spindle_firing = df_spindle_firing.append(pd.DataFrame({'fraction':[fraction],\n",
    "                                                                     'name':old_mouse_name, \n",
    "                                                                     'epochID': old_index}), ignore_index = True)\n",
    "\n",
    "                old_spi_slo = new_spi_slo\n",
    "                old_index = i\n",
    "                old_mouse_name = indDict['mouseName']\n",
    "\n",
    "\n",
    "            else:\n",
    "                old_spi_slo = indDict['spindle_top20_diff_firing'][0]\n",
    "                old_index = i\n",
    "                old_mouse_name = indDict['mouseName']\n",
    "        "
   ]
  },
  {
   "cell_type": "code",
   "execution_count": null,
   "id": "66b291f2",
   "metadata": {},
   "outputs": [
    {
     "name": "stderr",
     "output_type": "stream",
     "text": [
      "C:\\Users\\admin\\Anaconda3\\envs\\sleep_project\\lib\\site-packages\\seaborn\\distributions.py:2619: FutureWarning: `distplot` is a deprecated function and will be removed in a future version. Please adapt your code to use either `displot` (a figure-level function with similar flexibility) or `histplot` (an axes-level function for histograms).\n",
      "  warnings.warn(msg, FutureWarning)\n"
     ]
    },
    {
     "data": {
      "text/plain": [
       "(0.0, 6.0)"
      ]
     },
     "execution_count": 83,
     "metadata": {},
     "output_type": "execute_result"
    },
    {
     "data": {
      "image/png": "[encoded data removed]",
      "text/plain": [
       "<Figure size 316.8x595.44 with 1 Axes>"
      ]
     },
     "metadata": {},
     "output_type": "display_data"
    }
   ],
   "source": [
    "plt.rcParams[\"patch.force_edgecolor\"] = True\n",
    "\n",
    "sns.distplot(df_spindle_firing[\"fraction\"],color='darkblue', bins = 20,hist=True, hist_kws={\"range\": [0.,0.8]})\n",
    "plt.axvline(x=df_spindle_firing.fraction.median(),\n",
    "            color='red')\n",
    "plt.ylim(0,6)\n",
    "\n"
   ]
  },
  {
   "cell_type": "code",
   "execution_count": null,
   "id": "9fc4785b",
   "metadata": {},
   "outputs": [
    {
     "data": {
      "text/plain": [
       "(0.0, 0.6)"
      ]
     },
     "execution_count": 84,
     "metadata": {},
     "output_type": "execute_result"
    },
    {
     "data": {
      "image/png": "[encoded data removed]",
      "text/plain": [
       "<Figure size 316.8x595.44 with 1 Axes>"
      ]
     },
     "metadata": {},
     "output_type": "display_data"
    }
   ],
   "source": [
    "sns.boxplot(y=\"fraction\", data=df_spindle_firing,dodge=False,fliersize=3,color='darkorange',linewidth=4)\n",
    "plt.ylim(0,.6)\n",
    "#if save_file:\n",
    " #   df_temp.to_csv(path_or_buf=file_save_add + 'L:/analysis_nima/statistics_epoch_based/Triplet_type3_fr/Type3_fr_based_on_top20%_divided_thirds_slo_active.csv')"
   ]
  },
  {
   "cell_type": "markdown",
   "id": "095f997a",
   "metadata": {},
   "source": [
    "#### Frquency Type 4"
   ]
  },
  {
   "cell_type": "markdown",
   "id": "fd48edcc",
   "metadata": {},
   "source": [
    "#### Frequency based on top x% of sindle active"
   ]
  },
  {
   "cell_type": "code",
   "execution_count": null,
   "id": "0d81e8f6",
   "metadata": {},
   "outputs": [],
   "source": [
    "# plotting average firing rate \n",
    "\n",
    "df_typ4_firing = pd.DataFrame()\n",
    "\n",
    "    \n",
    "for i, data_dict in enumerate(data_list):\n",
    "    if not isinstance(data_dict['type4'], int) and (len(data_list[i+1]['spi_osc_data'])):\n",
    "        df_typ4_firing = df_typ4_firing.append(pd.DataFrame({'First':[np.nanmean(data_list[data_dict['type4'][0]]['avg_firing_perSecond'][data_list[data_dict['type4'][1]]['spindle_top20_diff_firing'][0]])],\n",
    "                                                             'Second':[np.nanmean(data_list[data_dict['type4'][1]]['avg_firing_perSecond'][data_list[data_dict['type4'][1]]['spindle_top20_diff_firing'][0]])],\n",
    "                                                             'Third':[np.nanmean(data_list[data_dict['type4'][2]]['avg_firing_perSecond'][data_list[data_dict['type4'][1]]['spindle_top20_diff_firing'][0]])],\n",
    "                                                             'Fourth':[np.nanmean(data_list[data_dict['type4'][3]]['avg_firing_perSecond'][data_list[data_dict['type4'][1]]['spindle_top20_diff_firing'][0]])],\n",
    "                                                             'name':data_dict['mouseName'], \n",
    "                                                             'epochID': i}), ignore_index = True)\n",
    "    \n"
   ]
  },
  {
   "cell_type": "code",
   "execution_count": null,
   "id": "64c58a5a",
   "metadata": {},
   "outputs": [],
   "source": [
    "# plotting average firing rate \n",
    "\n",
    "df_typ4_firing = pd.DataFrame()\n",
    "\n",
    "    \n",
    "for i, data_dict in enumerate(data_list):\n",
    "    if not isinstance(data_dict['type4'], int) and (len(data_list[i+1]['spi_osc_data'])):\n",
    "        df_typ4_firing = df_typ4_firing.append(pd.DataFrame({'First':[np.nanmean(data_list[data_dict['type4'][0]]['avg_firing_perSecond'][data_list[data_dict['type4'][1]]['spindle_top20_diff_firing'][0]])],\n",
    "                                                             'Second':[np.nanmean(data_list[data_dict['type4'][1]]['avg_firing_perSecond'][data_list[data_dict['type4'][1]]['spindle_top20_diff_firing'][0]])],\n",
    "                                                             'Third':[np.nanmean(data_list[data_dict['type4'][2]]['avg_firing_perSecond'][data_list[data_dict['type4'][1]]['spindle_top20_diff_firing'][0]])],\n",
    "                                                             'Fourth':[np.nanmean(data_list[data_dict['type4'][3]]['avg_firing_perSecond'][data_list[data_dict['type4'][1]]['spindle_top20_diff_firing'][0]])],\n",
    "                                                             'name':data_dict['mouseName'], \n",
    "                                                             'epochID': i}), ignore_index = True)\n",
    "    "
   ]
  },
  {
   "cell_type": "code",
   "execution_count": null,
   "id": "fdef3374",
   "metadata": {},
   "outputs": [],
   "source": [
    "df_typ4_firing"
   ]
  },
  {
   "cell_type": "code",
   "execution_count": null,
   "id": "ef3ec55e",
   "metadata": {},
   "outputs": [],
   "source": [
    "### Boxplot\n",
    "df_temp = pd.DataFrame()\n",
    "df_temp = df_typ4_firing.melt(id_vars=['name', 'epochID'], var_name='Pattern', value_name='FiringRate')\n",
    "\n",
    "sns.set(rc={'figure.figsize':(4.4,8.27)})\n",
    "sns.set_style(\"ticks\")\n",
    "g=sns.boxplot(x=\"Pattern\", y=\"FiringRate\",dodge=False,fliersize=3,palette=['limegreen','darkorange','limegreen','darkorange'],linewidth=4,data=df_temp )\n",
    "plt.ylim(0,0.2)\n",
    "if save_file:\n",
    "    df_temp.to_csv(path_or_buf=file_save_add + 'L:/analysis_nima/statistics_epoch_based/Triplet_type4_fr/Type4_fr_spindle_coupled_active_awake_sws_awake_sws.csv')\n",
    "if save_fig:\n",
    "    plt.savefig(fig_save_add + 'L:/analysis_nima/epoch_based_analysis/Triplet_type4_fr/awake_sws_awake_sws/Type4_fr_divided_thirds_boxplot_spindle_coupled_active.pdf', dpi=300, format='pdf')"
   ]
  },
  {
   "cell_type": "code",
   "execution_count": null,
   "id": "13b1a5d4",
   "metadata": {},
   "outputs": [],
   "source": [
    "df_temp = pd.DataFrame()\n",
    "df_temp = df_typ4_firing.melt(id_vars=['name', 'epochID'], var_name='Pattern', value_name='FiringRate')\n",
    "\n",
    "plt.figure(figsize=(10,7))\n",
    "sns.violinplot(data=df_temp, y='FiringRate', x = 'name', hue='Pattern')\n",
    "plt.ylim([-.05, 0.4])\n",
    "#if save_file:\n",
    " #   df_temp.to_csv(path_or_buf=file_save_add + 'L:/analysis_nima/statistics_epoch_based/Triplet_type4_fr/Type4_fr_based_on_top_20%_spindle_active.csv')\n",
    "#if save_fig:\n",
    "    plt.savefig(fig_save_add + 'L:/analysis_nima/epoch_based_analysis/Triplet_type4_fr/awake_sws_awake_sws/Type4_fr_based_on_top_20%_spindle_active.pdf', dpi=300, format='pdf')"
   ]
  },
  {
   "cell_type": "markdown",
   "id": "5e6b2679",
   "metadata": {},
   "source": [
    "#### Frequency based on least x% of sindle active"
   ]
  },
  {
   "cell_type": "code",
   "execution_count": null,
   "id": "5ffa5ef8",
   "metadata": {},
   "outputs": [],
   "source": [
    "###test####\n",
    "df_typ4_firing = pd.DataFrame()\n",
    "\n",
    "\n",
    "for i, indDict in enumerate (data_list):\n",
    "    if not isinstance(indDict['type4'], int):\n",
    "        for ii in range(4):\n",
    "            df_typ4_firing = df_typ4_firing.append(pd.DataFrame({'spi_osc_data':[np.nanmean(data_list[indDict['type4'][ii]]['avg_firing_perSecond'])], \n",
    "                                                                 'name':indDict['mouseName'], \n",
    "                                                                 'Pattern': ii + 1, \n",
    "                                                                 'epochID': i}), ignore_index = True)"
   ]
  },
  {
   "cell_type": "code",
   "execution_count": null,
   "id": "dfa6fe6d",
   "metadata": {},
   "outputs": [],
   "source": [
    "df_typ4_firing.shape"
   ]
  },
  {
   "cell_type": "code",
   "execution_count": null,
   "id": "b5461c6f",
   "metadata": {},
   "outputs": [],
   "source": [
    "# plotting average firing rate \n",
    "\n",
    "df_typ4_firing = pd.DataFrame()\n",
    "\n",
    "    \n",
    "for i, data_dict in enumerate(data_list):\n",
    "    if not isinstance(data_dict['type4'], int) and (len(data_list[i+1]['spi_osc_data'])):\n",
    "        df_typ4_firing = df_typ4_firing.append(pd.DataFrame({'First':[np.nanmean(data_list[data_dict['type4'][0]]['avg_firing_perSecond'][data_list[data_dict['type4'][1]]['spindle_least20_diff_firing'][0]])],\n",
    "                                                             'Second':[np.nanmean(data_list[data_dict['type4'][1]]['avg_firing_perSecond'][data_list[data_dict['type4'][1]]['spindle_least20_diff_firing'][0]])],\n",
    "                                                             'Third':[np.nanmean(data_list[data_dict['type4'][2]]['avg_firing_perSecond'][data_list[data_dict['type4'][1]]['spindle_least20_diff_firing'][0]])],\n",
    "                                                             'Fourth':[np.nanmean(data_list[data_dict['type4'][3]]['avg_firing_perSecond'][data_list[data_dict['type4'][1]]['spindle_least20_diff_firing'][0]])],\n",
    "                                                             'name':data_dict['mouseName'], \n",
    "                                                             'epochID': i}), ignore_index = True)\n",
    "    "
   ]
  },
  {
   "cell_type": "code",
   "execution_count": null,
   "id": "3cf85ae5",
   "metadata": {},
   "outputs": [],
   "source": [
    "### Boxplot\n",
    "df_temp = pd.DataFrame()\n",
    "df_temp = df_typ4_firing.melt(id_vars=['name', 'epochID'], var_name='Pattern', value_name='FiringRate')\n",
    "\n",
    "sns.set(rc={'figure.figsize':(4.4,8.27)})\n",
    "sns.set_style(\"ticks\")\n",
    "g=sns.boxplot(x=\"Pattern\", y=\"FiringRate\",dodge=False,fliersize=3,palette=['limegreen','darkorange','limegreen','darkorange'],linewidth=4,data=df_temp )\n",
    "plt.ylim(0,0.2)\n",
    "if save_file:\n",
    "    df_temp.to_csv(path_or_buf=file_save_add + 'L:/analysis_nima/statistics_epoch_based/Triplet_type4_fr/Type4_fr_spindle_coupled_inactive_awake_sws_awake_sws.csv')\n",
    "if save_fig:\n",
    "    plt.savefig(fig_save_add + 'L:/analysis_nima/epoch_based_analysis/Triplet_type4_fr/awake_sws_awake_sws/Type4_fr_divided_thirds_boxplot_spindle_coupled_inactive.pdf', dpi=300, format='pdf')"
   ]
  },
  {
   "cell_type": "code",
   "execution_count": null,
   "id": "93e7da32",
   "metadata": {
    "scrolled": true
   },
   "outputs": [],
   "source": [
    "df_temp = pd.DataFrame()\n",
    "df_temp = df_typ4_firing.melt(id_vars=['name', 'epochID'], var_name='Pattern', value_name='FiringRate')\n",
    "\n",
    "plt.figure(figsize=(10,7))\n",
    "sns.violinplot(data=df_temp, y='FiringRate', x = 'name', hue='Pattern')\n",
    "plt.ylim([-.05, 0.4])\n",
    "#if save_file:\n",
    "  #  df_temp.to_csv(path_or_buf=file_save_add + 'L:/analysis_nima/statistics_epoch_based/Triplet_type4_fr/Type4_fr_based_on_least_20%_spindle_active.csv')\n",
    "#if save_fig:\n",
    "   # plt.savefig(fig_save_add + 'L:/analysis_nima/epoch_based_analysis/Triplet_type4_fr/Type4_fr_based_on_least_20%_spindle_active.pdf', dpi=300, format='pdf')"
   ]
  },
  {
   "cell_type": "markdown",
   "id": "d99375e6",
   "metadata": {},
   "source": [
    "#### Frequency based on top x% spindle active divided to n"
   ]
  },
  {
   "cell_type": "code",
   "execution_count": null,
   "id": "a893e125",
   "metadata": {},
   "outputs": [],
   "source": [
    "# plotting average firing rate \n",
    "\n",
    "df_typ4_firing = pd.DataFrame()\n",
    "\n",
    "\n",
    "for i, indDict in enumerate(data_list):\n",
    "    if not isinstance(indDict['type4'], int) and (len(data_list[i+1]['spi_osc_data'])):\n",
    "        for ii in range(4):\n",
    "            df_typ4_firing = df_typ4_firing.append(pd.DataFrame({'1th':[np.nanmean(data_list[indDict['type4'][ii]]['div_avg_firing_perSecond'][0][data_list[indDict['type4'][1]]['spindle_top20_diff_firing'][0]])], \n",
    "                                                                 '2th':[np.nanmean(data_list[indDict['type4'][ii]]['div_avg_firing_perSecond'][1][data_list[indDict['type4'][1]]['spindle_top20_diff_firing'][0]])], \n",
    "                                                                 '3th':[np.nanmean(data_list[indDict['type4'][ii]]['div_avg_firing_perSecond'][2][data_list[indDict['type4'][1]]['spindle_top20_diff_firing'][0]])], \n",
    "                                                                 'name':indDict['mouseName'], \n",
    "                                                                 'Pattern': ii+1,\n",
    "                                                                 'epochID': i}), ignore_index = True)\n",
    "    \n"
   ]
  },
  {
   "cell_type": "code",
   "execution_count": null,
   "id": "4b9061f1",
   "metadata": {},
   "outputs": [],
   "source": [
    "df_temp = pd.DataFrame()\n",
    "df_temp = df_typ4_firing.melt(id_vars=['name', 'Pattern', 'epochID'], var_name='levels', value_name='firing_rate')\n",
    "#x=df_temp.groupby([\"name\",\"Pattern\",\"subEpoch\"], as_index=False).agg({\"firing_rate\": np.mean})\n",
    "x = df_temp.groupby(by = [\"Pattern\",\"levels\"], as_index=False).agg(np.median)\n",
    "#x = df_temp[df_temp.Pattern == 1].groupby(by = [\"subEpoch\", \"Pattern\"], as_index=False).agg(np.median)\n",
    "#myGrid = sns.FacetGrid(data=x, aspect=4, ylim=[-.05, 0.3])\n",
    "#myplot = myGrid.map(sns.violinplot, 'Pattern', 'firing_rate', 'subEpoch')\n",
    "#myplot.add_legend()\n",
    "#if save_fig:\n",
    "   # plt.savefig(fig_save_add + 'L:/analysis_nima/epoch_based_analysis/Triplet_type3_fr/Type3_fr_divided_thirds.pdf', dpi=300, format='pdf')\n",
    "\n",
    "#sns.lineplot(x=\"Pattern\", y=\"firing_rate\", hue= \"subEpoch\",err_style='bars', data=x)\n",
    "#sns.pointplot(x=\"Pattern\", y=\"firing_rate\", hue= \"subEpoch\", ylim=[1, 2],data=x)\n",
    "#sns.violinplot(x=\"Pattern\", y=\"firing_rate\", hue=\"subEpoch\",data=x )\n",
    "sns.set(rc={'figure.figsize':(4.4,8.27)})\n",
    "sns.set_style(\"ticks\")\n",
    "g=sns.barplot(x=\"Pattern\", y=\"firing_rate\",color=\"Grey\",data=x )\n",
    "g.set_xticklabels(['Awake','SWSn','REM','SWSn.1'])\n",
    "\n",
    "#sns.catplot(x=\"Pattern\", y=\"firing_rate\", hue= \"subEpoch\",kind=\"point\",height=6, aspect=.75,data=x)\n",
    "#g=sns.PairGrid(x,y_vars=\"firing_rate\",x_vars=[\"SWSn\", \"REM\", \"SWSn+1\", ],\n",
    "             #height=5, aspect=.5)\n",
    "#if save_fig:\n",
    " #   plt.savefig(fig_save_add + 'L:/analysis_nima/epoch_based_analysis/Triplet_type4_fr/Type4_fr_divided_thirds_active_spindle_coupled_bar_plot.pdf', dpi=300, format='pdf')"
   ]
  },
  {
   "cell_type": "code",
   "execution_count": null,
   "id": "b055aa14",
   "metadata": {},
   "outputs": [],
   "source": [
    "###choose pattern to plot####\n",
    "df_temp = pd.DataFrame()\n",
    "df_temp = df_typ4_firing.melt(id_vars=['name', 'Pattern', 'epochID'], var_name='levels', value_name='firing_rate')\n",
    "x = df_temp[df_temp.Pattern == 4].groupby(by = [\"levels\", \"Pattern\"], as_index=False).agg(np.median)\n",
    "ax = plt.gca()\n",
    "#ax.set_facecolor('xkcd:salmon')\n",
    "#ax.set_facecolor((1, 0.47, 0.42)) ####REM####\n",
    "#ax.set_facecolor((0.4,0.6,0.7)) ####SWS####\n",
    "#sns.set(rc={'figure.figsize':(11.7,8.27)})\n",
    "#sns.set()\n",
    "sns.set(rc={'figure.figsize':(4.4,8.27)})\n",
    "sns.set_style(\"ticks\")\n",
    "\n",
    "g=sns.lineplot(x=\"levels\", y=\"firing_rate\", style=\"Pattern\",color='blue',markers=True,err_style='band',legend = False, data=x)\n",
    "g.set_xticklabels(['1st','2nd','3rd'])\n",
    "g.set_title('SWSn+1')\n",
    "g.set(xlabel='levels', ylabel='Mean Frequency Rate')\n",
    "#g.sns.set_style(\"whitegrid\", {'axes.grid' : False})\n",
    "#plt.ylim(0.045,0.062)\n",
    "plt.ylim(0.04,0.13)\n",
    "\n",
    "if save_fig:\n",
    "    plt.savefig(fig_save_add + 'L:/analysis_nima/epoch_based_analysis/Triplet_type4_fr/Type4_fr_divided_thirds_swsn.1_spindle_coupled_active.pdf', dpi=300, format='pdf')"
   ]
  },
  {
   "cell_type": "code",
   "execution_count": null,
   "id": "0d0ac137",
   "metadata": {
    "scrolled": true
   },
   "outputs": [],
   "source": [
    "df_temp = pd.DataFrame()\n",
    "df_temp = df_typ4_firing.melt(id_vars=['name', 'Pattern', 'epochID'], var_name='levels', value_name='firing_rate')\n",
    "\n",
    "myGrid = sns.FacetGrid(data=df_temp, col='name', col_wrap=2, aspect=2, ylim=[-.05, 0.6])\n",
    "myplot = myGrid.map(sns.violinplot, 'Pattern', 'firing_rate', 'levels')\n",
    "myplot.add_legend()\n",
    "if save_file:\n",
    "    df_temp.to_csv(path_or_buf=file_save_add + 'L:/analysis_nima/statistics_epoch_based/Triplet_type4_fr/Type4_fr_based_on_top_20%_divided_thirds_slo_active.csv')\n",
    "if save_fig:\n",
    "    plt.savefig(fig_save_add + 'L:/analysis_nima/epoch_based_analysis/Triplet_type4_fr/Type4_fr_based_on_top_20%_divided_thirds_slo_active.pdf', dpi=300, format='pdf')"
   ]
  },
  {
   "cell_type": "markdown",
   "id": "b563d473",
   "metadata": {},
   "source": [
    "#### Frequency based on least x% spindle active divided to n"
   ]
  },
  {
   "cell_type": "code",
   "execution_count": null,
   "id": "14c47a53",
   "metadata": {},
   "outputs": [],
   "source": [
    "# plotting average firing rate \n",
    "\n",
    "df_typ4_firing = pd.DataFrame()\n",
    "\n",
    "\n",
    "for i, indDict in enumerate(data_list):\n",
    "    if not isinstance(indDict['type4'], int) and (len(data_list[i+1]['spi_osc_data'])):\n",
    "        for ii in range(4):\n",
    "            df_typ4_firing = df_typ4_firing.append(pd.DataFrame({'1th':[np.nanmean(data_list[indDict['type4'][ii]]['div_avg_firing_perSecond'][0][data_list[indDict['type4'][1]]['spindle_least20_diff_firing'][0]])], \n",
    "                                                                 '2th':[np.nanmean(data_list[indDict['type4'][ii]]['div_avg_firing_perSecond'][1][data_list[indDict['type4'][1]]['spindle_least20_diff_firing'][0]])], \n",
    "                                                                 '3th':[np.nanmean(data_list[indDict['type4'][ii]]['div_avg_firing_perSecond'][2][data_list[indDict['type4'][1]]['spindle_least20_diff_firing'][0]])], \n",
    "                                                                 'name':indDict['mouseName'], \n",
    "                                                                 'Pattern': ii+1,\n",
    "                                                                 'epochID': i}), ignore_index = True)\n",
    "    "
   ]
  },
  {
   "cell_type": "code",
   "execution_count": null,
   "id": "080c43d4",
   "metadata": {},
   "outputs": [],
   "source": [
    "df_temp = pd.DataFrame()\n",
    "df_temp = df_typ4_firing.melt(id_vars=['name', 'Pattern', 'epochID'], var_name='levels', value_name='firing_rate')\n",
    "#x=df_temp.groupby([\"name\",\"Pattern\",\"subEpoch\"], as_index=False).agg({\"firing_rate\": np.mean})\n",
    "x = df_temp.groupby(by = [\"Pattern\",\"levels\"], as_index=False).agg(np.median)\n",
    "#x = df_temp[df_temp.Pattern == 1].groupby(by = [\"subEpoch\", \"Pattern\"], as_index=False).agg(np.median)\n",
    "#myGrid = sns.FacetGrid(data=x, aspect=4, ylim=[-.05, 0.3])\n",
    "#myplot = myGrid.map(sns.violinplot, 'Pattern', 'firing_rate', 'subEpoch')\n",
    "#myplot.add_legend()\n",
    "#if save_fig:\n",
    "   # plt.savefig(fig_save_add + 'L:/analysis_nima/epoch_based_analysis/Triplet_type3_fr/Type3_fr_divided_thirds.pdf', dpi=300, format='pdf')\n",
    "\n",
    "#sns.lineplot(x=\"Pattern\", y=\"firing_rate\", hue= \"subEpoch\",err_style='bars', data=x)\n",
    "#sns.pointplot(x=\"Pattern\", y=\"firing_rate\", hue= \"subEpoch\", ylim=[1, 2],data=x)\n",
    "#sns.violinplot(x=\"Pattern\", y=\"firing_rate\", hue=\"subEpoch\",data=x )\n",
    "sns.set(rc={'figure.figsize':(4.4,8.27)})\n",
    "sns.set_style(\"ticks\")\n",
    "g=sns.barplot(x=\"Pattern\", y=\"firing_rate\",color=\"Grey\",data=x )\n",
    "g.set_xticklabels(['Awake','SWSn','REM','SWSn.1'])\n",
    "\n",
    "#sns.catplot(x=\"Pattern\", y=\"firing_rate\", hue= \"subEpoch\",kind=\"point\",height=6, aspect=.75,data=x)\n",
    "#g=sns.PairGrid(x,y_vars=\"firing_rate\",x_vars=[\"SWSn\", \"REM\", \"SWSn+1\", ],\n",
    "             #height=5, aspect=.5)\n",
    "if save_fig:\n",
    "    plt.savefig(fig_save_add + 'L:/analysis_nima/epoch_based_analysis/Triplet_type4_fr/Type4_fr_divided_thirds_inactive_spindle_coupled_bar_plot.pdf', dpi=300, format='pdf')"
   ]
  },
  {
   "cell_type": "code",
   "execution_count": null,
   "id": "d0e5f1ee",
   "metadata": {},
   "outputs": [],
   "source": [
    "###choose pattern to plot####\n",
    "df_temp = pd.DataFrame()\n",
    "df_temp = df_typ4_firing.melt(id_vars=['name', 'Pattern', 'epochID'], var_name='levels', value_name='firing_rate')\n",
    "x = df_temp[df_temp.Pattern == 4].groupby(by = [\"levels\", \"Pattern\"], as_index=False).agg(np.median)\n",
    "ax = plt.gca()\n",
    "#ax.set_facecolor('xkcd:salmon')\n",
    "#ax.set_facecolor((1, 0.47, 0.42)) ####REM####\n",
    "#ax.set_facecolor((0.4,0.6,0.7)) ####SWS####\n",
    "#sns.set(rc={'figure.figsize':(11.7,8.27)})\n",
    "#sns.set()\n",
    "sns.set(rc={'figure.figsize':(4.4,8.27)})\n",
    "sns.set_style(\"ticks\")\n",
    "\n",
    "g=sns.lineplot(x=\"levels\", y=\"firing_rate\", style=\"Pattern\",color='blue',markers=True,err_style='band',legend = False, data=x)\n",
    "g.set_xticklabels(['1st','2nd','3rd'])\n",
    "g.set_title('SWSn+1')\n",
    "g.set(xlabel='levels', ylabel='Mean Frequency Rate')\n",
    "#g.sns.set_style(\"whitegrid\", {'axes.grid' : False})\n",
    "#plt.ylim(0.045,0.062)\n",
    "plt.ylim(0.04,0.15)\n",
    "\n",
    "if save_fig:\n",
    "    plt.savefig(fig_save_add + 'L:/analysis_nima/epoch_based_analysis/Triplet_type4_fr/Type4_fr_divided_thirds_swsn.1_spindle_coupled_inactive.pdf', dpi=300, format='pdf')"
   ]
  },
  {
   "cell_type": "code",
   "execution_count": null,
   "id": "f94605a1",
   "metadata": {
    "scrolled": true
   },
   "outputs": [],
   "source": [
    "df_temp = pd.DataFrame()\n",
    "df_temp = df_typ4_firing.melt(id_vars=['name', 'Pattern', 'epochID'], var_name='levels', value_name='firing_rate')\n",
    "\n",
    "myGrid = sns.FacetGrid(data=df_temp, col='name', col_wrap=2, aspect=2, ylim=[-.05, 0.6])\n",
    "myplot = myGrid.map(sns.violinplot, 'Pattern', 'firing_rate', 'levels')\n",
    "myplot.add_legend()\n",
    "if save_file:\n",
    "    df_temp.to_csv(path_or_buf=file_save_add + 'L:/analysis_nima/statistics_epoch_based/Triplet_type4_fr/Type4_fr_based_on_least_20%_divided_thirds_spindle_active.csv')\n",
    "if save_fig:\n",
    "    plt.savefig(fig_save_add + 'L:/analysis_nima/epoch_based_analysis/Triplet_type4_fr/Type4_fr_based_on_least_20%_divided_thirds_spindle_active.pdf', dpi=300, format='pdf')"
   ]
  },
  {
   "cell_type": "markdown",
   "id": "3c945c51",
   "metadata": {},
   "source": [
    "### Read and write data as JSON file"
   ]
  },
  {
   "cell_type": "code",
   "execution_count": null,
   "id": "acc26f3b",
   "metadata": {},
   "outputs": [],
   "source": [
    "with open('I:/Marco/analysis_nima/allData_JSON/fullData_with_analyses.json', 'w') as wr:\n",
    "    json.dump(data_list , wr, cls=NumpyEncoder)"
   ]
  },
  {
   "cell_type": "code",
   "execution_count": null,
   "id": "45af619b",
   "metadata": {},
   "outputs": [],
   "source": [
    "with open(r\"I:/Marco/analysis_nima/allData_JSON/fullData_with_analyses.json\", \"r\") as read_file:\n",
    "    data_list = json.load(read_file)"
   ]
  },
  {
   "cell_type": "code",
   "execution_count": null,
   "id": "8fcda4fe",
   "metadata": {},
   "outputs": [],
   "source": [
    "# change lists to array\n",
    "[data_dict.update({key: np.asarray(data_dict[key])}) for data_dict in data_list for key in data_dict.keys() if isinstance(data_dict[key], list)];"
   ]
  },
  {
   "cell_type": "code",
   "execution_count": null,
   "id": "c2cdf390",
   "metadata": {},
   "outputs": [],
   "source": []
  }
 ],
 "metadata": {
  "kernelspec": {
   "display_name": "Python 3 (ipykernel)",
   "language": "python",
   "name": "python3"
  },
  "language_info": {
   "codemirror_mode": {
    "name": "ipython",
    "version": 3
   },
   "file_extension": ".py",
   "mimetype": "text/x-python",
   "name": "python",
   "nbconvert_exporter": "python",
   "pygments_lexer": "ipython3",
   "version": "3.8.12"
  }
 },
 "nbformat": 4,
 "nbformat_minor": 5
}
